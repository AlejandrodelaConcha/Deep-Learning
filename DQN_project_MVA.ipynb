{
  "nbformat": 4,
  "nbformat_minor": 0,
  "metadata": {
    "colab": {
      "name": "DQN_project_MVA.ipynb",
      "version": "0.3.2",
      "provenance": [],
      "collapsed_sections": [],
      "include_colab_link": true
    },
    "kernelspec": {
      "display_name": "Python 3",
      "language": "python",
      "name": "python3"
    }
  },
  "cells": [
    {
      "cell_type": "markdown",
      "metadata": {
        "id": "view-in-github",
        "colab_type": "text"
      },
      "source": [
        "<a href=\"https://colab.research.google.com/github/AlejandrodelaConcha/Deep-Learning/blob/master/DQN_project_MVA.ipynb\" target=\"_parent\"><img src=\"https://colab.research.google.com/assets/colab-badge.svg\" alt=\"Open In Colab\"/></a>"
      ]
    },
    {
      "metadata": {
        "id": "ZJUbTmb1O6bD",
        "colab_type": "text"
      },
      "cell_type": "markdown",
      "source": [
        "**You may need to install [OpenCV](https://pypi.python.org/pypi/opencv-python) and [scikit-video](http://www.scikit-video.org/stable/).**"
      ]
    },
    {
      "metadata": {
        "id": "QD1nsgtWO6br",
        "colab_type": "code",
        "outputId": "44f7aca0-76ef-4ac4-e5a8-4e21fd018c06",
        "colab": {
          "base_uri": "https://localhost:8080/",
          "height": 176
        }
      },
      "cell_type": "code",
      "source": [
        "import keras\n",
        "import numpy as np\n",
        "import io\n",
        "import base64\n",
        "from IPython.display import HTML\n",
        "!pip install sk-video\n",
        "import skvideo\n",
        "import skvideo.io\n",
        "import cv2\n",
        "import json\n",
        "import copy\n",
        "\n",
        "\n",
        "from keras.utils import to_categorical\n",
        "from keras.models import Sequential,model_from_json\n",
        "from keras.layers.core import Dense\n",
        "from keras.optimizers import sgd\n",
        "from keras.layers import Conv2D, MaxPooling2D, Activation, AveragePooling2D,Reshape,BatchNormalization,Flatten, Dropout"
      ],
      "execution_count": 1,
      "outputs": [
        {
          "output_type": "stream",
          "text": [
            "Using TensorFlow backend.\n"
          ],
          "name": "stderr"
        },
        {
          "output_type": "stream",
          "text": [
            "Collecting sk-video\n",
            "\u001b[?25l  Downloading https://files.pythonhosted.org/packages/dd/3f/ce848b8b2062ad1ccf1449094a740c775f6c761339f411e44f1e090f23a7/sk_video-1.1.10-py2.py3-none-any.whl (2.3MB)\n",
            "\u001b[K    100% |████████████████████████████████| 2.3MB 6.1MB/s \n",
            "\u001b[?25hRequirement already satisfied: numpy in /usr/local/lib/python3.6/dist-packages (from sk-video) (1.14.6)\n",
            "Requirement already satisfied: scipy in /usr/local/lib/python3.6/dist-packages (from sk-video) (1.1.0)\n",
            "Installing collected packages: sk-video\n",
            "Successfully installed sk-video-1.1.10\n"
          ],
          "name": "stdout"
        }
      ]
    },
    {
      "metadata": {
        "id": "Uu_XipetO6c2",
        "colab_type": "text"
      },
      "cell_type": "markdown",
      "source": [
        "# MiniProject #3: Deep Reinforcement Learning"
      ]
    },
    {
      "metadata": {
        "id": "of59xuJlO6dH",
        "colab_type": "text"
      },
      "cell_type": "markdown",
      "source": [
        "__Notations__: $E_p$ is the expectation under probability $p$. Please justify each of your answer and widely comment your code."
      ]
    },
    {
      "metadata": {
        "id": "a8C4J2zzO6do",
        "colab_type": "text"
      },
      "cell_type": "markdown",
      "source": [
        "# Context"
      ]
    },
    {
      "metadata": {
        "id": "Qgqhzv9bO6d7",
        "colab_type": "text"
      },
      "cell_type": "markdown",
      "source": [
        "In a reinforcement learning algorithm, we modelize each step $t$ as an action $a_t$ obtained from a state $s_t$, i.e. $\\{(a_{t},s_{t})_{t\\leq T}\\}$ having the Markov property. We consider a discount factor $\\gamma \\in [0,1]$ that ensures convergence. The goal is to find among all the policies $\\pi$, one that maximizes the expected reward:\n",
        "\n",
        "\\begin{equation*}\n",
        "R(\\pi)=\\sum_{t\\leq T}E_{p^{\\pi}}[\\gamma^t r(s_{t},a_{t})] \\> ,\n",
        "\\end{equation*}\n",
        "\n",
        "where: \n",
        "\\begin{equation*}p^{\\pi}(a_{0},a_{1},s_{1},...,a_{T},s_{T})=p(a_{0})\\prod_{t=1}^{T}\\pi(a_{t}|s_{t})p(s_{t+1}|s_{t},a_{t}) \\> .\n",
        "\\end{equation*}\n",
        "\n",
        "We note the $Q$-function:\n",
        "\n",
        "\\begin{equation*}Q^\\pi(s,a)=E_{p^{\\pi}}[\\sum_{t\\leq T}\\gamma^{t}r(s_{t},a_{t})|s_{0}=s,a_{0}=a] \\> .\n",
        "\\end{equation*}\n",
        "\n",
        "Thus, the optimal Q function is:\n",
        "\\begin{equation*}\n",
        "Q^*(s,a)=\\max_{\\pi}Q^\\pi(s,a) \\> .\n",
        "\\end{equation*}\n",
        "\n",
        "In this project, we will apply the deep reinforcement learning techniques to a simple game: an agent will have to learn from scratch a policy that will permit it maximizing a reward."
      ]
    },
    {
      "metadata": {
        "id": "6Xupm_rrO6eP",
        "colab_type": "text"
      },
      "cell_type": "markdown",
      "source": [
        "## The environment, the agent and the game"
      ]
    },
    {
      "metadata": {
        "id": "OOW30rAvO6ej",
        "colab_type": "text"
      },
      "cell_type": "markdown",
      "source": [
        "### The environment"
      ]
    },
    {
      "metadata": {
        "id": "b-sOs646O6e_",
        "colab_type": "text"
      },
      "cell_type": "markdown",
      "source": [
        "```Environment``` is an abstract class that represents the states, rewards, and actions to obtain the new state."
      ]
    },
    {
      "metadata": {
        "id": "RZ7ksdK4O6fa",
        "colab_type": "code",
        "colab": {}
      },
      "cell_type": "code",
      "source": [
        "class Environment(object):\n",
        "    def __init__(self):\n",
        "        pass\n",
        "\n",
        "    def act(self, act):\n",
        "        \"\"\"\n",
        "        One can act on the environment and obtain its reaction:\n",
        "        - the new state\n",
        "        - the reward of the new state\n",
        "        - should we continue the game?\n",
        "\n",
        "        :return: state, reward, game_over\n",
        "        \"\"\"\n",
        "        pass\n",
        "\n",
        "\n",
        "    def reset(self):\n",
        "        \"\"\"\n",
        "        Reinitialize the environment to a random state and returns\n",
        "        the original state\n",
        "\n",
        "        :return: state\n",
        "        \"\"\"\n",
        "        pass\n",
        "    \n",
        "    def draw(self):\n",
        "        \"\"\"\n",
        "        Visualize in the console or graphically the current state\n",
        "        \"\"\"\n",
        "        pass"
      ],
      "execution_count": 0,
      "outputs": []
    },
    {
      "metadata": {
        "id": "sw5i_PICO6gP",
        "colab_type": "text"
      },
      "cell_type": "markdown",
      "source": [
        "The method ```act``` allows to act on the environment at a given state $s_t$ (stored internally), via action $a_t$. The method will return the new state $s_{t+1}$, the reward $r(s_{t},a_{t})$ and determines if $t\\leq T$ (*game_over*).\n",
        "\n",
        "The method ```reset``` simply reinitializes the environment to a random state $s_0$.\n",
        "\n",
        "The method ```draw``` displays the current state $s_t$ (this is useful to check the behavior of the Agent).\n",
        "\n",
        "We modelize $s_t$ as a tensor, while $a_t$ is an integer."
      ]
    },
    {
      "metadata": {
        "id": "7GsTYBBFO6gj",
        "colab_type": "text"
      },
      "cell_type": "markdown",
      "source": [
        "### The Agent"
      ]
    },
    {
      "metadata": {
        "id": "FDyKcexBO6g3",
        "colab_type": "text"
      },
      "cell_type": "markdown",
      "source": [
        "The goal of the ```Agent``` is to interact with the ```Environment``` by proposing actions $a_t$ obtained from a given state $s_t$ to attempt to maximize its __reward__ $r(s_t,a_t)$. We propose the following abstract class:"
      ]
    },
    {
      "metadata": {
        "id": "6K1xmFMXO6hI",
        "colab_type": "code",
        "colab": {}
      },
      "cell_type": "code",
      "source": [
        "class Agent(object):\n",
        "    def __init__(self, epsilon=0.1, n_action=4):\n",
        "        self.epsilon = epsilon\n",
        "        self.n_action = n_action\n",
        "    \n",
        "    def set_epsilon(self,e):\n",
        "        self.epsilon = e\n",
        "\n",
        "    def act(self,s,train=True):\n",
        "        \"\"\" This function should return the next action to do:\n",
        "        an integer between 0 and 4 (not included) with a random exploration of epsilon\"\"\"\n",
        "        if train:\n",
        "            if np.random.rand() <= self.epsilon:\n",
        "                a = np.random.randint(0, self.n_action, size=1)[0]\n",
        "            else:\n",
        "                a = self.learned_act(s)\n",
        "        else: # in some cases, this can improve the performance.. remove it if poor performances\n",
        "            a = self.learned_act(s)\n",
        "\n",
        "        return a\n",
        "\n",
        "    def learned_act(self,s):\n",
        "        \"\"\" Act via the policy of the agent, from a given state s\n",
        "        it proposes an action a\"\"\"\n",
        "        pass\n",
        "\n",
        "    def reinforce(self, s, n_s, a, r, game_over_):\n",
        "        \"\"\" This function is the core of the learning algorithm. \n",
        "        It takes as an input the current state s_, the next state n_s_\n",
        "        the action a_ used to move from s_ to n_s_ and the reward r_.\n",
        "        \n",
        "        Its goal is to learn a policy.\n",
        "        \"\"\"\n",
        "        pass\n",
        "\n",
        "    def save(self):\n",
        "        \"\"\" This function returns basic stats if applicable: the\n",
        "        loss and/or the model\"\"\"\n",
        "        pass\n",
        "\n",
        "    def load(self):\n",
        "        \"\"\" This function allows to restore a model\"\"\"\n",
        "        pass"
      ],
      "execution_count": 0,
      "outputs": []
    },
    {
      "metadata": {
        "id": "w3hUQtzCO6iN",
        "colab_type": "text"
      },
      "cell_type": "markdown",
      "source": [
        "***\n",
        "__Question 1__:\n",
        "Explain the function act. Why is ```epsilon``` essential?"
      ]
    },
    {
      "metadata": {
        "id": "JfNRlRUzO6ic",
        "colab_type": "text"
      },
      "cell_type": "markdown",
      "source": [
        "Act is the function that makes the agent to choose an action. With probability epsilon it chooses  at random and with probability 1-epsilon it plays the action which it has learned to be the best in the conditions given at that particular moment. As the agent is not given any information at the beggining, it should explore the environment in order to find the best policy. Epsilon is important cause it allows the agent to do so.\n",
        "\n",
        "Additionally, in many applications the reward that the agent receives after playing an action is not deterministic but it can be a random variable. This can cause that the policy the agent thinks is optimal to be biased since it depends on its previous experiences in which it can have had bad luck. Fixing a  correct value o f epsilon can prevent this to happpen, since the suboptimilaty of the actions can be inferered with a higher confidence when they are tested more often. \n"
      ]
    },
    {
      "metadata": {
        "id": "4M6orWlMO6iy",
        "colab_type": "text"
      },
      "cell_type": "markdown",
      "source": [
        "***\n",
        "### The Game"
      ]
    },
    {
      "metadata": {
        "id": "WoRJNno_O6jN",
        "colab_type": "text"
      },
      "cell_type": "markdown",
      "source": [
        "The ```Agent``` and the ```Environment``` work in an interlaced way as in the following (take some time to understand this code as it is the core of the project)\n",
        "\n",
        "```python\n",
        "\n",
        "epoch = 300\n",
        "env = Environment()\n",
        "agent = Agent()\n",
        "\n",
        "\n",
        "# Number of won games\n",
        "score = 0\n",
        "loss = 0\n",
        "\n",
        "\n",
        "for e in range(epoch):\n",
        "    # At each epoch, we restart to a fresh game and get the initial state\n",
        "    state = env.reset()\n",
        "    # This assumes that the games will end\n",
        "    game_over = False\n",
        "\n",
        "    win = 0\n",
        "    lose = 0\n",
        "    \n",
        "    while not game_over:\n",
        "        # The agent performs an action\n",
        "        action = agent.act(state)\n",
        "\n",
        "        # Apply an action to the environment, get the next state, the reward\n",
        "        # and if the games end\n",
        "        prev_state = state\n",
        "        state, reward, game_over = env.act(action)\n",
        "\n",
        "        # Update the counters\n",
        "        if reward > 0:\n",
        "            win = win + reward\n",
        "        if reward < 0:\n",
        "            lose = lose -reward\n",
        "\n",
        "        # Apply the reinforcement strategy\n",
        "        loss = agent.reinforce(prev_state, state,  action, reward, game_over)\n",
        "\n",
        "    # Save as a mp4\n",
        "    if e % 10 == 0:\n",
        "        env.draw(e)\n",
        "\n",
        "    # Update stats\n",
        "    score += win-lose\n",
        "\n",
        "    print(\"Epoch {:03d}/{:03d} | Loss {:.4f} | Win/lose count {}/{} ({})\"\n",
        "          .format(e, epoch, loss, win, lose, win-lose))\n",
        "    agent.save()\n",
        "```"
      ]
    },
    {
      "metadata": {
        "id": "whXzBKBUO6jc",
        "colab_type": "text"
      },
      "cell_type": "markdown",
      "source": [
        "# The game, *eat cheese*"
      ]
    },
    {
      "metadata": {
        "id": "vOOurFg5O6kO",
        "colab_type": "text"
      },
      "cell_type": "markdown",
      "source": [
        "A rat runs on an island and tries to eat as much as possible. The island is subdivided into $N\\times N$ cells, in which there are cheese (+0.5) and poisonous cells (-1). The rat has a visibility of 2 cells (thus it can see $5^2$ cells). The rat is given a time $T$ to accumulate as much food as possible. It can perform 4 actions: going up, down, left, right. \n",
        "\n",
        "The goal is to code an agent to solve this task that will learn by trial and error. We propose the following environment:"
      ]
    },
    {
      "metadata": {
        "id": "FKdLa_rNO6k2",
        "colab_type": "code",
        "colab": {}
      },
      "cell_type": "code",
      "source": [
        "class Environment(object):\n",
        "    def __init__(self, grid_size=10, max_time=500, temperature=0.1):\n",
        "        grid_size = grid_size+4\n",
        "        self.grid_size = grid_size\n",
        "        self.max_time = max_time\n",
        "        self.temperature = temperature\n",
        "\n",
        "        #board on which one plays\n",
        "        self.board = np.zeros((grid_size,grid_size))\n",
        "        self.position = np.zeros((grid_size,grid_size))\n",
        "\n",
        "        # coordinate of the cat\n",
        "        self.x = 0\n",
        "        self.y = 1\n",
        "\n",
        "        # self time\n",
        "        self.t = 0\n",
        "\n",
        "        self.scale=16\n",
        "\n",
        "        self.to_draw = np.zeros((max_time+2, grid_size*self.scale, grid_size*self.scale, 3))\n",
        "\n",
        "\n",
        "    def draw(self,e):\n",
        "        skvideo.io.vwrite(str(e) + '.mp4', self.to_draw)\n",
        "\n",
        "    def get_frame(self,t):\n",
        "        b = np.zeros((self.grid_size,self.grid_size,3))+128\n",
        "        b[self.board>0,0] = 256\n",
        "        b[self.board < 0, 2] = 256\n",
        "        b[self.x,self.y,:]=256\n",
        "        b[-2:,:,:]=0\n",
        "        b[:,-2:,:]=0\n",
        "        b[:2,:,:]=0\n",
        "        b[:,:2,:]=0\n",
        "        \n",
        "        b =  cv2.resize(b, None, fx=self.scale, fy=self.scale, interpolation=cv2.INTER_NEAREST)\n",
        "\n",
        "        self.to_draw[t,:,:,:]=b\n",
        "\n",
        "\n",
        "    def act(self, action):\n",
        "        \"\"\"This function returns the new state, reward and decides if the\n",
        "        game ends.\"\"\"\n",
        "\n",
        "        self.get_frame(int(self.t))\n",
        "\n",
        "        self.position = np.zeros((self.grid_size, self.grid_size))\n",
        "\n",
        "        self.position[0:2,:]= -1\n",
        "        self.position[:,0:2] = -1\n",
        "        self.position[-2:, :] = -1\n",
        "        self.position[:,-2:] = -1 \n",
        "\n",
        "        self.position[self.x, self.y] = 1\n",
        "        if action == 0:\n",
        "            if self.x == self.grid_size-3:\n",
        "                self.x = self.x-1\n",
        "            else:\n",
        "                self.x = self.x + 1\n",
        "        elif action == 1:\n",
        "            if self.x == 2:\n",
        "                self.x = self.x+1\n",
        "            else:\n",
        "                self.x = self.x-1\n",
        "        elif action == 2:\n",
        "            if self.y == self.grid_size - 3:\n",
        "                self.y = self.y - 1\n",
        "            else:\n",
        "                self.y = self.y + 1\n",
        "        elif action == 3:\n",
        "            if self.y == 2:\n",
        "                self.y = self.y + 1\n",
        "            else:\n",
        "                self.y = self.y - 1\n",
        "        else:\n",
        "            RuntimeError('Error: action not recognized')\n",
        "\n",
        "        self.t = self.t + 1\n",
        "        reward = self.board[self.x, self.y]\n",
        "        self.board[self.x, self.y] = 0\n",
        "        game_over = self.t > self.max_time\n",
        "        state = np.concatenate((self.board.reshape(self.grid_size, self.grid_size,1),\n",
        "                        self.position.reshape(self.grid_size, self.grid_size,1)),axis=2)\n",
        "        state = state[self.x-2:self.x+3,self.y-2:self.y+3,:]\n",
        "\n",
        "        return state, reward, game_over\n",
        "\n",
        "    def reset(self):\n",
        "        \"\"\"This function resets the game and returns the initial state\"\"\"\n",
        "\n",
        "        self.x = np.random.randint(3, self.grid_size-3, size=1)[0]\n",
        "        self.y = np.random.randint(3, self.grid_size-3, size=1)[0]\n",
        "\n",
        "\n",
        "        bonus = 0.5*np.random.binomial(1,self.temperature,size=self.grid_size**2)\n",
        "        bonus = bonus.reshape(self.grid_size,self.grid_size)\n",
        "\n",
        "        malus = -1.0*np.random.binomial(1,self.temperature,size=self.grid_size**2)\n",
        "        malus = malus.reshape(self.grid_size, self.grid_size)\n",
        "\n",
        "        self.to_draw = np.zeros((self.max_time+2, self.grid_size*self.scale, self.grid_size*self.scale, 3))\n",
        "\n",
        "\n",
        "        malus[bonus>0]=0\n",
        "\n",
        "        self.board = bonus + malus\n",
        "\n",
        "        self.position = np.zeros((self.grid_size, self.grid_size))\n",
        "        self.position[0:2,:]= -1\n",
        "        self.position[:,0:2] = -1\n",
        "        self.position[-2:, :] = -1\n",
        "        self.position[:,-2:] = -1\n",
        "        self.board[self.x,self.y] = 0\n",
        "        self.t = 0\n",
        "\n",
        "        state = np.concatenate((\n",
        "                               self.board.reshape(self.grid_size, self.grid_size,1),\n",
        "                        self.position.reshape(self.grid_size, self.grid_size,1)),axis=2)\n",
        "\n",
        "        state = state[self.x - 2:self.x + 3, self.y - 2:self.y + 3, :]\n",
        "        return state"
      ],
      "execution_count": 0,
      "outputs": []
    },
    {
      "metadata": {
        "id": "3CRDSXw8O6lq",
        "colab_type": "text"
      },
      "cell_type": "markdown",
      "source": [
        "The following elements are important because they correspond to the hyper parameters for this project:"
      ]
    },
    {
      "metadata": {
        "id": "uq7-Z0UoO6l6",
        "colab_type": "code",
        "colab": {}
      },
      "cell_type": "code",
      "source": [
        "# parameters\n",
        "size = 13\n",
        "T=200\n",
        "temperature=0.3\n",
        "epochs_train=50 # set small when debugging\n",
        "epochs_test=50 # set small when debugging\n",
        "\n",
        "# display videos\n",
        "def display_videos(name):\n",
        "    video = io.open(name, 'r+b').read()\n",
        "    encoded = base64.b64encode(video)\n",
        "    return '''<video alt=\"test\" controls>\n",
        "                <source src=\"data:video/mp4;base64,{0}\" type=\"video/mp4\" />\n",
        "             </video>'''.format(encoded.decode('ascii'))"
      ],
      "execution_count": 0,
      "outputs": []
    },
    {
      "metadata": {
        "id": "BLrrPd9YO6mu",
        "colab_type": "text"
      },
      "cell_type": "markdown",
      "source": [
        "__Question 2__ Explain the use of the arrays ```position``` and ```board```."
      ]
    },
    {
      "metadata": {
        "id": "S4cFs_4oO6nF",
        "colab_type": "text"
      },
      "cell_type": "markdown",
      "source": [
        "Position is an array of dimension (grid_size+4 , grid_size+4) that is used to keep track of the position of the rat. The cell in which  the rat stays is indicated with the value of 1, the extra  cells  added and  not accessible for the rat are fixed at -1 and the remaining ones with 0.\n",
        "\n",
        "Board is an array of dimension (grid_size+4 , grid_size+4) with information of the position of the cheese (indicated whith 0.5) , the poisonous cells (indicated with 1) and the empty cells (indicated with 0). Once an item is taken by the rat, the corresponding cell is fixed at 0. \n",
        "\n",
        "The state is a list with two arrays, subsets of the board and position matrix with the cells visible for the rat."
      ]
    },
    {
      "metadata": {
        "id": "U8Dm8euTO6nY",
        "colab_type": "text"
      },
      "cell_type": "markdown",
      "source": [
        "## Random Agent"
      ]
    },
    {
      "metadata": {
        "id": "rrJ7k-MCO6nm",
        "colab_type": "text"
      },
      "cell_type": "markdown",
      "source": [
        "***\n",
        "__Question 3__ Implement a random Agent (only ```learned_act``` needs to be implemented):"
      ]
    },
    {
      "metadata": {
        "id": "yz5C2cxqO6n0",
        "colab_type": "code",
        "colab": {}
      },
      "cell_type": "code",
      "source": [
        "class RandomAgent(Agent):\n",
        "    def __init__(self):\n",
        "        super(RandomAgent, self).__init__()\n",
        "        pass\n",
        "\n",
        "    def learned_act(self, s):\n",
        "        a=np.random.randint(0,self.n_action,size=1)[0] #### Take action at random\n",
        "        return(a)       "
      ],
      "execution_count": 0,
      "outputs": []
    },
    {
      "metadata": {
        "id": "BJSPrpXDO6om",
        "colab_type": "text"
      },
      "cell_type": "markdown",
      "source": [
        "***\n",
        "***\n",
        "__Question 4__ Visualize the game moves. You need to fill in the following function for the evaluation:"
      ]
    },
    {
      "metadata": {
        "id": "v1XlN_hIEX3c",
        "colab_type": "text"
      },
      "cell_type": "markdown",
      "source": [
        "In this question we can visualize how a strategy which never exploit the information it gets from the game will never converge to an optimal solution."
      ]
    },
    {
      "metadata": {
        "id": "jojSKs-3O6o3",
        "colab_type": "code",
        "colab": {}
      },
      "cell_type": "code",
      "source": [
        "def test(agent,env,epochs,prefix=''):\n",
        "    # Number of won games\n",
        "    score = 0\n",
        "        \n",
        "    for e in range(epochs):\n",
        "        print(e)\n",
        "        \n",
        "        ##### FILL IN HERE\n",
        "        state=env.reset()\n",
        "        game_over=False \n",
        "        \n",
        "        win=0\n",
        "        lose=0\n",
        "        \n",
        "        while not game_over:\n",
        "            action=agent.learned_act(state)\n",
        "            \n",
        "            prev_state = state\n",
        "            state, reward, game_over = env.act(action)    \n",
        "        \n",
        "            if reward>0:\n",
        "                win+=reward\n",
        "            else:\n",
        "                lose=lose-reward\n",
        "            \n",
        "            \n",
        "        \n",
        "        # Save as a mp4\n",
        "        env.draw(prefix+str(e))\n",
        "\n",
        "        # Update stats\n",
        "        score += win-lose\n",
        "\n",
        "        print(\"Win/lose count {}/{}. Average score ({})\"\n",
        "              .format(win, lose, score/(1+e)))\n",
        "    print('Final score: '+str(score/epochs))"
      ],
      "execution_count": 0,
      "outputs": []
    },
    {
      "metadata": {
        "id": "8AsNvkUsO6p3",
        "colab_type": "code",
        "outputId": "85dc10d0-6bb3-408c-96fa-67db6980a250",
        "colab": {
          "base_uri": "https://localhost:8080/",
          "height": 1922
        }
      },
      "cell_type": "code",
      "source": [
        "# Initialize the game\n",
        "env = Environment(grid_size=size, max_time=T,temperature=temperature)\n",
        "\n",
        "# Initialize the agent!\n",
        "agent = RandomAgent()\n",
        "\n",
        "test(agent,env,epochs_test,prefix='random')\n",
        "HTML(display_videos('random0.mp4'))"
      ],
      "execution_count": 8,
      "outputs": [
        {
          "output_type": "stream",
          "text": [
            "0\n",
            "Win/lose count 12.0/12.0. Average score (0.0)\n",
            "1\n",
            "Win/lose count 13.0/11.0. Average score (1.0)\n",
            "2\n",
            "Win/lose count 6.5/13.0. Average score (-1.5)\n",
            "3\n",
            "Win/lose count 9.0/15.0. Average score (-2.625)\n",
            "4\n",
            "Win/lose count 8.5/15.0. Average score (-3.4)\n",
            "5\n",
            "Win/lose count 6.5/10.0. Average score (-3.4166666666666665)\n",
            "6\n",
            "Win/lose count 7.5/16.0. Average score (-4.142857142857143)\n",
            "7\n",
            "Win/lose count 6.5/13.0. Average score (-4.4375)\n",
            "8\n",
            "Win/lose count 6.5/7.0. Average score (-4.0)\n",
            "9\n",
            "Win/lose count 11.5/15.0. Average score (-3.95)\n",
            "10\n",
            "Win/lose count 7.5/11.0. Average score (-3.909090909090909)\n",
            "11\n",
            "Win/lose count 9.0/10.0. Average score (-3.6666666666666665)\n",
            "12\n",
            "Win/lose count 12.5/11.0. Average score (-3.269230769230769)\n",
            "13\n",
            "Win/lose count 13.0/15.0. Average score (-3.1785714285714284)\n",
            "14\n",
            "Win/lose count 9.5/13.0. Average score (-3.2)\n",
            "15\n",
            "Win/lose count 6.5/16.0. Average score (-3.59375)\n",
            "16\n",
            "Win/lose count 14.0/21.0. Average score (-3.7941176470588234)\n",
            "17\n",
            "Win/lose count 9.5/9.0. Average score (-3.5555555555555554)\n",
            "18\n",
            "Win/lose count 10.0/18.0. Average score (-3.789473684210526)\n",
            "19\n",
            "Win/lose count 4.5/12.0. Average score (-3.975)\n",
            "20\n",
            "Win/lose count 11.5/16.0. Average score (-4.0)\n",
            "21\n",
            "Win/lose count 4.5/11.0. Average score (-4.113636363636363)\n",
            "22\n",
            "Win/lose count 8.0/8.0. Average score (-3.9347826086956523)\n",
            "23\n",
            "Win/lose count 11.5/21.0. Average score (-4.166666666666667)\n",
            "24\n",
            "Win/lose count 14.5/21.0. Average score (-4.26)\n",
            "25\n",
            "Win/lose count 10.5/12.0. Average score (-4.153846153846154)\n",
            "26\n",
            "Win/lose count 13.5/18.0. Average score (-4.166666666666667)\n",
            "27\n",
            "Win/lose count 9.5/15.0. Average score (-4.214285714285714)\n",
            "28\n",
            "Win/lose count 9.5/10.0. Average score (-4.086206896551724)\n",
            "29\n",
            "Win/lose count 12.0/11.0. Average score (-3.9166666666666665)\n",
            "30\n",
            "Win/lose count 12.0/23.0. Average score (-4.145161290322581)\n",
            "31\n",
            "Win/lose count 9.5/8.0. Average score (-3.96875)\n",
            "32\n",
            "Win/lose count 9.0/19.0. Average score (-4.151515151515151)\n",
            "33\n",
            "Win/lose count 9.0/3.0. Average score (-3.8529411764705883)\n",
            "34\n",
            "Win/lose count 10.0/16.0. Average score (-3.914285714285714)\n",
            "35\n",
            "Win/lose count 12.5/20.0. Average score (-4.013888888888889)\n",
            "36\n",
            "Win/lose count 13.0/20.0. Average score (-4.094594594594595)\n",
            "37\n",
            "Win/lose count 10.0/16.0. Average score (-4.144736842105263)\n",
            "38\n",
            "Win/lose count 7.0/8.0. Average score (-4.064102564102564)\n",
            "39\n",
            "Win/lose count 11.0/16.0. Average score (-4.0875)\n",
            "40\n",
            "Win/lose count 12.5/13.0. Average score (-4.0)\n",
            "41\n",
            "Win/lose count 11.5/14.0. Average score (-3.9642857142857144)\n",
            "42\n",
            "Win/lose count 11.0/15.0. Average score (-3.9651162790697674)\n",
            "43\n",
            "Win/lose count 10.0/12.0. Average score (-3.9204545454545454)\n",
            "44\n",
            "Win/lose count 10.0/10.0. Average score (-3.8333333333333335)\n",
            "45\n",
            "Win/lose count 4.5/10.0. Average score (-3.869565217391304)\n",
            "46\n",
            "Win/lose count 9.5/8.0. Average score (-3.75531914893617)\n",
            "47\n",
            "Win/lose count 7.0/12.0. Average score (-3.78125)\n",
            "48\n",
            "Win/lose count 11.5/11.0. Average score (-3.693877551020408)\n",
            "49\n",
            "Win/lose count 12.5/11.0. Average score (-3.59)\n",
            "Final score: -3.59\n"
          ],
          "name": "stdout"
        },
        {
          "output_type": "execute_result",
          "data": {
            "text/html": [
              "<video alt=\"test\" controls>\n",
              "                <source src=\"data:video/mp4;base64,AAAAIGZ0eXBpc29tAAACAGlzb21pc28yYXZjMW1wNDEAAAAIZnJlZQAAGG9tZGF0AAACrQYF//+p3EXpvebZSLeWLNgg2SPu73gyNjQgLSBjb3JlIDE1MiByMjg1NCBlOWE1OTAzIC0gSC4yNjQvTVBFRy00IEFWQyBjb2RlYyAtIENvcHlsZWZ0IDIwMDMtMjAxNyAtIGh0dHA6Ly93d3cudmlkZW9sYW4ub3JnL3gyNjQuaHRtbCAtIG9wdGlvbnM6IGNhYmFjPTEgcmVmPTMgZGVibG9jaz0xOjA6MCBhbmFseXNlPTB4MToweDExMSBtZT1oZXggc3VibWU9NyBwc3k9MSBwc3lfcmQ9MS4wMDowLjAwIG1peGVkX3JlZj0xIG1lX3JhbmdlPTE2IGNocm9tYV9tZT0xIHRyZWxsaXM9MSA4eDhkY3Q9MCBjcW09MCBkZWFkem9uZT0yMSwxMSBmYXN0X3Bza2lwPTEgY2hyb21hX3FwX29mZnNldD00IHRocmVhZHM9MyBsb29rYWhlYWRfdGhyZWFkcz0xIHNsaWNlZF90aHJlYWRzPTAgbnI9MCBkZWNpbWF0ZT0xIGludGVybGFjZWQ9MCBibHVyYXlfY29tcGF0PTAgY29uc3RyYWluZWRfaW50cmE9MCBiZnJhbWVzPTMgYl9weXJhbWlkPTIgYl9hZGFwdD0xIGJfYmlhcz0wIGRpcmVjdD0xIHdlaWdodGI9MSBvcGVuX2dvcD0wIHdlaWdodHA9MiBrZXlpbnQ9MjUwIGtleWludF9taW49MjUgc2NlbmVjdXQ9NDAgaW50cmFfcmVmcmVzaD0wIHJjX2xvb2thaGVhZD00MCByYz1jcmYgbWJ0cmVlPTEgY3JmPTIzLjAgcWNvbXA9MC42MCBxcG1pbj0wIHFwbWF4PTY5IHFwc3RlcD00IGlwX3JhdGlvPTEuNDAgYXE9MToxLjAwAIAAAALAZYiEADP//vaG+BTYUyP+T7/8I/+5H7cfWfrixkIJvrVeQ9GAMl8a/5lGYaXpyc8t7R+vTNAEZz6HlLJIofgUkwDfMsjnE+I06ctmnylTgsspTsqb8qLE4XN0zSJXeqdHdVVisw1Qa7n4gKsaWzB1+yCz9IbXLifzPlNcgqb2a8LU6DoviXkacxpoAfeIlQTCJJRKGuR0TLM8dJ4Vx2sfoMhYKKfGndtYKQGpqnRDVgxBn45/p4jUtQErY/rXs/CLmcISANhinuPMBYFPOBeJ4uPyoH2tkxTn1EwjWk10JACNBYlkAV45ReAEJz0M0Sq+a2iA8Hgyhq5ye9wr0wyQjBPzXLmidHV5wuiH5pHTP+1m8upQIKJlPIJQkgHdVk0sFTKoDEQJEWH9tiPkh1v7cwpmPbntuX/NcX24sZlBmJs+lWwj/4nXH0I7uxnR4wdsPy1A/qVCewAoHE45NTGY5xdtAsegCkg3nwTZEOKYFDTIIaHeUBLtl7x3Sr1C4jsgYWTYudNED9fz4swkhxiafgc5oSgYH3kIJkOBqnBwfsj7pUuzB8wSr+tN09gM88UdzULKBgJ6BEfH7s1OGH4VulQJQAlCfOUeJP+ha5G0w8FuMXK8+gMQwhWb5CZDQb5halVgRZ/pAp4BBqs2FT5S4hd7i6PfKJYx7Gj9eSc5EFpG1UlDVuaU0pC5EAN4oSomlBbCs2uB8it76DaBYoYhF8OkdhHgdfCeKyMEPM89ZxSPG5/p6SvMB8NxY36Nzj+wWZyev9PHh0IihO8vYE0AQfQzYitMxX2UiiOpiTRRRSn4TPXCyM5QRGgfsqovi1bhGBcKC6gQOC2jhR6E74drRwFQdLnA3ryv14kX8UM3mKEkMUb5JzhQOE7OkZLSxJ5QwD4Fk9GtdG+1SCHVJNh4ljfbqocA46GubKmxbgAAkYEAAAATQZohbEN//qeEAAzcgpBCJ/lvYQAAABhBmkI8IZMphDf//qeEABPfRP9VvmPxVMEAAAAcQZpkSeEPJlMFPDf//qeEAB2geJrjVEv0T/IoKAAAABABnoNqQr8AGSBY17zSs7JBAAAAGUGahUnhDyZTAh3//qmWAA7/tLwtQT+wOaEAAAAcQZqpSeEPJlMCG//+p4QAHR+AwD+/rSuBbotpsQAAABBBnsdFETwv/wARXP3OFlkJAAAADwGe5nRCvwAX5JqerO/1wAAAABABnuhqQr8AGIZua48VbVFgAAAAGUGa7EmoQWiZTAhn//6eEABLviHnW6Bkiw0AAAASQZ8KRREsK/8AGIhpd3f0iyXAAAAADgGfK2pCvwAYglxmDgkuAAAAGkGbLUmoQWyZTAhv//6nhAAS746fUcaEh1lBAAAAGUGbTknhClJlMCG//qeEAAxPsH+E4LdCtEEAAAAfQZtwSeEOiZTBTRMO//6plgAD6+0v7FgOiBbibS5yswAAABABn49qQr8ABnCZJpvpIPVwAAAAHUGblEnhDyZTAhv//qeEAAVH40/iLZBq2YoSKQSAAAAAEEGfskURPC//AAMkq0bSfy0AAAAPAZ/RdEK/AAQ20YuA/PnAAAAAEAGf02pCvwAENk+c60MMQUAAAAAaQZvXSahBaJlMCG///qeEAAUb0T/Vb5j8kkEAAAARQZ/1RREsK/8ABBdnf9HJFtUAAAAOAZ4WakK/AAQXZ65r21UAAAAZQZoYSahBbJlMCG///qeEAAUj3U4/w+rckwAAABlBmjlJ4QpSZTAh3/6plgAChe+rKrM2zFfAAAAAHEGaXUnhDomUwIb//qeEAAeVYCzbjN7qeo0s5E0AAAARQZ57RRE8L/8ABJc/Zt+wSngAAAAPAZ6adEK/AAPiXoDJLwuBAAAAEAGenGpCvwAGSdqW4bNrJoEAAAAaQZqeSahBaJlMCHf//qmWAAPmOn5TRj9ah8AAAAAdQZqiSeEKUmUwId/+qZYABAfjz8ul5VnRAtxrPIAAAAAQQZ7ARTRML/8ABNZ77dXjJwAAAA8Bnv90Qr8ABpnk3nnGYIAAAAAQAZ7hakK/AAZwmSab6SD1cQAAABNBmuZJqEFomUwId//+qZYAAJWAAAAAEEGfBEURLC//AAS30EWOA58AAAAQAZ8jdEK/AAZyTQifFmKcmQAAABABnyVqQr8ABpmbmuPFW3thAAAAGkGbKUmoQWyZTAh3//6plgACt6WVxml/bFFBAAAAEUGfR0UVLCv/AARXYrBISuFmAAAADgGfaGpCvwAEV2TFcCyYAAAAGUGbbEmoQWyZTAh3//6plgACyaWVnFacvOEAAAASQZ+KRRUsK/8ABHdivYWC/XeAAAAADgGfq2pCvwAEd2THnBY8AAAAK0GbsEmoQWyZTAh3//6plgAEZ+R4jOBTSJtvAo4WXgUv7Tf7zsWfxR+7n4EAAAARQZ/ORRUsL/8ABUKBBShRECkAAAAPAZ/tdEK/AAR20YuA/PXBAAAAEAGf72pCvwAHFZ4F1+sU0MAAAAAtQZv0SahBbJlMCG///qeEAAkqALN070uhifj9hk3zgU2T7P8Cma4g+BRJ8VosAAAAFUGeEkUVLC//AAWJNn5m3x+drC2I4QAAABABnjF0Qr8AB24lDEajgEVAAAAAEAGeM2pCvwAHbCJmm+kg8nAAAAAeQZo3SahBbJlMCG///qeEAAl30ugx/6aORxmfAFJhAAAAEkGeVUUVLCv/AAeZ+B0JLC3MQAAAAA4BnnZqQr8AB5ggWYOEBwAAABlBmnhJqEFsmUwIb//+p4QABf/YPXsz4IxNAAAAGEGam0nhClJlMCGf/p4QACKnCOfw5zfYcgAAABJBnrlFNEwr/wAHQZ30LckWI4EAAAAOAZ7aakK/AAdBni1r2I4AAAAaQZrcSahBaJlMCG///qeEAA3NIn+q3zH4u6EAAAAXQZr9SeEKUmUwIb/+p4QADc2k98MCNwsAAAAYQZsASeEOiZTAhv/+p4QADY+wevZnwRcBAAAAD0GfPkURPCv/AAsTW4cNwAAAAA0Bn19qQr8ACxcpFvhvAAAAGkGbQUmoQWiZTAh3//6plgAGq+FGVWZtmEDAAAAAG0GbZUnhClJlMCHf/qmWAAaD2l/X9VqFkKXRfwAAABBBn4NFNEwv/wAHl/h661ZAAAAAEAGfonRCvwAKgmtGSW/2KkEAAAAPAZ+kakK/AAo8bXd93y7BAAAAHEGbqEmoQWiZTAh3//6plgAEJ+PPy6Xq8CDcRJ0AAAARQZ/GRREsK/8ABsGbmuPe9gMAAAAOAZ/nakK/AAbAkM9EWcIAAAATQZvsSahBbJlMCHf//qmWAACVgAAAAAxBngpFFSwv/wAAsoEAAAAQAZ4pdEK/AAQpUjvwAfddwAAAABABnitqQr8ABClSO9nj7ruAAAAAHEGaMEmoQWyZTAhv//6nhAAIKPmamzbjN7qfHXUAAAAVQZ5ORRUsL/8ABPqBBPNiG7pnLbS5AAAAEAGebXRCvwAEV3HeVsofLYEAAAAQAZ5vakK/AAbB2o5X9uI5wAAAABpBmnFJqEFsmUwId//+qZYABECjnWh6vvlRwAAAABpBmpVJ4QpSZTAh3/6plgAGewOEm5p6MfpuCQAAABBBnrNFNEwv/wAHmTqN7BikAAAADwGe0nRCvwAKz0A6E5Mq4AAAABABntRqQr8ACoWRCbjPr1a5AAAAGUGa2UmoQWiZTAhv//6nhAAM77B/nlFB4wwAAAAQQZ73RREsL/8AB5f4q8jLoQAAABABnxZ0Qr8ACoJ1J5X5KcVxAAAADwGfGGpCvwAG6sQPJglDgAAAABpBmxpJqEFsmUwId//+qZYABEfjzpZ0dTzRwQAAABFBmz5J4QpSZTAhv/6nhAABJwAAAAxBn1xFNEwv/wAAsoEAAAAQAZ97dEK/AAavOTiOy7N5gQAAAA8Bn31qQr8ABq85N1nq0LcAAAASQZtiSahBaJlMCG///qeEAAEnAAAAFEGfgEURLC//AATqkLzXxx9FlKr5AAAAEAGfv3RCvwAGwAADJLf7OEAAAAAQAZ+hakK/AAbB2pbhs2sYgQAAABlBm6NJqEFsmUwIb//+p4QACGj5jyMT/LgxAAAAGUGbxEnhClJlMCHf/qmWAAaipBmgD0l9lXEAAAAbQZvoSeEOiZTAhv/+p4QAFI+NP4i2XUq2AUFhAAAAEUGeBkURPC//AAxAiqDLVwtxAAAADwGeJXRCvwAQYQB0JyYrQQAAABABnidqQr8ACstfOdaGF+vAAAAAHEGaKkmoQWiZTBTw3/6nhAAMi6tmJ/q7e6n7YGgAAAAQAZ5JakK/AAqCjRMiaVoSwQAAABlBmktJ4QpSZTAh3/6plgAGW9peFqCf2ETAAAAAEUGab0nhDomUwIb//qeEAAEnAAAADEGejUURPC//AACygQAAABABnqx0Qr8ADzWKxefwOXHBAAAAEAGermpCvwAPMahz/Mt4UkEAAAAcQZqxSahBaJlMFPDf/qeEAAxPsH+eQVqmQkXGqAAAABABntBqQr8ACfNyGH0BIO6oAAAAHEGa00nhClJlMFLDv/6plgAEB+PP5mhUC0UxEEsAAAAQAZ7yakK/AAbBm5rjxVt6IAAAABFBmvdJ4Q6JlMCG//6nhAABJwAAAAxBnxVFFTwv/wAAsoEAAAAQAZ80dEK/AARJUjvwAfdbQAAAAA8BnzZqQr8ABElSN1nq0X8AAAAcQZs5SahBaJlMFPDv/qmWAAK776vvRNTqEG4Q3wAAAA8Bn1hqQr8ABFZW6UaQ81YAAAAYQZtdSeEKUmUwId/+qZYAArgTo/32l959AAAAEEGfe0U0TC//AAM4q7v87rAAAAAPAZ+adEK/AALFGEBkl6uBAAAADwGfnGpCvwAEV2I8mB6+1wAAABJBm4FJqEFomUwIb//+p4QAAScAAAATQZ+/RREsL/8ABNY+fRYruLR/LgAAABABn950Qr8ABsLKu5DZUq4xAAAAEAGfwGpCvwAGwZua48VbeiAAAAAaQZvDSahBbJlMFEw3//6nhAAH7Tw7Xjp9st0AAAAQAZ/iakK/AAbAFjXvNK0jwAAAABtBm+dJ4QpSZTAhn/6eEAAvq+64jn9I6+/praEAAAAQQZ4FRTRML/8AB0E6jewY+QAAAA8BniR0Qr8ACj9AOhOTLsEAAAAQAZ4makK/AAn1kQm4z69XSQAAABpBmihJqEFomUwIb//+p4QADE+wf4Tgt0K0QAAAAB1BmkpJ4QpSZTBREsN//qeEAAfL2D/OU68KNbmVzAAAAA8BnmlqQr8ABnCWlSKBLIMAAAAZQZprSeEOiZTAhv/+p4QABP/dT9RxoSIUQAAAABlBmoxJ4Q8mUwId//6plgABoPaXhagn9kLAAAAAG0GasEnhDyZTAh3//qmWAAJgUdQgzQKfRj9QRQAAABBBns5FETwv/wAC10CK0pF9AAAADwGe7XRCvwAD42KxhCsfwQAAABABnu9qQr8AA8zPmN0OSEB4AAAAHEGa9EmoQWiZTAhv//6nhAAHEB4muNUS/RP8k8gAAAAVQZ8SRREsL/8ABHceOmcW10gFzM+pAAAADwGfMXRCvwAGIks3Bsl6VwAAAA8BnzNqQr8ABiCL5m2ZHIcAAAAfQZs2SahBbJlMFEw7//6plgAIgiya8YhLozf12YeBBQAAABABn1VqQr8ADdO1HK/txCnAAAAAG0GbWknhClJlMCG//qeEABDvjp91pZmpt0W7CQAAABBBn3hFNEwv/wAKPQIrSi/5AAAADwGfl3RCvwAVnoB0JyYW4AAAABABn5lqQr8ADdEyTTfSQdXxAAAAGkGbnkmoQWiZTAhn//6eEABDviHplWD6PLtoAAAAEEGfvEURLC//AAqDHkFXh60AAAAPAZ/bdEK/AA4tisYQq6FBAAAAEAGf3WpCvwAOJzhr3mlZ98AAAAAZQZvfSahBbJlMCGf//p4QAGbkMc/hzm+uAQAAABlBm+BJ4QpSZTAhv/6nhAAo3on+q3zH4lJBAAAAGEGaAUnhDomUwIb//qeEACn4rSCET/LcKwAAABVBmiVJ4Q8mUwIZ//6eEAD5evv6Ig8AAAAOQZ5DRRE8L/8AJrQAemAAAAAQAZ5idEK/ADTWVd1fjvANIQAAAA8BnmRqQr8AIq80QWo8vD8AAAAZQZpmSahBaJlMCGf//p4QAKfXuNC6b7rfTQAAABlBmodJ4QpSZTAhv/6nhAArXup+o40JDk3BAAAAGUGaqEnhDomUwIb//qeEABu/YP8JwW6E58AAAAAeQZrKSeEPJlMFETw3//6nhAAS0fc9JO42Qwf6tZigAAAAEAGe6WpCvwAPMzB5LmfJtYEAAAARQZruSeEPJlMCGf/+nhAABHwAAAATQZ8MRRE8L/8AC15LcpmPmIitLgAAABABnyt0Qr8ADy8WZ5X5Kb9JAAAAEAGfLWpCvwAPhzhr3mlZ78EAAAAZQZsvSahBaJlMCGf//p4QAHEKcc/hzm+t2wAAABtBm1BJ4QpSZTAhn/6eEACw8GOfw58QFM/Wr0AAAAAZQZtxSeEOiZTAhv/+p4QALnitHR9xswWHcAAAABlBm5JJ4Q8mUwIb//6nhABHUAWbbZ9nzVBBAAAAHEGbtUnhDyZTAhn//p4QAbv19+m16fXG3d1qT/wAAAASQZ/TRRE8K/8AXSxDyxrPFXyKAAAAEAGf9GpCvwBdKUbzTFW0nCEAAAAZQZv2SahBaJlMCG///qeEAEtHzHkYn+W3TQAAAB5BmhhJ4QpSZTBREsN//qeEAEtH3PZjeJ6C5b1TVGEAAAAQAZ43akK/ADzBAfAfX8B0MQAAABhBmjlJ4Q6JlMCG//6nhAAv/sHr2Z8EWG0AAAAZQZpaSeEPJlMCHf/+qZYAF499WVWZtmBKwQAAABxBmn5J4Q8mUwIb//6nhABFvjpj/E1xqiD5vC/SAAAAE0GenEURPC//ACspv9NFY6fBlfEAAAAQAZ67dEK/ADoRVqvAiu4ygQAAAA8Bnr1qQr8AOgClM2zI14EAAAAcQZqiSahBaJlMCG///qeEAEO+On2q82qIyMgRJAAAABBBnsBFESwv/wAo9AJV2KIVAAAADwGe/3RCvwA3STU9Wd+IwAAAABABnuFqQr8AN0S2nXgCf7GBAAAAGkGa40moQWyZTAhv//6nhAAcb2D/CcFuhOVAAAAAG0GbB0nhClJlMCGf/p4QAEe+If4xXcjdmwraYQAAABBBnyVFNEwv/wALEyxUIL0xAAAAEAGfRHRCvwAO1xZnlfkpv5kAAAAPAZ9GakK/AAn3KB5MEi+BAAAAG0GbSUuoQhBaJEYIKAfyAf2HgFPCv/44QAARcAAAACYBn2hqQr8Cr2PtQcTdqsNJJuWqhgcstbvNKiCh17m3XlaVDMgRsAAAC8htb292AAAAbG12aGQAAAAAAAAAAAAAAAAAAAPoAAAfkAABAAABAAAAAAAAAAAAAAAAAQAAAAAAAAAAAAAAAAAAAAEAAAAAAAAAAAAAAAAAAEAAAAAAAAAAAAAAAAAAAAAAAAAAAAAAAAAAAAAAAAACAAAK8nRyYWsAAABcdGtoZAAAAAMAAAAAAAAAAAAAAAEAAAAAAAAfkAAAAAAAAAAAAAAAAAAAAAAAAQAAAAAAAAAAAAAAAAAAAAEAAAAAAAAAAAAAAAAAAEAAAAABEAAAARAAAAAAACRlZHRzAAAAHGVsc3QAAAAAAAAAAQAAH5AAAAQAAAEAAAAACmptZGlhAAAAIG1kaGQAAAAAAAAAAAAAAAAAADIAAAGUAFXEAAAAAAAtaGRscgAAAAAAAAAAdmlkZQAAAAAAAAAAAAAAAFZpZGVvSGFuZGxlcgAAAAoVbWluZgAAABR2bWhkAAAAAQAAAAAAAAAAAAAAJGRpbmYAAAAcZHJlZgAAAAAAAAABAAAADHVybCAAAAABAAAJ1XN0YmwAAACVc3RzZAAAAAAAAAABAAAAhWF2YzEAAAAAAAAAAQAAAAAAAAAAAAAAAAAAAAABEAEQAEgAAABIAAAAAAAAAAEAAAAAAAAAAAAAAAAAAAAAAAAAAAAAAAAAAAAAAAAAAAAY//8AAAAvYXZjQwH0AA3/4QAXZ/QADZGbKCIR0IAAAAMAgAAAGQeKFMsBAAVo6+PESAAAABhzdHRzAAAAAAAAAAEAAADKAAACAAAAABRzdHNzAAAAAAAAAAEAAAABAAAFoGN0dHMAAAAAAAAAsgAAAAMAAAQAAAAAAQAABgAAAAABAAACAAAAAAEAAAQAAAAAAQAACgAAAAABAAAEAAAAAAEAAAAAAAAAAQAAAgAAAAABAAAIAAAAAAIAAAIAAAAAAgAABAAAAAABAAAGAAAAAAEAAAIAAAAAAQAACgAAAAABAAAEAAAAAAEAAAAAAAAAAQAAAgAAAAABAAAIAAAAAAIAAAIAAAAAAgAABAAAAAABAAAKAAAAAAEAAAQAAAAAAQAAAAAAAAABAAACAAAAAAEAAAQAAAAAAQAACgAAAAABAAAEAAAAAAEAAAAAAAAAAQAAAgAAAAABAAAKAAAAAAEAAAQAAAAAAQAAAAAAAAABAAACAAAAAAEAAAgAAAAAAgAAAgAAAAABAAAIAAAAAAIAAAIAAAAAAQAACgAAAAABAAAEAAAAAAEAAAAAAAAAAQAAAgAAAAABAAAKAAAAAAEAAAQAAAAAAQAAAAAAAAABAAACAAAAAAEAAAgAAAAAAgAAAgAAAAABAAAEAAAAAAEAAAgAAAAAAgAAAgAAAAACAAAEAAAAAAEAAAgAAAAAAgAAAgAAAAABAAAEAAAAAAEAAAoAAAAAAQAABAAAAAABAAAAAAAAAAEAAAIAAAAAAQAACAAAAAACAAACAAAAAAEAAAoAAAAAAQAABAAAAAABAAAAAAAAAAEAAAIAAAAAAQAACgAAAAABAAAEAAAAAAEAAAAAAAAAAQAAAgAAAAABAAAEAAAAAAEAAAoAAAAAAQAABAAAAAABAAAAAAAAAAEAAAIAAAAAAQAACgAAAAABAAAEAAAAAAEAAAAAAAAAAQAAAgAAAAABAAAEAAAAAAEAAAoAAAAAAQAABAAAAAABAAAAAAAAAAEAAAIAAAAAAQAACgAAAAABAAAEAAAAAAEAAAAAAAAAAQAAAgAAAAACAAAEAAAAAAEAAAoAAAAAAQAABAAAAAABAAAAAAAAAAEAAAIAAAAAAQAABgAAAAABAAACAAAAAAEAAAQAAAAAAQAACgAAAAABAAAEAAAAAAEAAAAAAAAAAQAAAgAAAAABAAAGAAAAAAEAAAIAAAAAAQAABgAAAAABAAACAAAAAAEAAAoAAAAAAQAABAAAAAABAAAAAAAAAAEAAAIAAAAAAQAABgAAAAABAAACAAAAAAEAAAoAAAAAAQAABAAAAAABAAAAAAAAAAEAAAIAAAAAAQAACgAAAAABAAAEAAAAAAEAAAAAAAAAAQAAAgAAAAABAAAGAAAAAAEAAAIAAAAAAQAACgAAAAABAAAEAAAAAAEAAAAAAAAAAQAAAgAAAAABAAAEAAAAAAEAAAYAAAAAAQAAAgAAAAACAAAEAAAAAAEAAAoAAAAAAQAABAAAAAABAAAAAAAAAAEAAAIAAAAAAQAACgAAAAABAAAEAAAAAAEAAAAAAAAAAQAAAgAAAAABAAAGAAAAAAEAAAIAAAAAAQAACgAAAAABAAAEAAAAAAEAAAAAAAAAAQAAAgAAAAABAAAKAAAAAAEAAAQAAAAAAQAAAAAAAAABAAACAAAAAAMAAAQAAAAAAQAACgAAAAABAAAEAAAAAAEAAAAAAAAAAQAAAgAAAAADAAAEAAAAAAEAAAYAAAAAAQAAAgAAAAABAAAKAAAAAAEAAAQAAAAAAQAAAAAAAAABAAACAAAAAAQAAAQAAAAAAQAACAAAAAACAAACAAAAAAEAAAQAAAAAAQAABgAAAAABAAACAAAAAAIAAAQAAAAAAQAACgAAAAABAAAEAAAAAAEAAAAAAAAAAQAAAgAAAAABAAAKAAAAAAEAAAQAAAAAAQAAAAAAAAABAAACAAAAAAEAAAQAAAAAAQAACgAAAAABAAAEAAAAAAEAAAAAAAAAAQAAAgAAAAABAAAGAAAAAAEAAAIAAAAAHHN0c2MAAAAAAAAAAQAAAAEAAADKAAAAAQAAAzxzdHN6AAAAAAAAAAAAAADKAAAFdQAAABcAAAAcAAAAIAAAABQAAAAdAAAAIAAAABQAAAATAAAAFAAAAB0AAAAWAAAAEgAAAB4AAAAdAAAAIwAAABQAAAAhAAAAFAAAABMAAAAUAAAAHgAAABUAAAASAAAAHQAAAB0AAAAgAAAAFQAAABMAAAAUAAAAHgAAACEAAAAUAAAAEwAAABQAAAAXAAAAFAAAABQAAAAUAAAAHgAAABUAAAASAAAAHQAAABYAAAASAAAALwAAABUAAAATAAAAFAAAADEAAAAZAAAAFAAAABQAAAAiAAAAFgAAABIAAAAdAAAAHAAAABYAAAASAAAAHgAAABsAAAAcAAAAEwAAABEAAAAeAAAAHwAAABQAAAAUAAAAEwAAACAAAAAVAAAAEgAAABcAAAAQAAAAFAAAABQAAAAgAAAAGQAAABQAAAAUAAAAHgAAAB4AAAAUAAAAEwAAABQAAAAdAAAAFAAAABQAAAATAAAAHgAAABUAAAAQAAAAFAAAABMAAAAWAAAAGAAAABQAAAAUAAAAHQAAAB0AAAAfAAAAFQAAABMAAAAUAAAAIAAAABQAAAAdAAAAFQAAABAAAAAUAAAAFAAAACAAAAAUAAAAIAAAABQAAAAVAAAAEAAAABQAAAATAAAAIAAAABMAAAAcAAAAFAAAABMAAAATAAAAFgAAABcAAAAUAAAAFAAAAB4AAAAUAAAAHwAAABQAAAATAAAAFAAAAB4AAAAhAAAAEwAAAB0AAAAdAAAAHwAAABQAAAATAAAAFAAAACAAAAAZAAAAEwAAABMAAAAjAAAAFAAAAB8AAAAUAAAAEwAAABQAAAAeAAAAFAAAABMAAAAUAAAAHQAAAB0AAAAcAAAAGQAAABIAAAAUAAAAEwAAAB0AAAAdAAAAHQAAACIAAAAUAAAAFQAAABcAAAAUAAAAFAAAAB0AAAAfAAAAHQAAAB0AAAAgAAAAFgAAABQAAAAdAAAAIgAAABQAAAAcAAAAHQAAACAAAAAXAAAAFAAAABMAAAAgAAAAFAAAABMAAAAUAAAAHgAAAB8AAAAUAAAAFAAAABMAAAAfAAAAKgAAABRzdGNvAAAAAAAAAAEAAAAwAAAAYnVkdGEAAABabWV0YQAAAAAAAAAhaGRscgAAAAAAAAAAbWRpcmFwcGwAAAAAAAAAAAAAAAAtaWxzdAAAACWpdG9vAAAAHWRhdGEAAAABAAAAAExhdmY1Ny44My4xMDA=\" type=\"video/mp4\" />\n",
              "             </video>"
            ],
            "text/plain": [
              "<IPython.core.display.HTML object>"
            ]
          },
          "metadata": {
            "tags": []
          },
          "execution_count": 8
        }
      ]
    },
    {
      "metadata": {
        "id": "-WMr_OaLO6tV",
        "colab_type": "text"
      },
      "cell_type": "markdown",
      "source": [
        "***\n",
        "## DQN"
      ]
    },
    {
      "metadata": {
        "id": "sY7bEE0IO6tz",
        "colab_type": "text"
      },
      "cell_type": "markdown",
      "source": [
        "Let us assume here that $T=\\infty$.\n",
        "\n",
        "***\n",
        "__Question 5__ Let $\\pi$ be a policy, show that:\n",
        "\n",
        "\\begin{equation*}\n",
        "Q^{\\pi}(s,a)=E_{(s',a')\\sim p(.|s,a)}[r(s,a)+\\gamma Q^{\\pi}(s',a')]\n",
        "\\end{equation*}\n",
        "\n",
        "Then, show that for the optimal policy $\\pi^*$ (we assume its existence), the following holds: \n",
        "\n",
        "\\begin{equation*}\n",
        "Q^{*}(s,a)=E_{s'\\sim \\pi^*(.|s,a)}[r(s,a)+\\gamma\\max_{a'}Q^{*}(s',a')].\n",
        "\\end{equation*}\n",
        "Finally, deduce that a plausible objective is:\n",
        "\n",
        "\\begin{equation*}\n",
        "\\mathcal{L}(\\theta)=E_{s' \\sim \\pi^*(.|s,a)}\\Vert r+\\gamma\\max\\max_{a'}Q(s',a',\\theta)-Q(s,a,\\theta)\\Vert^{2}.\n",
        "\\end{equation*}\n",
        "\n",
        "\n"
      ]
    },
    {
      "metadata": {
        "id": "Srx9X2FdO6uR",
        "colab_type": "text"
      },
      "cell_type": "markdown",
      "source": [
        "Let's show the first equality.\n",
        "\n",
        "\\begin{align}\n",
        "Q^{\\pi}(s,a)&=E_{p^{\\pi}} [ \\sum_{t\\leq T} \\gamma^t r(s_t,a_t)|s_0=s,a_0=a ] \\\\\n",
        "&=r(s,a)+E_{p^{\\pi}} [ \\sum_{t\\geq 1} \\gamma^t r(s_t,a_t)|s_0=s,a_0=a ] \\\\\n",
        "&=r(s,a)+\\gamma E_{(s',a')\\sim p(.|s,a)}[E_{p^{\\pi}} [ \\sum_{t\\geq 1} \\gamma^{t-1} r(s_t,a_t)|s_0=s,a_0=a,s_1=s',a_1=a' ]] \\ \\ (\\text{Iterative expectation}) \\\\ \n",
        "&=r(s,a)+\\gamma E_{(s',a')\\sim p(.|s,a)}[E_{p^{\\pi}} [ \\sum_{t\\geq 1} \\gamma^{t-1} r(s_t,a_t)|s_1=s',a_1=a' ]] \\ \\ (\\text{Markov property}) \\\\\n",
        "&=r(s,a)+\\gamma E_{(s',a')\\sim p(.|s,a)}[E_{p^{\\pi}} [ \\sum_{t\\leq T} \\gamma^{t} r(s_t,a_t)|s_0=s',a_0=a' ]] \\\\\n",
        "&=r(s,a)+\\gamma E_{(s',a') \\sim p(.|s,a)}[Q^{\\pi}(s',a')] \\\\\n",
        "&=E_{(s',a') \\sim p(.|s,a)}[r(s,a)+\\gamma Q^{\\pi}(s',a')]\n",
        "\\end{align}\n",
        "\n",
        "For the second inequality we have:\n",
        "\n",
        "Let's use the following identity $\\pi=[a', \\pi']$\n",
        "\n",
        "\\begin{align}\n",
        "Q^{*}(s,a)&=max_{\\pi} Q^{\\pi}(s,a)  \\\\\n",
        "&=max_{[a', \\pi']} r(s,a)+\\gamma E_{(s',a') \\sim p(.|s,a)}[Q^{\\pi'}(s',a')] \\text{(Previous equality)}\\\\\n",
        "&= r(s,a)+\\gamma max_{[a', \\pi']} E_{(s',a') \\sim p(.|s,a)}[Q^{\\pi'}(s',a')]\\\\\n",
        "&=  r(s,a)+\\gamma max_{[a', \\pi']} E_{(s') \\sim \\pi (.|s,a)}[Q^{\\pi'}(s',a')] \\\\\n",
        "&= r(s,a)+\\gamma  E_{(s') \\sim \\pi^{*} (.|s,a)}[ max_{[a', \\pi']} Q^{\\pi'}(s',a')]   \\text{(Proof given bellow)} \\\\\n",
        "&= r(s,a)+\\gamma  E_{(s') \\sim \\pi^{*} (.|s,a)}[ max_{a'} Q^{\\pi*}(s',a')] \\\\\n",
        "\\end{align}\n",
        "\n",
        "Proof of the interchange between expectation and maximum.\n",
        "\n",
        "$$ max_{[a', \\pi']} E_{(s') \\sim \\pi (.|s,a)}[Q^{\\pi'}(s',a')]= E_{(s') \\sim \\pi (.|s,a)}[max_{[a', \\pi']} Q^{\\pi'}(s',a')] $$\n",
        "\n",
        "\n",
        "\n",
        "The first inequality is trivial given the monotocity of the expectation.\n",
        "\n",
        "The second one comes from the following expresssion:\n",
        "\n",
        "\n",
        "\n",
        "\\begin{align}\n",
        "E_{(s') \\sim \\pi (.|s,a)}[max_{[a', \\pi']} Q^{\\pi'}(s',a')] &=\\sum_{s'} P(S_t=s'|S_{t-1}=s,a_{t-1}=a)max_{[a', \\pi']} Q^{\\pi'}(s',a') \\\\\n",
        "& = \\sum_{s'} P(S_t=s'|S_{t-1}=s,a_{t-1}=a)max_{[a']} Q^{\\pi^*}(s',a')   \\ \\text{(Hypothesis of existance)} \\\\\n",
        "& \\leq max_{[a', \\pi']}\\sum_{s'} P(S_t=s'|S_{t-1}=s,a_{t-1}=a) Q^{\\pi^*}(s',a') \n",
        "\\end{align}\n",
        "\n",
        "\n",
        "\n",
        "In the algorithm, we will be interest in aproximating $Q^*(s,a) \\approx Q(s,a,\\theta) $  where\n",
        "$Q(s,a,\\theta)$ is a neural network. A way to know if our approximation is good enough is to verify if it satisfies the last equality. We want $r(s,a)+\\gamma max_{a'} Q(s',a',\\theta)−Q(s,a,\\theta)$ to be as close to 0 as possible.  For this reason, the propossed objective function makes sense."
      ]
    },
    {
      "metadata": {
        "id": "TX8-zyTNO6ur",
        "colab_type": "text"
      },
      "cell_type": "markdown",
      "source": [
        "***\n",
        "The DQN-learning algorithm relies on these derivations to train the parameters $\\theta$ of a Deep Neural Network:\n",
        "\n",
        "1. At the state $s_t$, select the action $a_t$ with best reward using $Q_t$ and store the results;\n",
        "\n",
        "2. Obtain the new state $s_{t+1}$ from the environment $p$;\n",
        "\n",
        "3. Store $(s_t,a_t,s_{t+1})$;\n",
        "\n",
        "4. Obtain $Q_{t+1}$ by minimizing  $\\mathcal{L}$ from a recovered batch from the previously stored results.\n",
        "\n",
        "***\n",
        "__Question 6__ Implement the class ```Memory``` that stores moves (in a replay buffer) via ```remember``` and provides a ```random_access``` to these. Specify a maximum memory size to avoid side effects. You can for example use a ```list()``` and set by default ```max_memory=100```."
      ]
    },
    {
      "metadata": {
        "id": "r3DV5yNMO6vc",
        "colab_type": "code",
        "colab": {}
      },
      "cell_type": "code",
      "source": [
        "class Memory(object):\n",
        "    def __init__(self, max_memory=100):\n",
        "        self.max_memory = max_memory\n",
        "        self.memory = list()\n",
        "        ### Rewrite index allow me to keep track of the elements that have been erased to include new observations when the memory is full. \n",
        "        self.rewrite_index=0\n",
        "\n",
        "    def remember(self, m):\n",
        "      ### Function that creates the list contained past observations.\n",
        "        if len(self.memory)<self.max_memory:\n",
        "            self.memory.append(m)\n",
        "        else: \n",
        "            ### If new observations are added when the memory is full, the buffer starts forgetting the former movements.\n",
        "            self.memory[self.rewrite_index]=copy.deepcopy(m)\n",
        "            self.rewrite_index+=1\n",
        "            if(self.rewrite_index==self.max_memory):\n",
        "              self.rewrite_index=0\n",
        "              \n",
        "\n",
        "    def random_access(self):\n",
        "      ## Function allowing the algorithm to access a random element of the list.\n",
        "        index=np.random.randint(len(self.memory),size=1)[0]\n",
        "        return(self.memory[index])"
      ],
      "execution_count": 0,
      "outputs": []
    },
    {
      "metadata": {
        "id": "8NOTUFlHO6wd",
        "colab_type": "text"
      },
      "cell_type": "markdown",
      "source": [
        "***\n",
        "The pipeline we will use for training is given below:"
      ]
    },
    {
      "metadata": {
        "id": "QpO7lwpYO6wu",
        "colab_type": "code",
        "colab": {}
      },
      "cell_type": "code",
      "source": [
        "def train(agent,env,epoch,prefix=''):\n",
        "    # Number of won games\n",
        "    score = 0\n",
        "    loss = 0\n",
        "\n",
        "    for e in range(epoch):\n",
        "        # At each epoch, we restart to a fresh game and get the initial state\n",
        "        state = env.reset()\n",
        "        # This assumes that the games will terminate\n",
        "        game_over = False\n",
        "\n",
        "        win = 0\n",
        "        lose = 0\n",
        "\n",
        "        while not game_over:\n",
        "            # The agent performs an action\n",
        "            action = agent.act(state)\n",
        "\n",
        "            # Apply an action to the environment, get the next state, the reward\n",
        "            # and if the games end\n",
        "            prev_state = state\n",
        "            state, reward, game_over = env.act(action)\n",
        "\n",
        "            # Update the counters\n",
        "            if reward > 0:\n",
        "                win = win + reward\n",
        "            if reward < 0:\n",
        "                lose = lose -reward\n",
        "\n",
        "            # Apply the reinforcement strategy\n",
        "            loss = agent.reinforce(prev_state, state,  action, reward, game_over)\n",
        "\n",
        "        # Save as a mp4\n",
        "        if e % 10 == 0:\n",
        "            env.draw(prefix+str(e))\n",
        "\n",
        "        # Update stats\n",
        "        score += win-lose\n",
        "\n",
        "        print(\"Epoch {:03d}/{:03d} | Loss {:.4f} | Win/lose count {}/{} ({})\"\n",
        "              .format(e, epoch, loss, win, lose, win-lose))\n",
        "        agent.save(name_weights=prefix+'model.h5',name_model=prefix+'model.json')"
      ],
      "execution_count": 0,
      "outputs": []
    },
    {
      "metadata": {
        "id": "oeA71qElO6xy",
        "colab_type": "text"
      },
      "cell_type": "markdown",
      "source": [
        "***\n",
        "__Question 7__ Implement the DQN training algorithm using a cascade of fully connected layers. You can use different learning rate, batch size or memory size parameters. In particular, the loss might oscillate while the player will start to win the games. You have to find a good criterium."
      ]
    },
    {
      "metadata": {
        "id": "w42cZn7BO6yC",
        "colab_type": "code",
        "colab": {}
      },
      "cell_type": "code",
      "source": [
        "class DQN(Agent):\n",
        "    def __init__(self, grid_size,  epsilon = 0.1, memory_size=100, batch_size = 16,n_state=2):\n",
        "        super(DQN, self).__init__(epsilon = epsilon)\n",
        "\n",
        "        # Discount for Q learning\n",
        "        self.discount = 0.99\n",
        "        \n",
        "        self.grid_size = grid_size\n",
        "        \n",
        "        # number of state\n",
        "        self.n_state = n_state\n",
        "\n",
        "        # Memory\n",
        "        self.memory = Memory(memory_size)\n",
        "        \n",
        "        # Batch size when learning\n",
        "        self.batch_size = batch_size\n",
        "\n",
        "    def learned_act(self, s):\n",
        "        ## The agent choose the action that thinks that is the best up to that moment.\n",
        "        a=np.argmax(self.model.predict(np.expand_dims(s, axis=0)))\n",
        "       # print(a)\n",
        "        return(a)\n",
        "\n",
        "    def reinforce(self, s_, n_s_, a_, r_, game_over_):\n",
        "        # Two steps: first memorize the states, second learn from the pool\n",
        "\n",
        "        self.memory.remember([s_, n_s_, a_, r_, game_over_])\n",
        "        \n",
        "        input_states = np.zeros((self.batch_size, 5,5,self.n_state))\n",
        "        target_q = np.zeros((self.batch_size, 4))\n",
        "        \n",
        "        for i in range(self.batch_size):\n",
        "            ######## FILL IN\n",
        "            \n",
        "            ## Use information store in the memory.\n",
        "            s_i, n_s_i, a_i, r_i, game_over_i=self.memory.random_access()\n",
        "            input_states[i]=s_i\n",
        "            ### I will like to quantify the error made just for the action taken at each interaction\n",
        "            #### that is the reason why I fix the values of the target at the values predicted by the network.\n",
        "            ### and I change just the entry corresponding to the action taken.\n",
        "            target_q[i]=self.model.predict(np.expand_dims(s_i, axis=0))[0]\n",
        "\n",
        "            if game_over_i:\n",
        "                ######## FILL IN\n",
        "                \n",
        "                target_q[i,a_i]=r_i\n",
        "                        \n",
        "            else:\n",
        "                ######## FILL IN\n",
        "                target_q[i,a_i]=r_i+self.discount*max(self.model.predict(np.expand_dims(s_i, axis=0))[0])\n",
        "                \n",
        "        # HINT: Clip the target to avoid exploiding gradients.. -- clipping is a bit tighter\n",
        "        target_q = np.clip(target_q, -3, 3)\n",
        "        \n",
        "        l = self.model.train_on_batch(input_states, target_q)\n",
        "\n",
        "\n",
        "        return l\n",
        "\n",
        "    def save(self,name_weights='model.h5',name_model='model.json'):\n",
        "        self.model.save_weights(name_weights, overwrite=True)\n",
        "        with open(name_model, \"w\") as outfile:\n",
        "            json.dump(self.model.to_json(), outfile)\n",
        "            \n",
        "    def load(self,name_weights='model.h5',name_model='model.json'):\n",
        "        with open(name_model, \"r\") as jfile:\n",
        "            model = model_from_json(json.load(jfile))\n",
        "        model.load_weights(name_weights)\n",
        "        model.compile(\"sgd\", \"mse\")\n",
        "        self.model = model\n",
        "\n",
        "            \n",
        "class DQN_FC(DQN):\n",
        "    def __init__(self, *args, lr=0.1,**kwargs):\n",
        "        super(DQN_FC, self).__init__( *args,**kwargs)\n",
        "        \n",
        "        # NN Model\n",
        "        model=Sequential()\n",
        "        model.add(Reshape((50,),input_shape=(5,5,self.n_state)))\n",
        "        model.add(Dense(50,activation=\"relu\"))                       ## Best model                           \n",
        "        model.add(Dense(4))\n",
        "        \n",
        "        \n",
        "        model.compile(sgd(lr=lr, decay=1e-4, momentum=0.0), \"mse\")\n",
        "        self.model = model\n",
        "        "
      ],
      "execution_count": 0,
      "outputs": []
    },
    {
      "metadata": {
        "id": "A34a1XNeO6zB",
        "colab_type": "code",
        "outputId": "a2ba20e7-6b43-4073-9f04-39bf9c45b16f",
        "colab": {
          "base_uri": "https://localhost:8080/",
          "height": 1160
        }
      },
      "cell_type": "code",
      "source": [
        "env = Environment(grid_size=size, max_time=T, temperature=0.3)\n",
        "agent = DQN_FC(size, lr=.1, epsilon = 0.1, memory_size=2000, batch_size = 32)\n",
        "train(agent, env, epochs_train, prefix='fc_train')\n",
        "HTML(display_videos('fc_train10.mp4'))"
      ],
      "execution_count": 12,
      "outputs": [
        {
          "output_type": "stream",
          "text": [
            "Epoch 000/050 | Loss 0.0059 | Win/lose count 6.5/6.0 (0.5)\n",
            "Epoch 001/050 | Loss 0.0044 | Win/lose count 4.0/5.0 (-1.0)\n",
            "Epoch 002/050 | Loss 0.0057 | Win/lose count 5.0/0 (5.0)\n",
            "Epoch 003/050 | Loss 0.0062 | Win/lose count 6.0/5.0 (1.0)\n",
            "Epoch 004/050 | Loss 0.0070 | Win/lose count 6.0/0 (6.0)\n",
            "Epoch 005/050 | Loss 0.0095 | Win/lose count 2.0/1.0 (1.0)\n",
            "Epoch 006/050 | Loss 0.0035 | Win/lose count 8.0/6.0 (2.0)\n",
            "Epoch 007/050 | Loss 0.0477 | Win/lose count 1.0/4.0 (-3.0)\n",
            "Epoch 008/050 | Loss 0.0039 | Win/lose count 0.5/2.0 (-1.5)\n",
            "Epoch 009/050 | Loss 0.0078 | Win/lose count 4.0/1.0 (3.0)\n",
            "Epoch 010/050 | Loss 0.0031 | Win/lose count 4.0/4.0 (0.0)\n",
            "Epoch 011/050 | Loss 0.0020 | Win/lose count 4.5/1.0 (3.5)\n",
            "Epoch 012/050 | Loss 0.0027 | Win/lose count 9.0/5.0 (4.0)\n",
            "Epoch 013/050 | Loss 0.0480 | Win/lose count 7.5/1.0 (6.5)\n",
            "Epoch 014/050 | Loss 0.0103 | Win/lose count 3.5/1.0 (2.5)\n",
            "Epoch 015/050 | Loss 0.0026 | Win/lose count 12.5/7.0 (5.5)\n",
            "Epoch 016/050 | Loss 0.0055 | Win/lose count 5.0/2.0 (3.0)\n",
            "Epoch 017/050 | Loss 0.0044 | Win/lose count 6.0/5.0 (1.0)\n",
            "Epoch 018/050 | Loss 0.0061 | Win/lose count 11.5/1.0 (10.5)\n",
            "Epoch 019/050 | Loss 0.0057 | Win/lose count 6.5/5.0 (1.5)\n",
            "Epoch 020/050 | Loss 0.0079 | Win/lose count 6.5/2.0 (4.5)\n",
            "Epoch 021/050 | Loss 0.0040 | Win/lose count 5.5/3.0 (2.5)\n",
            "Epoch 022/050 | Loss 0.0027 | Win/lose count 11.0/1.0 (10.0)\n",
            "Epoch 023/050 | Loss 0.0034 | Win/lose count 11.0/3.0 (8.0)\n",
            "Epoch 024/050 | Loss 0.0050 | Win/lose count 14.0/4.0 (10.0)\n",
            "Epoch 025/050 | Loss 0.0041 | Win/lose count 14.5/1.0 (13.5)\n",
            "Epoch 026/050 | Loss 0.0031 | Win/lose count 10.5/2.0 (8.5)\n",
            "Epoch 027/050 | Loss 0.0029 | Win/lose count 17.5/3.0 (14.5)\n",
            "Epoch 028/050 | Loss 0.0054 | Win/lose count 16.5/4.0 (12.5)\n",
            "Epoch 029/050 | Loss 0.0046 | Win/lose count 12.5/6.0 (6.5)\n",
            "Epoch 030/050 | Loss 0.0092 | Win/lose count 16.0/8.0 (8.0)\n",
            "Epoch 031/050 | Loss 0.0421 | Win/lose count 8.5/1.0 (7.5)\n",
            "Epoch 032/050 | Loss 0.0013 | Win/lose count 10.0/5.0 (5.0)\n",
            "Epoch 033/050 | Loss 0.0020 | Win/lose count 12.5/1.0 (11.5)\n",
            "Epoch 034/050 | Loss 0.0090 | Win/lose count 10.5/4.0 (6.5)\n",
            "Epoch 035/050 | Loss 0.0031 | Win/lose count 17.0/1.0 (16.0)\n",
            "Epoch 036/050 | Loss 0.0045 | Win/lose count 9.5/4.0 (5.5)\n",
            "Epoch 037/050 | Loss 0.0115 | Win/lose count 15.5/2.0 (13.5)\n",
            "Epoch 038/050 | Loss 0.0477 | Win/lose count 12.0/3.0 (9.0)\n",
            "Epoch 039/050 | Loss 0.0056 | Win/lose count 8.5/1.0 (7.5)\n",
            "Epoch 040/050 | Loss 0.0014 | Win/lose count 12.0/3.0 (9.0)\n",
            "Epoch 041/050 | Loss 0.0026 | Win/lose count 18.5/3.0 (15.5)\n",
            "Epoch 042/050 | Loss 0.0045 | Win/lose count 17.5/4.0 (13.5)\n",
            "Epoch 043/050 | Loss 0.0389 | Win/lose count 9.5/2.0 (7.5)\n",
            "Epoch 044/050 | Loss 0.0008 | Win/lose count 8.0/1.0 (7.0)\n",
            "Epoch 045/050 | Loss 0.0118 | Win/lose count 13.0/3.0 (10.0)\n",
            "Epoch 046/050 | Loss 0.0023 | Win/lose count 9.0/3.0 (6.0)\n",
            "Epoch 047/050 | Loss 0.0024 | Win/lose count 11.0/6.0 (5.0)\n",
            "Epoch 048/050 | Loss 0.0317 | Win/lose count 10.0/2.0 (8.0)\n",
            "Epoch 049/050 | Loss 0.0037 | Win/lose count 15.0/5.0 (10.0)\n"
          ],
          "name": "stdout"
        },
        {
          "output_type": "execute_result",
          "data": {
            "text/html": [
              "<video alt=\"test\" controls>\n",
              "                <source src=\"data:video/mp4;base64,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\" type=\"video/mp4\" />\n",
              "             </video>"
            ],
            "text/plain": [
              "<IPython.core.display.HTML object>"
            ]
          },
          "metadata": {
            "tags": []
          },
          "execution_count": 12
        }
      ]
    },
    {
      "metadata": {
        "id": "HrvkbIEvUzH4",
        "colab_type": "code",
        "outputId": "bd37fb13-bfbb-4a72-d48b-545df0e3a35b",
        "colab": {
          "base_uri": "https://localhost:8080/",
          "height": 293
        }
      },
      "cell_type": "code",
      "source": [
        "HTML(display_videos('fc_train40.mp4'))"
      ],
      "execution_count": 13,
      "outputs": [
        {
          "output_type": "execute_result",
          "data": {
            "text/html": [
              "<video alt=\"test\" controls>\n",
              "                <source src=\"data:video/mp4;base64,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\" type=\"video/mp4\" />\n",
              "             </video>"
            ],
            "text/plain": [
              "<IPython.core.display.HTML object>"
            ]
          },
          "metadata": {
            "tags": []
          },
          "execution_count": 13
        }
      ]
    },
    {
      "metadata": {
        "id": "ILRY_2Lu0Hzu",
        "colab_type": "code",
        "outputId": "c01e4df3-4f38-49ba-8864-35e25508194d",
        "colab": {
          "base_uri": "https://localhost:8080/",
          "height": 1785
        }
      },
      "cell_type": "code",
      "source": [
        "env = Environment(grid_size=size, max_time=T,temperature=0.3)\n",
        "agent_fc = DQN_FC(size, lr=.1, epsilon = 0.1, memory_size=2000, batch_size = 32)\n",
        "agent_fc.load(name_weights='fc_trainmodel.h5',name_model='fc_trainmodel.json')\n",
        "\n",
        "print('Test of the FC')\n",
        "test(agent_fc,env,epochs_test,prefix='fc_test')"
      ],
      "execution_count": 0,
      "outputs": [
        {
          "output_type": "stream",
          "text": [
            "Test of the FC\n",
            "0\n",
            "Win/lose count 3.0/0.0. Average score (3.0)\n",
            "1\n",
            "Win/lose count 0.5/0.0. Average score (1.75)\n",
            "2\n",
            "Win/lose count 6.5/0.0. Average score (3.3333333333333335)\n",
            "3\n",
            "Win/lose count 4.0/0.0. Average score (3.5)\n",
            "4\n",
            "Win/lose count 1.5/0.0. Average score (3.1)\n",
            "5\n",
            "Win/lose count 3.0/0.0. Average score (3.0833333333333335)\n",
            "6\n",
            "Win/lose count 0.5/0.0. Average score (2.7142857142857144)\n",
            "7\n",
            "Win/lose count 4.5/0.0. Average score (2.9375)\n",
            "8\n",
            "Win/lose count 7.5/0.0. Average score (3.4444444444444446)\n",
            "9\n",
            "Win/lose count 0.5/0.0. Average score (3.15)\n",
            "10\n",
            "Win/lose count 12.0/0.0. Average score (3.9545454545454546)\n",
            "11\n",
            "Win/lose count 9.0/0.0. Average score (4.375)\n",
            "12\n",
            "Win/lose count 2.0/0.0. Average score (4.1923076923076925)\n",
            "13\n",
            "Win/lose count 5.0/0.0. Average score (4.25)\n",
            "14\n",
            "Win/lose count 4.0/0.0. Average score (4.233333333333333)\n",
            "15\n",
            "Win/lose count 1.0/0.0. Average score (4.03125)\n",
            "16\n",
            "Win/lose count 0.5/0.0. Average score (3.823529411764706)\n",
            "17\n",
            "Win/lose count 7.0/0.0. Average score (4.0)\n",
            "18\n",
            "Win/lose count 3.5/0.0. Average score (3.973684210526316)\n",
            "19\n",
            "Win/lose count 8.0/0.0. Average score (4.175)\n",
            "20\n",
            "Win/lose count 3.5/0.0. Average score (4.142857142857143)\n",
            "21\n",
            "Win/lose count 9.0/0.0. Average score (4.363636363636363)\n",
            "22\n",
            "Win/lose count 2.0/0.0. Average score (4.260869565217392)\n",
            "23\n",
            "Win/lose count 7.0/0.0. Average score (4.375)\n",
            "24\n",
            "Win/lose count 1.0/0.0. Average score (4.24)\n",
            "25\n",
            "Win/lose count 0.5/0.0. Average score (4.096153846153846)\n",
            "26\n",
            "Win/lose count 2.5/0.0. Average score (4.037037037037037)\n",
            "27\n",
            "Win/lose count 4.5/0.0. Average score (4.053571428571429)\n",
            "28\n",
            "Win/lose count 0/0.0. Average score (3.913793103448276)\n",
            "29\n",
            "Win/lose count 1.0/0.0. Average score (3.816666666666667)\n",
            "30\n",
            "Win/lose count 3.0/0.0. Average score (3.7903225806451615)\n",
            "31\n",
            "Win/lose count 6.5/0.0. Average score (3.875)\n",
            "32\n",
            "Win/lose count 2.5/0.0. Average score (3.8333333333333335)\n",
            "33\n",
            "Win/lose count 2.5/0.0. Average score (3.7941176470588234)\n",
            "34\n",
            "Win/lose count 1.0/0.0. Average score (3.7142857142857144)\n",
            "35\n",
            "Win/lose count 8.0/0.0. Average score (3.8333333333333335)\n",
            "36\n",
            "Win/lose count 2.0/0.0. Average score (3.7837837837837838)\n",
            "37\n",
            "Win/lose count 7.5/0.0. Average score (3.8815789473684212)\n",
            "38\n",
            "Win/lose count 0.5/0.0. Average score (3.7948717948717947)\n",
            "39\n",
            "Win/lose count 5.0/0.0. Average score (3.825)\n",
            "40\n",
            "Win/lose count 8.0/0.0. Average score (3.926829268292683)\n",
            "41\n",
            "Win/lose count 2.0/0.0. Average score (3.880952380952381)\n",
            "42\n",
            "Win/lose count 1.0/0.0. Average score (3.813953488372093)\n",
            "43\n",
            "Win/lose count 2.0/0.0. Average score (3.772727272727273)\n",
            "44\n",
            "Win/lose count 2.0/0.0. Average score (3.7333333333333334)\n",
            "45\n",
            "Win/lose count 1.5/0.0. Average score (3.6847826086956523)\n",
            "46\n",
            "Win/lose count 2.0/0.0. Average score (3.648936170212766)\n",
            "47\n",
            "Win/lose count 8.0/0.0. Average score (3.7395833333333335)\n",
            "48\n",
            "Win/lose count 6.5/0.0. Average score (3.795918367346939)\n",
            "49\n",
            "Win/lose count 1.0/0.0. Average score (3.74)\n",
            "Final score: 3.74\n"
          ],
          "name": "stdout"
        }
      ]
    },
    {
      "metadata": {
        "id": "jlu49KAv47w_",
        "colab_type": "text"
      },
      "cell_type": "markdown",
      "source": [
        "# Architectures tested.\n",
        "\n",
        "Here I showed some of the architectures I tried during the experiments. I also played with the learning rate, the batch size and the memory. I kept the parameters that consistenly gave the best results.  A problem I found is that if when I fixed a learning rate at 0.5, I got nan cause the algorithm fails to converge.  I could have tested other optimization algorithms additionally.\n",
        "\n",
        "The performance of the algorithms is stochastic and depends a lot on the created environments. I try to circunavigate this problem by reporting the average of the score in 50 test samples. Nevertheless, I realized that in some cases the variance is so large that this measure of performance should be taken as a grain of salt.\n",
        "\n",
        "**Model 1.** 1 hidden layer with 30 nodes, batch normalization and relu activation.\n",
        "\n",
        "**Model 2.** 1 hidden layer with 30 nodes and relu activation.\n",
        "\n",
        "**Model 3.** 2 hidden layer with 30 nodes, batch normalization and relu activation.\n",
        "\n",
        "**Model 4.** 2 hidden layer with 30 nodes and relu activation..\n",
        "\n",
        "**Model 5.** 1 hidden layer with 50 nodes and relu activation.\n",
        "\n",
        "We can see that increasing the depth of the network does not improve the performance of DQN even if I tried different configurations of parameters. On the other hand, increasing the number of parameters beyond 30 seems to improve slightly the model. Something I realized is that all the architctures I tested seems to make the agent  to learn effectively how to avoid the penalizations but not how to maximize the score even when I tried different exploration rates. \n",
        "\n"
      ]
    },
    {
      "metadata": {
        "id": "ZbqWU_cr4xsR",
        "colab_type": "text"
      },
      "cell_type": "markdown",
      "source": [
        "| Model       | Temperature|   #  epochs Train    |        Epsilon | Learning Rate | Batch size|Memory size| Final Average score over 50 epochs\n",
        "| :------------ | :-------------: | -------------: | -------------: |-------------: |-------------: |-------------: |-------------: |\n",
        "| 1    | 0.3   |     50      |         0.5 |0.1 |32 |1000 |1.68|\n",
        "| 2   |   0.3 | 50      |         0.5 |0.1 |32 |1000 |3.59 |\n",
        "| 3   | 0.3    |     50      |         0.5 |0.1 |32 |1000 | 0.14|\n",
        "| 4  |0.3    |      50      |         0.5 |0.1 |32 |1000 |2.11 |\n",
        "| 5  |0.3  |      50      |         0.5 |0.1 |32 |1000 |3.74 |\n"
      ]
    },
    {
      "metadata": {
        "id": "s7cRAzYJO60E",
        "colab_type": "text"
      },
      "cell_type": "markdown",
      "source": [
        "***\n",
        "***\n",
        "__Question 8__ Implement the DQN training algorithm using a CNN (for example, 2 convolutional layers and one final fully connected layer)."
      ]
    },
    {
      "metadata": {
        "id": "ZU3eH_TrO60U",
        "colab_type": "code",
        "colab": {}
      },
      "cell_type": "code",
      "source": [
        "class DQN_CNN(DQN):\n",
        "    def __init__(self, *args,lr=0.1,**kwargs):\n",
        "        super(DQN_CNN, self).__init__(*args,**kwargs)\n",
        "        \n",
        "        ###### FILL \n",
        "        model = Sequential()\n",
        "        model.add(Conv2D(30,(2,2),activation='relu',input_shape=(5,5,self.n_state)))\n",
        "        model.add(Conv2D(30,(2,2),activation='relu',input_shape=(5,5,self.n_state)))\n",
        "        model.add(Flatten())\n",
        "        model.add(Dense(4))\n",
        "        \n",
        "        model.compile(sgd(lr=lr, decay=1e-4, momentum=0.0), \"mse\")\n",
        "        self.model = model"
      ],
      "execution_count": 0,
      "outputs": []
    },
    {
      "metadata": {
        "id": "r5UiPSVwO61D",
        "colab_type": "code",
        "outputId": "1235c0bd-197d-4cb1-e686-33056ad90d59",
        "colab": {
          "base_uri": "https://localhost:8080/",
          "height": 1160
        }
      },
      "cell_type": "code",
      "source": [
        "env = Environment(grid_size=size, max_time=T, temperature=0.3)\n",
        "agent = DQN_CNN(size, lr=0.1, epsilon = 0.1, memory_size=1000, batch_size = 32)\n",
        "train(agent,env,epochs_train,prefix='cnn_train')\n",
        "HTML(display_videos('cnn_train10.mp4'))"
      ],
      "execution_count": 18,
      "outputs": [
        {
          "output_type": "stream",
          "text": [
            "Epoch 000/050 | Loss 0.0012 | Win/lose count 2.5/3.0 (-0.5)\n",
            "Epoch 001/050 | Loss 0.0080 | Win/lose count 6.5/5.0 (1.5)\n",
            "Epoch 002/050 | Loss 0.0038 | Win/lose count 2.0/5.0 (-3.0)\n",
            "Epoch 003/050 | Loss 0.0016 | Win/lose count 4.0/3.0 (1.0)\n",
            "Epoch 004/050 | Loss 0.0072 | Win/lose count 4.0/1.0 (3.0)\n",
            "Epoch 005/050 | Loss 0.0006 | Win/lose count 7.0/4.0 (3.0)\n",
            "Epoch 006/050 | Loss 0.0126 | Win/lose count 1.5/4.0 (-2.5)\n",
            "Epoch 007/050 | Loss 0.0294 | Win/lose count 6.0/5.0 (1.0)\n",
            "Epoch 008/050 | Loss 0.0023 | Win/lose count 6.0/2.0 (4.0)\n",
            "Epoch 009/050 | Loss 0.0092 | Win/lose count 10.0/1.0 (9.0)\n",
            "Epoch 010/050 | Loss 0.0049 | Win/lose count 12.5/6.0 (6.5)\n",
            "Epoch 011/050 | Loss 0.0029 | Win/lose count 8.0/2.0 (6.0)\n",
            "Epoch 012/050 | Loss 0.0025 | Win/lose count 10.5/4.0 (6.5)\n",
            "Epoch 013/050 | Loss 0.0013 | Win/lose count 11.5/3.0 (8.5)\n",
            "Epoch 014/050 | Loss 0.0035 | Win/lose count 13.5/2.0 (11.5)\n",
            "Epoch 015/050 | Loss 0.0029 | Win/lose count 9.0/5.0 (4.0)\n",
            "Epoch 016/050 | Loss 0.0012 | Win/lose count 14.5/2.0 (12.5)\n",
            "Epoch 017/050 | Loss 0.0491 | Win/lose count 9.5/4.0 (5.5)\n",
            "Epoch 018/050 | Loss 0.0022 | Win/lose count 15.0/4.0 (11.0)\n",
            "Epoch 019/050 | Loss 0.0035 | Win/lose count 10.0/8.0 (2.0)\n",
            "Epoch 020/050 | Loss 0.0358 | Win/lose count 16.5/5.0 (11.5)\n",
            "Epoch 021/050 | Loss 0.0020 | Win/lose count 12.0/5.0 (7.0)\n",
            "Epoch 022/050 | Loss 0.0019 | Win/lose count 22.5/4.0 (18.5)\n",
            "Epoch 023/050 | Loss 0.0007 | Win/lose count 11.0/3.0 (8.0)\n",
            "Epoch 024/050 | Loss 0.0032 | Win/lose count 17.0/3.0 (14.0)\n",
            "Epoch 025/050 | Loss 0.0027 | Win/lose count 12.0/2.0 (10.0)\n",
            "Epoch 026/050 | Loss 0.0011 | Win/lose count 21.5/1.0 (20.5)\n",
            "Epoch 027/050 | Loss 0.0025 | Win/lose count 7.0/1.0 (6.0)\n",
            "Epoch 028/050 | Loss 0.0208 | Win/lose count 9.0/1.0 (8.0)\n",
            "Epoch 029/050 | Loss 0.0063 | Win/lose count 6.5/1.0 (5.5)\n",
            "Epoch 030/050 | Loss 0.0395 | Win/lose count 5.5/3.0 (2.5)\n",
            "Epoch 031/050 | Loss 0.0029 | Win/lose count 5.5/1.0 (4.5)\n",
            "Epoch 032/050 | Loss 0.0020 | Win/lose count 13.5/2.0 (11.5)\n",
            "Epoch 033/050 | Loss 0.0034 | Win/lose count 16.0/1.0 (15.0)\n",
            "Epoch 034/050 | Loss 0.0019 | Win/lose count 8.5/3.0 (5.5)\n",
            "Epoch 035/050 | Loss 0.0006 | Win/lose count 4.0/0 (4.0)\n",
            "Epoch 036/050 | Loss 0.0041 | Win/lose count 15.5/2.0 (13.5)\n",
            "Epoch 037/050 | Loss 0.0005 | Win/lose count 10.5/2.0 (8.5)\n",
            "Epoch 038/050 | Loss 0.0025 | Win/lose count 2.0/2.0 (0.0)\n",
            "Epoch 039/050 | Loss 0.0021 | Win/lose count 7.0/4.0 (3.0)\n",
            "Epoch 040/050 | Loss 0.0386 | Win/lose count 19.0/4.0 (15.0)\n",
            "Epoch 041/050 | Loss 0.0011 | Win/lose count 13.0/5.0 (8.0)\n",
            "Epoch 042/050 | Loss 0.0024 | Win/lose count 6.5/3.0 (3.5)\n",
            "Epoch 043/050 | Loss 0.0031 | Win/lose count 9.5/4.0 (5.5)\n",
            "Epoch 044/050 | Loss 0.0007 | Win/lose count 11.0/4.0 (7.0)\n",
            "Epoch 045/050 | Loss 0.0015 | Win/lose count 5.5/3.0 (2.5)\n",
            "Epoch 046/050 | Loss 0.0372 | Win/lose count 16.5/2.0 (14.5)\n",
            "Epoch 047/050 | Loss 0.0030 | Win/lose count 8.0/4.0 (4.0)\n",
            "Epoch 048/050 | Loss 0.0013 | Win/lose count 18.0/2.0 (16.0)\n",
            "Epoch 049/050 | Loss 0.0005 | Win/lose count 13.5/3.0 (10.5)\n"
          ],
          "name": "stdout"
        },
        {
          "output_type": "execute_result",
          "data": {
            "text/html": [
              "<video alt=\"test\" controls>\n",
              "                <source src=\"data:video/mp4;base64,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\" type=\"video/mp4\" />\n",
              "             </video>"
            ],
            "text/plain": [
              "<IPython.core.display.HTML object>"
            ]
          },
          "metadata": {
            "tags": []
          },
          "execution_count": 18
        }
      ]
    },
    {
      "metadata": {
        "id": "PDoYJud2xkxc",
        "colab_type": "code",
        "outputId": "93a0b1f1-9fee-4a59-e26e-f70ab7631594",
        "colab": {
          "base_uri": "https://localhost:8080/",
          "height": 293
        }
      },
      "cell_type": "code",
      "source": [
        "HTML(display_videos('cnn_train40.mp4'))"
      ],
      "execution_count": 19,
      "outputs": [
        {
          "output_type": "execute_result",
          "data": {
            "text/html": [
              "<video alt=\"test\" controls>\n",
              "                <source src=\"data:video/mp4;base64,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\" type=\"video/mp4\" />\n",
              "             </video>"
            ],
            "text/plain": [
              "<IPython.core.display.HTML object>"
            ]
          },
          "metadata": {
            "tags": []
          },
          "execution_count": 19
        }
      ]
    },
    {
      "metadata": {
        "id": "Pb1eORWO0cHu",
        "colab_type": "code",
        "outputId": "9361bab4-9d19-4bbc-8d34-9e6e9ed351fb",
        "colab": {
          "base_uri": "https://localhost:8080/",
          "height": 1785
        }
      },
      "cell_type": "code",
      "source": [
        "env = Environment(grid_size=size, max_time=T,temperature=0.3)\n",
        "agent_cnn = DQN_CNN(size, lr=.1, epsilon = 0.1, memory_size=1000, batch_size = 32)\n",
        "agent_cnn.load(name_weights='cnn_trainmodel.h5',name_model='cnn_trainmodel.json')\n",
        "\n",
        "print('Test of the CNN')\n",
        "test(agent_cnn,env,epochs_test,prefix='cnn_test')"
      ],
      "execution_count": 20,
      "outputs": [
        {
          "output_type": "stream",
          "text": [
            "Test of the CNN\n",
            "0\n",
            "Win/lose count 11.5/0.0. Average score (11.5)\n",
            "1\n",
            "Win/lose count 4.5/0.0. Average score (8.0)\n",
            "2\n",
            "Win/lose count 11.5/0.0. Average score (9.166666666666666)\n",
            "3\n",
            "Win/lose count 6.5/0.0. Average score (8.5)\n",
            "4\n",
            "Win/lose count 2.0/0.0. Average score (7.2)\n",
            "5\n",
            "Win/lose count 3.5/0.0. Average score (6.583333333333333)\n",
            "6\n",
            "Win/lose count 6.5/0.0. Average score (6.571428571428571)\n",
            "7\n",
            "Win/lose count 2.5/0.0. Average score (6.0625)\n",
            "8\n",
            "Win/lose count 17.5/0.0. Average score (7.333333333333333)\n",
            "9\n",
            "Win/lose count 9.5/0.0. Average score (7.55)\n",
            "10\n",
            "Win/lose count 8.0/0.0. Average score (7.590909090909091)\n",
            "11\n",
            "Win/lose count 6.0/1.0. Average score (7.375)\n",
            "12\n",
            "Win/lose count 1.5/0.0. Average score (6.923076923076923)\n",
            "13\n",
            "Win/lose count 6.5/0.0. Average score (6.892857142857143)\n",
            "14\n",
            "Win/lose count 2.0/0.0. Average score (6.566666666666666)\n",
            "15\n",
            "Win/lose count 11.5/0.0. Average score (6.875)\n",
            "16\n",
            "Win/lose count 2.5/0.0. Average score (6.617647058823529)\n",
            "17\n",
            "Win/lose count 7.5/0.0. Average score (6.666666666666667)\n",
            "18\n",
            "Win/lose count 1.5/0.0. Average score (6.394736842105263)\n",
            "19\n",
            "Win/lose count 1.0/0.0. Average score (6.125)\n",
            "20\n",
            "Win/lose count 4.0/0.0. Average score (6.023809523809524)\n",
            "21\n",
            "Win/lose count 4.0/0.0. Average score (5.931818181818182)\n",
            "22\n",
            "Win/lose count 6.0/1.0. Average score (5.891304347826087)\n",
            "23\n",
            "Win/lose count 6.0/0.0. Average score (5.895833333333333)\n",
            "24\n",
            "Win/lose count 6.5/0.0. Average score (5.92)\n",
            "25\n",
            "Win/lose count 13.5/0.0. Average score (6.211538461538462)\n",
            "26\n",
            "Win/lose count 17.0/0.0. Average score (6.611111111111111)\n",
            "27\n",
            "Win/lose count 4.5/0.0. Average score (6.535714285714286)\n",
            "28\n",
            "Win/lose count 2.0/0.0. Average score (6.379310344827586)\n",
            "29\n",
            "Win/lose count 3.5/0.0. Average score (6.283333333333333)\n",
            "30\n",
            "Win/lose count 7.5/0.0. Average score (6.32258064516129)\n",
            "31\n",
            "Win/lose count 7.0/0.0. Average score (6.34375)\n",
            "32\n",
            "Win/lose count 4.0/0.0. Average score (6.2727272727272725)\n",
            "33\n",
            "Win/lose count 8.5/0.0. Average score (6.338235294117647)\n",
            "34\n",
            "Win/lose count 1.5/0.0. Average score (6.2)\n",
            "35\n",
            "Win/lose count 10.5/0.0. Average score (6.319444444444445)\n",
            "36\n",
            "Win/lose count 11.0/0.0. Average score (6.445945945945946)\n",
            "37\n",
            "Win/lose count 2.0/0.0. Average score (6.328947368421052)\n",
            "38\n",
            "Win/lose count 2.5/0.0. Average score (6.230769230769231)\n",
            "39\n",
            "Win/lose count 9.0/0.0. Average score (6.3)\n",
            "40\n",
            "Win/lose count 6.0/0.0. Average score (6.2926829268292686)\n",
            "41\n",
            "Win/lose count 4.5/0.0. Average score (6.25)\n",
            "42\n",
            "Win/lose count 5.0/0.0. Average score (6.22093023255814)\n",
            "43\n",
            "Win/lose count 3.5/0.0. Average score (6.159090909090909)\n",
            "44\n",
            "Win/lose count 0/0.0. Average score (6.022222222222222)\n",
            "45\n",
            "Win/lose count 19.5/0.0. Average score (6.315217391304348)\n",
            "46\n",
            "Win/lose count 2.0/0.0. Average score (6.223404255319149)\n",
            "47\n",
            "Win/lose count 1.0/0.0. Average score (6.114583333333333)\n",
            "48\n",
            "Win/lose count 20.0/0.0. Average score (6.3979591836734695)\n",
            "49\n",
            "Win/lose count 4.0/0.0. Average score (6.35)\n",
            "Final score: 6.35\n"
          ],
          "name": "stdout"
        }
      ]
    },
    {
      "metadata": {
        "id": "NbNyW9mA0rlJ",
        "colab_type": "text"
      },
      "cell_type": "markdown",
      "source": [
        "# Architectures tested.\n",
        "\n",
        "\n",
        "**Model 1** 2 hidden convolutional layers with 30 filters of size (2x2) and relu activation functions.\n",
        "\n",
        "**Model 2** 1 hiddenc convolutional layer with 30 filters of size (3,3), Average pooling (2x2) and relu activation functions.\n",
        "\n",
        "**Model 3** 2 hidden convolutional layers with 50 filters of size (2x2) and 30 filters of size (2x2) and relu activation functions.\n",
        "\n",
        "**Model 4** 2 hidden convolutional layers with 30 filters of size (2x2) , MaxPooling(2x2) and relu activation functions.\n",
        "\n",
        "**Model 5** 2 hidden convolutional layers with 30 filters of size (2x2) , 1 hidden fully connected layer with 30 nodes and relu activation functions\n"
      ]
    },
    {
      "metadata": {
        "id": "bLURUd961LgW",
        "colab_type": "text"
      },
      "cell_type": "markdown",
      "source": [
        "| Model       |    #  epochs Train    |        Epsilon | Learning Rate | Batch size|Memory size| Final Average score over 50 epochs\n",
        "| :------------ | :-------------: | -------------: | -------------: |-------------: |-------------: |-------------: |\n",
        "| 1       |     50      |         0.1|0.1 |32 |1000 |6.35 |\n",
        "| 2   |   50      |         0.1 |0.1 |32 |1000 | 2.96 |\n",
        "| 3       |     50      |         0.1 |0.1 |32 |1000 |4.71|\n",
        "| 4       |      50      |         0.1 |0.1 |32 |1000 |3.08|\n",
        "| 5     |      50      |         0.1 |0.1 |32 |1000 |5.25|\n"
      ]
    },
    {
      "metadata": {
        "id": "lChGAweI1bvD",
        "colab_type": "text"
      },
      "cell_type": "markdown",
      "source": [
        "We can see how the CNN architecture performs better than the FC ones. \n",
        "\n",
        "In this case, I got better results by reducing the size of the memory to 1000 and keeping the other parameters at the default values. \n",
        "\n",
        "The best model in this case, according to the average score, was model 1 which was the simplest one. It seems that we loss important information when adding pooling layers. Increasing the depth of the network or the number of parameters did not improve the results."
      ]
    },
    {
      "metadata": {
        "id": "v6cJj_RwO619",
        "colab_type": "text"
      },
      "cell_type": "markdown",
      "source": [
        "***\n",
        "***\n",
        "__Question 9__ Test both algorithms and compare their performances. Which issue(s) do you observe? Observe also different behaviors by changing the temperature."
      ]
    },
    {
      "metadata": {
        "id": "2xlMGjNuO62O",
        "colab_type": "code",
        "outputId": "41589e46-c98f-44be-9048-d8027e6e5ffc",
        "colab": {
          "base_uri": "https://localhost:8080/",
          "height": 3553
        }
      },
      "cell_type": "code",
      "source": [
        "env = Environment(grid_size=size, max_time=T,temperature=0.9)\n",
        "agent_cnn = DQN_CNN(size, lr=.1, epsilon = 0.1, memory_size=1000, batch_size = 32)\n",
        "agent_cnn.load(name_weights='cnn_trainmodel.h5',name_model='cnn_trainmodel.json')\n",
        "\n",
        "agent_fc = DQN_FC(size, lr=.1, epsilon = 0.1, memory_size=2000, batch_size = 32)\n",
        "agent_fc.load(name_weights='fc_trainmodel.h5',name_model='fc_trainmodel.json')\n",
        "print('Test of the CNN')\n",
        "test(agent_cnn,env,epochs_test,prefix='cnn_test')\n",
        "print('Test of the FC')\n",
        "test(agent_fc,env,epochs_test,prefix='fc_test')"
      ],
      "execution_count": 26,
      "outputs": [
        {
          "output_type": "stream",
          "text": [
            "Test of the CNN\n",
            "0\n",
            "Win/lose count 36.5/0.0. Average score (36.5)\n",
            "1\n",
            "Win/lose count 35.0/0.0. Average score (35.75)\n",
            "2\n",
            "Win/lose count 48.0/0.0. Average score (39.833333333333336)\n",
            "3\n",
            "Win/lose count 21.0/0.0. Average score (35.125)\n",
            "4\n",
            "Win/lose count 41.0/1.0. Average score (36.1)\n",
            "5\n",
            "Win/lose count 36.0/0.0. Average score (36.083333333333336)\n",
            "6\n",
            "Win/lose count 21.5/0.0. Average score (34.0)\n",
            "7\n",
            "Win/lose count 29.0/0.0. Average score (33.375)\n",
            "8\n",
            "Win/lose count 23.5/0.0. Average score (32.27777777777778)\n",
            "9\n",
            "Win/lose count 45.0/0.0. Average score (33.55)\n",
            "10\n",
            "Win/lose count 43.5/2.0. Average score (34.27272727272727)\n",
            "11\n",
            "Win/lose count 21.5/0.0. Average score (33.208333333333336)\n",
            "12\n",
            "Win/lose count 31.0/0.0. Average score (33.03846153846154)\n",
            "13\n",
            "Win/lose count 22.5/0.0. Average score (32.285714285714285)\n",
            "14\n",
            "Win/lose count 39.0/1.0. Average score (32.666666666666664)\n",
            "15\n",
            "Win/lose count 16.5/0.0. Average score (31.65625)\n",
            "16\n",
            "Win/lose count 52.0/0.0. Average score (32.85294117647059)\n",
            "17\n",
            "Win/lose count 29.0/0.0. Average score (32.638888888888886)\n",
            "18\n",
            "Win/lose count 34.5/0.0. Average score (32.73684210526316)\n",
            "19\n",
            "Win/lose count 43.5/0.0. Average score (33.275)\n",
            "20\n",
            "Win/lose count 48.0/0.0. Average score (33.976190476190474)\n",
            "21\n",
            "Win/lose count 15.5/0.0. Average score (33.13636363636363)\n",
            "22\n",
            "Win/lose count 34.0/0.0. Average score (33.17391304347826)\n",
            "23\n",
            "Win/lose count 29.0/0.0. Average score (33.0)\n",
            "24\n",
            "Win/lose count 22.5/1.0. Average score (32.54)\n",
            "25\n",
            "Win/lose count 66.5/0.0. Average score (33.84615384615385)\n",
            "26\n",
            "Win/lose count 56.5/0.0. Average score (34.68518518518518)\n",
            "27\n",
            "Win/lose count 21.0/0.0. Average score (34.19642857142857)\n",
            "28\n",
            "Win/lose count 34.0/0.0. Average score (34.189655172413794)\n",
            "29\n",
            "Win/lose count 58.5/1.0. Average score (34.96666666666667)\n",
            "30\n",
            "Win/lose count 61.0/0.0. Average score (35.806451612903224)\n",
            "31\n",
            "Win/lose count 56.0/0.0. Average score (36.4375)\n",
            "32\n",
            "Win/lose count 42.0/0.0. Average score (36.60606060606061)\n",
            "33\n",
            "Win/lose count 21.0/0.0. Average score (36.14705882352941)\n",
            "34\n",
            "Win/lose count 30.5/0.0. Average score (35.98571428571429)\n",
            "35\n",
            "Win/lose count 33.0/0.0. Average score (35.90277777777778)\n",
            "36\n",
            "Win/lose count 17.0/0.0. Average score (35.391891891891895)\n",
            "37\n",
            "Win/lose count 31.5/0.0. Average score (35.28947368421053)\n",
            "38\n",
            "Win/lose count 46.5/0.0. Average score (35.57692307692308)\n",
            "39\n",
            "Win/lose count 49.0/0.0. Average score (35.9125)\n",
            "40\n",
            "Win/lose count 27.5/1.0. Average score (35.68292682926829)\n",
            "41\n",
            "Win/lose count 32.5/0.0. Average score (35.607142857142854)\n",
            "42\n",
            "Win/lose count 63.0/0.0. Average score (36.24418604651163)\n",
            "43\n",
            "Win/lose count 32.0/0.0. Average score (36.14772727272727)\n",
            "44\n",
            "Win/lose count 36.0/1.0. Average score (36.12222222222222)\n",
            "45\n",
            "Win/lose count 21.0/0.0. Average score (35.79347826086956)\n",
            "46\n",
            "Win/lose count 65.5/0.0. Average score (36.42553191489362)\n",
            "47\n",
            "Win/lose count 37.5/0.0. Average score (36.447916666666664)\n",
            "48\n",
            "Win/lose count 8.5/0.0. Average score (35.87755102040816)\n",
            "49\n",
            "Win/lose count 27.5/0.0. Average score (35.71)\n",
            "Final score: 35.71\n",
            "Test of the FC\n",
            "0\n",
            "Win/lose count 7.5/0.0. Average score (7.5)\n",
            "1\n",
            "Win/lose count 12.0/0.0. Average score (9.75)\n",
            "2\n",
            "Win/lose count 17.0/0.0. Average score (12.166666666666666)\n",
            "3\n",
            "Win/lose count 31.0/0.0. Average score (16.875)\n",
            "4\n",
            "Win/lose count 67.5/0.0. Average score (27.0)\n",
            "5\n",
            "Win/lose count 18.0/0.0. Average score (25.5)\n",
            "6\n",
            "Win/lose count 26.5/0.0. Average score (25.642857142857142)\n",
            "7\n",
            "Win/lose count 6.5/0.0. Average score (23.25)\n",
            "8\n",
            "Win/lose count 6.0/0.0. Average score (21.333333333333332)\n",
            "9\n",
            "Win/lose count 21.5/0.0. Average score (21.35)\n",
            "10\n",
            "Win/lose count 19.0/0.0. Average score (21.136363636363637)\n",
            "11\n",
            "Win/lose count 4.0/0.0. Average score (19.708333333333332)\n",
            "12\n",
            "Win/lose count 16.0/0.0. Average score (19.423076923076923)\n",
            "13\n",
            "Win/lose count 10.0/0.0. Average score (18.75)\n",
            "14\n",
            "Win/lose count 29.5/0.0. Average score (19.466666666666665)\n",
            "15\n",
            "Win/lose count 34.0/0.0. Average score (20.375)\n",
            "16\n",
            "Win/lose count 18.5/0.0. Average score (20.264705882352942)\n",
            "17\n",
            "Win/lose count 6.0/0.0. Average score (19.47222222222222)\n",
            "18\n",
            "Win/lose count 12.5/0.0. Average score (19.105263157894736)\n",
            "19\n",
            "Win/lose count 2.0/0.0. Average score (18.25)\n",
            "20\n",
            "Win/lose count 5.5/0.0. Average score (17.642857142857142)\n",
            "21\n",
            "Win/lose count 33.0/1.0. Average score (18.295454545454547)\n",
            "22\n",
            "Win/lose count 6.5/0.0. Average score (17.782608695652176)\n",
            "23\n",
            "Win/lose count 45.5/0.0. Average score (18.9375)\n",
            "24\n",
            "Win/lose count 11.0/0.0. Average score (18.62)\n",
            "25\n",
            "Win/lose count 10.0/0.0. Average score (18.28846153846154)\n",
            "26\n",
            "Win/lose count 34.0/0.0. Average score (18.87037037037037)\n",
            "27\n",
            "Win/lose count 6.5/0.0. Average score (18.428571428571427)\n",
            "28\n",
            "Win/lose count 14.5/0.0. Average score (18.29310344827586)\n",
            "29\n",
            "Win/lose count 3.5/0.0. Average score (17.8)\n",
            "30\n",
            "Win/lose count 26.0/0.0. Average score (18.06451612903226)\n",
            "31\n",
            "Win/lose count 19.0/0.0. Average score (18.09375)\n",
            "32\n",
            "Win/lose count 11.0/0.0. Average score (17.87878787878788)\n",
            "33\n",
            "Win/lose count 22.5/0.0. Average score (18.014705882352942)\n",
            "34\n",
            "Win/lose count 18.5/0.0. Average score (18.02857142857143)\n",
            "35\n",
            "Win/lose count 12.5/0.0. Average score (17.875)\n",
            "36\n",
            "Win/lose count 10.5/0.0. Average score (17.675675675675677)\n",
            "37\n",
            "Win/lose count 22.5/0.0. Average score (17.80263157894737)\n",
            "38\n",
            "Win/lose count 5.5/0.0. Average score (17.487179487179485)\n",
            "39\n",
            "Win/lose count 37.5/1.0. Average score (17.9625)\n",
            "40\n",
            "Win/lose count 15.0/0.0. Average score (17.890243902439025)\n",
            "41\n",
            "Win/lose count 46.5/1.0. Average score (18.547619047619047)\n",
            "42\n",
            "Win/lose count 42.5/0.0. Average score (19.1046511627907)\n",
            "43\n",
            "Win/lose count 33.0/0.0. Average score (19.420454545454547)\n",
            "44\n",
            "Win/lose count 13.5/0.0. Average score (19.288888888888888)\n",
            "45\n",
            "Win/lose count 9.0/0.0. Average score (19.065217391304348)\n",
            "46\n",
            "Win/lose count 4.5/0.0. Average score (18.75531914893617)\n",
            "47\n",
            "Win/lose count 23.5/0.0. Average score (18.854166666666668)\n",
            "48\n",
            "Win/lose count 27.5/0.0. Average score (19.03061224489796)\n",
            "49\n",
            "Win/lose count 28.0/0.0. Average score (19.21)\n",
            "Final score: 19.21\n"
          ],
          "name": "stdout"
        }
      ]
    },
    {
      "metadata": {
        "id": "JoK_mdXbO628",
        "colab_type": "code",
        "outputId": "982bd64c-25f0-47ff-d6a1-00ae9192dd0c",
        "colab": {
          "base_uri": "https://localhost:8080/",
          "height": 293
        }
      },
      "cell_type": "code",
      "source": [
        "HTML(display_videos('cnn_test30.mp4'))"
      ],
      "execution_count": 27,
      "outputs": [
        {
          "output_type": "execute_result",
          "data": {
            "text/html": [
              "<video alt=\"test\" controls>\n",
              "                <source src=\"data:video/mp4;base64,AAAAIGZ0eXBpc29tAAACAGlzb21pc28yYXZjMW1wNDEAAAAIZnJlZQAAGGptZGF0AAACrQYF//+p3EXpvebZSLeWLNgg2SPu73gyNjQgLSBjb3JlIDE1MiByMjg1NCBlOWE1OTAzIC0gSC4yNjQvTVBFRy00IEFWQyBjb2RlYyAtIENvcHlsZWZ0IDIwMDMtMjAxNyAtIGh0dHA6Ly93d3cudmlkZW9sYW4ub3JnL3gyNjQuaHRtbCAtIG9wdGlvbnM6IGNhYmFjPTEgcmVmPTMgZGVibG9jaz0xOjA6MCBhbmFseXNlPTB4MToweDExMSBtZT1oZXggc3VibWU9NyBwc3k9MSBwc3lfcmQ9MS4wMDowLjAwIG1peGVkX3JlZj0xIG1lX3JhbmdlPTE2IGNocm9tYV9tZT0xIHRyZWxsaXM9MSA4eDhkY3Q9MCBjcW09MCBkZWFkem9uZT0yMSwxMSBmYXN0X3Bza2lwPTEgY2hyb21hX3FwX29mZnNldD00IHRocmVhZHM9MyBsb29rYWhlYWRfdGhyZWFkcz0xIHNsaWNlZF90aHJlYWRzPTAgbnI9MCBkZWNpbWF0ZT0xIGludGVybGFjZWQ9MCBibHVyYXlfY29tcGF0PTAgY29uc3RyYWluZWRfaW50cmE9MCBiZnJhbWVzPTMgYl9weXJhbWlkPTIgYl9hZGFwdD0xIGJfYmlhcz0wIGRpcmVjdD0xIHdlaWdodGI9MSBvcGVuX2dvcD0wIHdlaWdodHA9MiBrZXlpbnQ9MjUwIGtleWludF9taW49MjUgc2NlbmVjdXQ9NDAgaW50cmFfcmVmcmVzaD0wIHJjX2xvb2thaGVhZD00MCByYz1jcmYgbWJ0cmVlPTEgY3JmPTIzLjAgcWNvbXA9MC42MCBxcG1pbj0wIHFwbWF4PTY5IHFwc3RlcD00IGlwX3JhdGlvPTEuNDAgYXE9MToxLjAwAIAAAAEaZYiEADP//vaG+BTYUyP+T7/8I/+5H7cfWfrixkIJvrVeQ9GAMl8a/5lGYaXpyc8t7R+vTNAEZz6HlLJIofgUkwDfMsjnE4otLiOF1PNASSyBFbSWOc0nHC5PM0iTszQqJfUcb0wcRWAH+AAFtIgLqxY4TVCz1VICFQhvmVbDx982WH5Rj2ILZjsGqu3Ck50/4OAj0Tcn6eQnC+m3R0cym5e/WEZxuiJ4viTzt7EDo9U0nR+wK9CD4mTMNP8XmYz1IlQzVgwk1GUozALB1VgwYbVaABgHW8VwZHSU5BQOtKJuZEpVuVvroZoE34KoQ6nffCDXGdoxXb+QAQod/9xymYrY5F2HSUHK7zoq7BxIhRYk4pT7atXCQAtpAAAAIUGaIWxDP/6eEAMP7HzZeZZQTgeZY1Dz5llFweybuLbHwAAAABdBmkI8IZMphDP//p4QAvvxOzrdAyQz7wAAABhBmmNJ4Q8mUwIZ//6eEALp8Ts63QMkNAwAAAAZQZqESeEPJlMCG//+p4QAunxp0FazKazpgQAAAB1BmqdJ4Q8mUwIZ//6eEALF8TvjrvBoR9T6OpOkgQAAABJBnsVFETwr/wCSyfOdZPbMS5kAAAAQAZ7makK/AI7LIYfQEg4t6QAAABlBmuhJqEFomUwIZ//+nhABzvXG3vTfdbe6AAAAGEGbCUnhClJlMCGf/p4QAdn1xt7033W3pgAAABhBmypJ4Q6JlMCGf/6eEAHk9cbe9N91t48AAAAgQZtMSeEPJlMFETwz//6eEAHy9j4CmfibfKecviKuig4AAAAQAZ9rakK/AGmZua48VbSVYAAAABpBm21J4Q8mUwIZ//6eEAFPr3GheAAZf+SHIwAAABpBm45J4Q8mUwIZ//6eEAH7Kcc/h2Wyj8I1IQAAABpBm69J4Q8mUwIZ//6eEAMfIY5/DstlH4RDwQAAABpBm9BJ4Q8mUwIZ//6eEATQ4Rz+HZbKPwhZQAAAABlBm/FJ4Q8mUwIZ//6eEATQ4Ry78XfSjmzAAAAAGEGaEknhDyZTAhn//p4QBLfnNnW6BkhlDQAAABhBmjNJ4Q8mUwIZ//6eEASX5zZ1ugZIZTQAAAAYQZpUSeEPJlMCGf/+nhAEd+c2dboGSGVUAAAAGUGadUnhDyZTAhn//p4QBFfnyp8ZcmyraysAAAAaQZqWSeEPJlMCGf/+nhAEN+fE8+MuTZVtZ8AAAAAaQZq3SeEPJlMCGf/+nhAEF+fEGP3ac3cW1qUAAAAbQZrYSeEPJlMCGf/+nhAGuQY5+zN1AUz9JMWBAAAAGUGa+UnhDyZTAhn//p4QBwOuNcK2PJn0+YAAAAAZQZsaSeEPJlMCGf/+nhAHVuccnrY8lDTwgQAAABlBmztJ4Q8mUwIZ//6eEAeuZxyetjyUNOqAAAAAGUGbXEnhDyZTAhv//qeEAiGMxyTuNlqmMWEAAAAZQZt9SeEPJlMCG//+p4QCQRWjo+42WqYwIQAAABlBm55J4Q8mUwId//6plgEzpZWZ5CUftEjYAAAAHkGboUnhDyZTAh3//qmWBtcizPBN943Dz9OD35xTQAAAABJBn99FETwr/wKvY/JVg3wVqLkAAAAQAZ/gakK/Aq3miZEr5OSygAAAABxBm+VJqEFomUwIb//+p4QLtsx9aW4/MgB8301JAAAAEEGeA0URLC//Aen2hi4HzsAAAAAQAZ4idEK/Ao/VoySp0ZLpgQAAAA8BniRqQr8BiQWNgcpsqYEAAAAdQZonSahBbJlMFEw3//6nhAJJ3U/YSWZqbdFMGzEAAAAQAZ5GakK/AX8mSab6SDiVMQAAABtBmktJ4QpSZTAhn/6eEAS34h/iiXnOmxUBnHAAAAAQQZ5pRTRML/8AulAgpQwdmAAAAA4Bnoh0Qr8A/tx3nnFpNwAAABABnopqQr8A+ALznWhheIXAAAAAGkGajEmoQWiZTAhv//6nhADHurSCET/LbPWAAAAAGEGar0nhClJlMCGf/p4QAw/r7+RIj6wiLwAAABFBns1FNEwr/wCoUo3mm96hVwAAAA4Bnu5qQr8AqDYx6Irb0wAAABlBmvBJqEFomUwIZ//+nhAB8vX38iRH1hGzAAAAGEGbEUnhClJlMCGf/p4QAUj3TYy5NlW5bAAAABhBmzJJ4Q6JlMCGf/6eEAE/902MuTZVuZUAAAAYQZtTSeEPJlMCG//+p4QAT/3U4/w+rbc7AAAAGEGbdEnhDyZTAhv//qeEAE2+OmP8Pq23QwAAABxBm5dJ4Q8mUwIZ//6eEAEm+IfxdHUU4+qF+pSLAAAAE0GftUURPCv/ADzAvOdZPbMTcYAAAAAQAZ/WakK/ADthEzTfSQcgcQAAABpBm9hJqEFomUwIb//+p4QAMi6tIIRP8tv1gQAAABxBm/tJ4QpSZTAhn/6eEADJ+vv02vba4zGPrMhbAAAAEkGeGUU0TCv/ACoUo3mmKpyx6QAAABABnjpqQr8AKg26KrOPwH1QAAAAGUGaPEmoQWiZTAhn//6eEAB8vX3dpzdxcHsAAAAYQZpdSeEKUmUwIZ/+nhAAef193ac3cXCPAAAAGEGafknhDomUwIZ//p4QAHc9fd2nN3FwpgAAABtBmp9J4Q8mUwIb//6nhAAdz4DAJr17M+CLJ8AAAAAhQZqhSeEPJlMFETwz//6eEACsV7riOf0jwfAUz8yz2rp5AAAAEAGewGpCvwAju0Qm4z69P2gAAAAcQZrCSeEPJlMCG//+p4QALEAQHgw5Xu9In+0OkQAAAB1BmuVJ4Q8mUwIZ//6eEACo/E7467waEfU+jqVtgAAAABJBnwNFETwr/wAisnznWT2zFC0AAAAQAZ8kakK/ACGyyGH0BIOWmQAAABlBmyZJqEFomUwIZ//+nhAAbH19/IkR9YXzAAAAGEGbR0nhClJlMCGf/p4QAEdEOP54L+SLVQAAABhBm2hJ4Q6JlMCGf/6eEABJRDj+eC/kizQAAAAYQZuJSeEPJlMCGf/+nhAAS0Q4/ngv5IsMAAAAGEGbqknhDyZTAhv//qeEABPcVpBCJ/luuwAAAB5Bm8xJ4Q8mUwURPDP//p4QAE/903uAHKecviKulUgAAAAQAZ/rakK/ABBc0bzTFW1tQAAAABhBm+1J4Q8mUwIZ//6eEAA0q+40Lpvuup0AAAAYQZoOSeEPJlMCG//+p4QADcurRzX+K5b3AAAAIEGaMEnhDyZTBRE8M//+nhAAVivc1xz6RqBO/54r3aRnAAAADwGeT2pCvwAR3YjyYHr33wAAAB9BmlJJ4Q8mUwU8M//+nhAAWGvwlb5lmo+5teT3Z5QIAAAAEAGecWpCvwASXNG80xVtZMEAAAAaQZpzSeEPJlMCGf/+nhAAOd64298ABNf55O0AAAAYQZqUSeEPJlMCGf/+nhAAWrgxz+HYT64zAAAAGEGatUnhDyZTAhn//p4QAIqcI5/DsJ9bLwAAABhBmtZJ4Q8mUwIZ//6eEADXyGOfw7CfWm0AAAAYQZr3SeEPJlMCG//+p4QAN37B69mfBFg3AAAAHkGbGUnhDyZTBRE8M//+nhAA0/r79Nr3Mc502Km2eQAAABABnzhqQr8ALE1851oYXnVAAAAAGEGbOknhDyZTAhn//p4QAIN8Q/tkMfWFnwAAABlBm1tJ4Q8mUwIb//6nhAAWP3U/UcaEh0vAAAAAGUGbfEnhDyZTAhv//qeEAA43sH+E4LdCpMEAAAAgQZuASeEPJlMCGf/+nhAAJN8Q/i6O211S07uXWzYRF6EAAAAWQZ++RRE8L/8ABa2Nt06OVyJknkXLgAAAABABn910Qr8AB5mwNbTKHuhAAAAAEAGf32pCvwAE+a+c6pmOS0EAAAAZQZvBSahBaJlMCGf//p4QABbPidnW6BklrAAAABhBm+JJ4QpSZTAhn/6eEAAWP4nZ1ugZJc0AAAAYQZoDSeEOiZTAhn/+nhAAFa+J2dboGSXsAAAAGEGaJEnhDyZTAhn//p4QABUfidnW6BkmDQAAABhBmkVJ4Q8mUwIZ//6eEAAUj4nZ1ugZJi0AAAAZQZpmSeEPJlMCGf/+nhAAE/+MZ/GXJsrBqQAAABpBmodJ4Q8mUwIZ//6eEAATb58ZRu05u4wegQAAABpBmqhJ4Q8mUwIZ//6eEAAS758QxOtHL3OfUAAAACFBmspJ4Q8mUwURPDP//p4QABuV91xHP6R4PgQn9Kz2ucgAAAAQAZ7pakK/AAXSyITcZ9evOQAAABlBmutJ4Q8mUwIZ//6eEAAcP1xrhWx5VQOAAAAAGUGbDEnhDyZTAhn//p4QABzvXGuFbHlU/4AAAAAZQZstSeEPJlMCGf/+nhAAHZ9ca4VseVT7gQAAABlBm05J4Q8mUwIZ//6eEAAeT1xrhWx5VPeBAAAAGUGbb0nhDyZTAhn//p4QAB7/XGuFbHlU84EAAAAZQZuQSeEPJlMCG//+p4QACCj5jkncbMF74AAAABtBm7NJ4Q8mUwIZ//6eEAAyMhjn9I6+/aMtrPEAAAASQZ/RRRE8K/8ACoWRC7DfS9a5AAAAEAGf8mpCvwAKyo0TImlaEEAAAAAZQZv0SahBaJlMCGf//p4QADJ+vu7Tm7i63AAAABhBmhVJ4QpSZTAhn/6eEAAxPr7u05u4uv0AAAAYQZo2SeEOiZTAhn/+nhAAL/6+7tObuLscAAAAGEGaV0nhDyZTAhv//qeEAAv/sHr2Z8EXLQAAABhBmnhJ4Q8mUwIb//6nhAALr7qcf4fVt8sAAAAZQZqcSeEPJlMCGf/+nhAAQ74h/iiciOePcwAAABBBnrpFETwv/wAKhQIJ5dphAAAAEAGe2XRCvwAJEsW3TsuzQIAAAAAQAZ7bakK/AA4pqHP8y3hZwQAAABlBmt1JqEFomUwIZ//+nhAALVXuNC6b7rtdAAAAGEGa/knhClJlMCGf/p4QAC517jQum+67PAAAABhBmx9J4Q6JlMCGf/6eEAAvq+40LpvuuxwAAAAZQZsgSeEPJlMCG//+p4QADIurSCET/Le1gQAAABlBm0FJ4Q8mUwIb//6nhAAM26tIIRP8t7CAAAAAHUGbZEnhDyZTAhv//qeEABUfbp5lliZHcfdrS13PAAAAEkGfgkURPCv/ABDdob/YbzssngAAAA8Bn6NqQr8AEN2eW4bNqqMAAAAcQZumSahBaJlMFPDf/qeEACCj5mps24ze6nxg9QAAABABn8VqQr8AGwdqW4bNqjiBAAAAHEGbyEnhClJlMFLDf/6nhAAg3x0+60szU26LZ1kAAAAQAZ/nakK/ABumbmuPFW1K4AAAAB5Bm+xJ4Q6JlMCGf/6eEABWvdN9mt7FnPMss+fZiKgAAAAVQZ4KRRU8L/8ADTCOMZyy43Dwj4rpAAAAEAGeKXRCvwASXcd5Wyh6yYAAAAAQAZ4rakK/AAxCVsWGsMlA4AAAABlBmi1JqEFomUwIZ//+nhAAJd8Q/tkMfWJtAAAAGEGaTknhClJlMCGf/p4QABifX3dpzdxfvQAAABhBmm9J4Q6JlMCGf/6eEAAX/19/IkR9Yz8AAAAYQZqQSeEPJlMCGf/+nhAADz+vu7Tm7jEuAAAAGEGasUnhDyZTAhn//p4QAA7nr7u05u4xRgAAABhBmtJJ4Q8mUwIZ//6eEAAOj6+7tObuMVsAAAAYQZrzSeEPJlMCGf/+nhAADjevu7Tm7jFyAAAAGEGbFEnhDyZTAhn//p4QAA3fr7u05u4xhgAAABhBmzVJ4Q8mUwIZ//6eEAANj6+7tObuMZ0AAAAYQZtWSeEPJlMCGf/+nhAADT+vu7Tm7jG8AAAAGEGbd0nhDyZTAhn//p4QAAzvr7u05u4x3QAAABhBm5hJ4Q8mUwIb//6nhAADO+wevZnwRsMAAAAYQZu5SeEPJlMCG//+p4QAAyfsHr2Z8EbLAAAAGEGb20nhDyZTBRE8N//+p4QAAv/sH+ahgQAAAA8Bn/pqQr8AAnVlG6z1aZEAAAAaQZv/SeEPJlMCG//+p4QABNV2KzbjN7qfIokAAAAQQZ4dRRE8L/8AAujLBPkbwQAAABABnjx0Qr8AA+MVarwIr3yAAAAADwGePmpCvwAD42BLlf5hwAAAABxBmiFJqEFomUwU8M/+nhAAHZ9cjdjhpb6++4/hAAAAEAGeQGpCvwAGSdU8mB6+f4AAAAAYQZpCSeEKUmUwIZ/+nhAAHk9cbe9N917PAAAAGUGaY0nhDomUwIb//qeEAAfsHhTrOn3XroAAAAAYQZqESeEPJlMCG//+p4QACCj5jyMT/Lg5AAAAHUGapknhDyZTBRE8N//+p4QACDfHT7rSzNTbouVZAAAAEAGexWpCvwAG6Zua48VbeOEAAAAYQZrJSeEPJlMCG//+p4QABasVpBCJ/lxzAAAAD0Ge50URPCv/AASWTcPHQAAAAA8BnwhqQr8ABJg1gXX+U0AAAAAZQZsKSahBaJlMCHf//qmWAALtpZWdmO5dMQAAAB1Bmy5J4QpSZTAhv/6nhAAI98dPtV5udQeB4N0ZRQAAABFBn0xFNEwv/wAFZZS55VHW7gAAAA8Bn2t0Qr8AB0LFYwhV+UEAAAAQAZ9takK/AATXNG80xVuOwQAAABpBm29JqEFomUwId//+qZYAAwFSDNAHpL7Y0QAAABtBm5NJ4QpSZTAh3/6plgADBe0v7FgOiBbjG4YAAAAVQZ+xRTRML/8ABa5WOlxq4nt1IfnEAAAAEAGf0HRCvwAHmirVeBFeWYEAAAAQAZ/SakK/AAeYIBOvAFBzgAAAABNBm9dJqEFomUwId//+qZYAAJWAAAAADEGf9UURLC//AACygQAAABABnhR0Qr8ABPugHQsYnHeQAAAAEAGeFmpCvwAE+ja7vJKTTyEAAAATQZobSahBbJlMCHf//qmWAACVgQAAAAxBnjlFFSwv/wAAsoAAAAAQAZ5YdEK/AAT7oB0LGJx3kQAAABABnlpqQr8ABPo2u7ySk08gAAAAEkGaX0moQWyZTAhv//6nhAABJwAAAAxBnn1FFSwv/wAAsoEAAAAQAZ6cdEK/AAT7oB0LGJx3kAAAABABnp5qQr8ABPo2u7ySk08gAAAAEkGag0moQWyZTAhv//6nhAABJwAAAAxBnqFFFSwv/wAAsoAAAAAQAZ7AdEK/AAT7oB0LGJx3kQAAABABnsJqQr8ABPo2u7ySk08gAAAAEkGax0moQWyZTAhn//6eEAAEfQAAAAxBnuVFFSwv/wAAsoEAAAAQAZ8EdEK/AAT7oB0LGJx3kQAAABABnwZqQr8ABPo2u7ySk08hAAAAG0GbCUuoQhBbJEYIKAfyAf2HgFEwr/44QAARcAAAACQBnyhqQr8Cr2PtQcTdqsNJJuWqhgcstbvNKiCaLC4i0lJgIb4AAAnobW9vdgAAAGxtdmhkAAAAAAAAAAAAAAAAAAAD6AAAH5AAAQAAAQAAAAAAAAAAAAAAAAEAAAAAAAAAAAAAAAAAAAABAAAAAAAAAAAAAAAAAABAAAAAAAAAAAAAAAAAAAAAAAAAAAAAAAAAAAAAAAAAAgAACRJ0cmFrAAAAXHRraGQAAAADAAAAAAAAAAAAAAABAAAAAAAAH5AAAAAAAAAAAAAAAAAAAAAAAAEAAAAAAAAAAAAAAAAAAAABAAAAAAAAAAAAAAAAAABAAAAAARAAAAEQAAAAAAAkZWR0cwAAABxlbHN0AAAAAAAAAAEAAB+QAAAEAAABAAAAAAiKbWRpYQAAACBtZGhkAAAAAAAAAAAAAAAAAAAyAAABlABVxAAAAAAALWhkbHIAAAAAAAAAAHZpZGUAAAAAAAAAAAAAAABWaWRlb0hhbmRsZXIAAAAINW1pbmYAAAAUdm1oZAAAAAEAAAAAAAAAAAAAACRkaW5mAAAAHGRyZWYAAAAAAAAAAQAAAAx1cmwgAAAAAQAAB/VzdGJsAAAAlXN0c2QAAAAAAAAAAQAAAIVhdmMxAAAAAAAAAAEAAAAAAAAAAAAAAAAAAAAAARABEABIAAAASAAAAAAAAAABAAAAAAAAAAAAAAAAAAAAAAAAAAAAAAAAAAAAAAAAAAAAGP//AAAAL2F2Y0MB9AAN/+EAF2f0AA2RmygiEdCAAAADAIAAABkHihTLAQAFaOvjxEgAAAAYc3R0cwAAAAAAAAABAAAAygAAAgAAAAAUc3RzcwAAAAAAAAABAAAAAQAAA8BjdHRzAAAAAAAAAHYAAAAFAAAEAAAAAAEAAAgAAAAAAgAAAgAAAAADAAAEAAAAAAEAAAYAAAAAAQAAAgAAAAASAAAEAAAAAAEAAAgAAAAAAgAAAgAAAAABAAAKAAAAAAEAAAQAAAAAAQAAAAAAAAABAAACAAAAAAEAAAYAAAAAAQAAAgAAAAABAAAKAAAAAAEAAAQAAAAAAQAAAAAAAAABAAACAAAAAAEAAAQAAAAAAQAACAAAAAACAAACAAAAAAUAAAQAAAAAAQAACAAAAAACAAACAAAAAAEAAAQAAAAAAQAACAAAAAACAAACAAAAAAQAAAQAAAAAAQAABgAAAAABAAACAAAAAAEAAAQAAAAAAQAACAAAAAACAAACAAAAAAUAAAQAAAAAAQAABgAAAAABAAACAAAAAAIAAAQAAAAAAQAABgAAAAABAAACAAAAAAEAAAYAAAAAAQAAAgAAAAAFAAAEAAAAAAEAAAYAAAAAAQAAAgAAAAADAAAEAAAAAAEAAAoAAAAAAQAABAAAAAABAAAAAAAAAAEAAAIAAAAACAAABAAAAAABAAAGAAAAAAEAAAIAAAAABgAABAAAAAABAAAIAAAAAAIAAAIAAAAABQAABAAAAAABAAAKAAAAAAEAAAQAAAAAAQAAAAAAAAABAAACAAAAAAUAAAQAAAAAAQAACAAAAAACAAACAAAAAAEAAAYAAAAAAQAAAgAAAAABAAAGAAAAAAEAAAIAAAAAAQAACgAAAAABAAAEAAAAAAEAAAAAAAAAAQAAAgAAAAANAAAEAAAAAAEAAAYAAAAAAQAAAgAAAAABAAAKAAAAAAEAAAQAAAAAAQAAAAAAAAABAAACAAAAAAEAAAYAAAAAAQAAAgAAAAADAAAEAAAAAAEAAAYAAAAAAQAAAgAAAAABAAAIAAAAAAIAAAIAAAAAAQAABAAAAAABAAAKAAAAAAEAAAQAAAAAAQAAAAAAAAABAAACAAAAAAEAAAQAAAAAAQAACgAAAAABAAAEAAAAAAEAAAAAAAAAAQAAAgAAAAABAAAKAAAAAAEAAAQAAAAAAQAAAAAAAAABAAACAAAAAAEAAAoAAAAAAQAABAAAAAABAAAAAAAAAAEAAAIAAAAAAQAACgAAAAABAAAEAAAAAAEAAAAAAAAAAQAAAgAAAAABAAAKAAAAAAEAAAQAAAAAAQAAAAAAAAABAAACAAAAAAEAAAoAAAAAAQAABAAAAAABAAAAAAAAAAEAAAIAAAAAAQAABgAAAAABAAACAAAAABxzdHNjAAAAAAAAAAEAAAABAAAAygAAAAEAAAM8c3RzegAAAAAAAAAAAAAAygAAA88AAAAlAAAAGwAAABwAAAAdAAAAIQAAABYAAAAUAAAAHQAAABwAAAAcAAAAJAAAABQAAAAeAAAAHgAAAB4AAAAeAAAAHQAAABwAAAAcAAAAHAAAAB0AAAAeAAAAHgAAAB8AAAAdAAAAHQAAAB0AAAAdAAAAHQAAAB0AAAAiAAAAFgAAABQAAAAgAAAAFAAAABQAAAATAAAAIQAAABQAAAAfAAAAFAAAABIAAAAUAAAAHgAAABwAAAAVAAAAEgAAAB0AAAAcAAAAHAAAABwAAAAcAAAAIAAAABcAAAAUAAAAHgAAACAAAAAWAAAAFAAAAB0AAAAcAAAAHAAAAB8AAAAlAAAAFAAAACAAAAAhAAAAFgAAABQAAAAdAAAAHAAAABwAAAAcAAAAHAAAACIAAAAUAAAAHAAAABwAAAAkAAAAEwAAACMAAAAUAAAAHgAAABwAAAAcAAAAHAAAABwAAAAiAAAAFAAAABwAAAAdAAAAHQAAACQAAAAaAAAAFAAAABQAAAAdAAAAHAAAABwAAAAcAAAAHAAAAB0AAAAeAAAAHgAAACUAAAAUAAAAHQAAAB0AAAAdAAAAHQAAAB0AAAAdAAAAHwAAABYAAAAUAAAAHQAAABwAAAAcAAAAHAAAABwAAAAdAAAAFAAAABQAAAAUAAAAHQAAABwAAAAcAAAAHQAAAB0AAAAhAAAAFgAAABMAAAAgAAAAFAAAACAAAAAUAAAAIgAAABkAAAAUAAAAFAAAAB0AAAAcAAAAHAAAABwAAAAcAAAAHAAAABwAAAAcAAAAHAAAABwAAAAcAAAAHAAAABwAAAAcAAAAEwAAAB4AAAAUAAAAFAAAABMAAAAgAAAAFAAAABwAAAAdAAAAHAAAACEAAAAUAAAAHAAAABMAAAATAAAAHQAAACEAAAAVAAAAEwAAABQAAAAeAAAAHwAAABkAAAAUAAAAFAAAABcAAAAQAAAAFAAAABQAAAAXAAAAEAAAABQAAAAUAAAAFgAAABAAAAAUAAAAFAAAABYAAAAQAAAAFAAAABQAAAAWAAAAEAAAABQAAAAUAAAAHwAAACgAAAAUc3RjbwAAAAAAAAABAAAAMAAAAGJ1ZHRhAAAAWm1ldGEAAAAAAAAAIWhkbHIAAAAAAAAAAG1kaXJhcHBsAAAAAAAAAAAAAAAALWlsc3QAAAAlqXRvbwAAAB1kYXRhAAAAAQAAAABMYXZmNTcuODMuMTAw\" type=\"video/mp4\" />\n",
              "             </video>"
            ],
            "text/plain": [
              "<IPython.core.display.HTML object>"
            ]
          },
          "metadata": {
            "tags": []
          },
          "execution_count": 27
        }
      ]
    },
    {
      "metadata": {
        "id": "HxJ-dC24O64Q",
        "colab_type": "code",
        "outputId": "39b80480-4645-4f37-edd6-8bc6710a8c77",
        "colab": {
          "base_uri": "https://localhost:8080/",
          "height": 293
        }
      },
      "cell_type": "code",
      "source": [
        "HTML(display_videos('fc_test30.mp4'))"
      ],
      "execution_count": 28,
      "outputs": [
        {
          "output_type": "execute_result",
          "data": {
            "text/html": [
              "<video alt=\"test\" controls>\n",
              "                <source src=\"data:video/mp4;base64,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\" type=\"video/mp4\" />\n",
              "             </video>"
            ],
            "text/plain": [
              "<IPython.core.display.HTML object>"
            ]
          },
          "metadata": {
            "tags": []
          },
          "execution_count": 28
        }
      ]
    },
    {
      "metadata": {
        "id": "7pbA0bt4REtR",
        "colab_type": "text"
      },
      "cell_type": "markdown",
      "source": [
        "# Architectures tested.\n",
        "\n",
        "**Model FC:** 1 hidden layer with 50 nodes and relu activation function.\n",
        "\n",
        "**Model CNN:** 2 hidden convolutional layers with 30 filters of size (2x2) and relu activation functions.\n",
        "\n",
        "We can se how the CNN model performs better than the FC model and how this difference becomes larger as we increase the temperature. This is expected since the FC does not take into account the structure of the neighborhood given as input. \n",
        "\n",
        "It is worthnoting that both algorithms do not explore all the map. I tried to fix very high exploring rates , but what happened is that the algorithm did not learn efficiently. Additionally, as I pointed out in the previous section, different architectures does not seem to solve the problem neither.\n",
        "\n",
        "What I realized is that the lack  of exploration of  the agent depends on the way it is trained. The loss the agent has when it goes to a malus position is larger that the bonus it gets when it finds cheese. Furthermore, it does not get penalized if it remains in a neutral cell. This makes the agent learn to not take risks even whent it could potentially improve the future rewards.\n",
        "\n",
        "The first solution given below makes training easier by removing the condition that the exploration rate should be constant. It is intuitive that during the first epochs, when the agent knows nothing about the game, it should prioritize exploring , while it should take advantage of what it has learned as much as it can once the neural network is close to the real value of the Q function.  \n",
        "\n",
        "The second solution in which the agent is penalized when it remains in the same position solves the problem that the agent does not take enough risks.\n",
        "\n",
        "\n",
        "\n",
        "\n"
      ]
    },
    {
      "metadata": {
        "id": "GUMX52BvO64-",
        "colab_type": "text"
      },
      "cell_type": "markdown",
      "source": [
        "| Model       |    #  epochs Train    |  Temperature |      Epsilon | Learning Rate | Batch size|Memory size| Final Average score over 50 epochs\n",
        "| :------------ | :-------------: | -------------: | -------------: |-------------: |-------------: |-------------: |\n",
        "| FC       |     50       |0.1|       0.1 |0.1 |32 |2000 |1.61 |\n",
        "|CNN  |   50          |0.1|      0.1 |0.1 |32 |2000 | 2.19 |\n",
        "| FC       |     50         |0.3|       0.1 |0.1 |32 |2000 |3.35|\n",
        "| CNN      |      50        |0.3|       0.1 |0.1 |32 |2000 |5.79|\n",
        "| FC    |      50         |0.7|       0.1 |0.1 |32 |2000 |13.53|\n",
        "| CNN      |      50        |0.7|       0.1 |0.1 |32 |2000 |20.35|\n",
        "|FC     |      50         |0.9|       0.1 |0.1 |32 |2000 |19.21|\n",
        "| CNN     |      50         |0.9|       0.1 |0.1 |32 |2000 |35.71|"
      ]
    },
    {
      "metadata": {
        "id": "mvtcIYCcO65M",
        "colab_type": "text"
      },
      "cell_type": "markdown",
      "source": [
        "***\n",
        "\n",
        "The algorithm tends to not explore the map which can be an issue. We propose two ideas in order to encourage exploration:\n",
        "1. Incorporating a decreasing $\\epsilon$-greedy exploration. You can use the method ```set_epsilon```\n",
        "2. Append via the environment a new state that describes if a cell has been visited or not\n",
        "\n",
        "***\n",
        "__Question 10__ Design a new ```train_explore``` function and environment class ```EnvironmentExploring``` to tackle the issue of exploration.\n",
        "\n"
      ]
    },
    {
      "metadata": {
        "id": "ZNs9Ds5RO65d",
        "colab_type": "code",
        "colab": {}
      },
      "cell_type": "code",
      "source": [
        "def train_explore(agent,env,epoch,prefix='',gamma=0.6):\n",
        "    # Number of won games\n",
        "    score = 0\n",
        "    loss = 0\n",
        "\n",
        "    for e in range(epoch):\n",
        "        # At each epoch, we restart to a fresh game and get the initial state\n",
        "        n=0\n",
        "        state = env.reset()\n",
        "        # This assumes that the games will terminate\n",
        "        game_over = False\n",
        "\n",
        "        win = 0\n",
        "        lose = 0\n",
        "        \n",
        "        agent.set_epsilon((1/(e+10))**gamma)\n",
        "\n",
        "        while not game_over:\n",
        "            # Add decreasing eps\n",
        "          \n",
        "          \n",
        "            # The agent performs an action\n",
        "            action = agent.act(state)\n",
        "\n",
        "            # Apply an action to the environment, get the next state, the reward\n",
        "            # and if the games end\n",
        "            prev_state = state\n",
        "            state, reward, game_over = env.act(action,train=True)\n",
        "\n",
        "            # Update the counters\n",
        "            if reward > 0:\n",
        "                win = win + reward\n",
        "            if reward < 0:\n",
        "                lose = lose -reward\n",
        "\n",
        "            # Apply the reinforcement strategy\n",
        "            loss = agent.reinforce(prev_state, state,  action, reward, game_over)\n",
        "\n",
        "        # Save as a mp4\n",
        "        if e % 10 == 0:\n",
        "            env.draw(prefix+str(e))\n",
        "\n",
        "        # Update stats\n",
        "        score += win-lose\n",
        "\n",
        "        print(\"Epoch {:03d}/{:03d} | Loss {:.4f} | Win/lose count {}/{} ({})\"\n",
        "              .format(e, epoch, loss, win, lose, win-lose))\n",
        "        agent.save(name_weights=prefix+'model.h5',name_model=prefix+'model.json')  \n",
        "  \n",
        "  \n",
        " \n",
        "        \n",
        "class EnvironmentExploring(object):\n",
        "    def __init__(self, grid_size=10, max_time=500, temperature=0.1):\n",
        "        grid_size = grid_size+4\n",
        "        self.grid_size = grid_size\n",
        "        self.max_time = max_time\n",
        "        self.temperature = temperature\n",
        "\n",
        "        #board on which one plays\n",
        "        self.board = np.zeros((grid_size,grid_size))\n",
        "        self.position = np.zeros((grid_size,grid_size))\n",
        "        \n",
        "        ### This matrix will indicate which cells have been explored\n",
        "        self.malus_position = np.zeros((grid_size,grid_size))\n",
        "        \n",
        "        # coordinate of the cat\n",
        "        self.x = 0\n",
        "        self.y = 1\n",
        "\n",
        "        # self time\n",
        "        self.t = 0\n",
        "\n",
        "        self.scale=16\n",
        "\n",
        "        self.to_draw = np.zeros((max_time+2, grid_size*self.scale, grid_size*self.scale, 3))\n",
        "\n",
        "\n",
        "    def draw(self,e):\n",
        "        skvideo.io.vwrite(str(e) + '.mp4', self.to_draw)\n",
        "\n",
        "    def get_frame(self,t):\n",
        "        b = np.zeros((self.grid_size,self.grid_size,3))+128\n",
        "        b[self.board>0,0] = 256\n",
        "        b[self.board < 0, 2] = 256\n",
        "        b[self.x,self.y,:]=256\n",
        "        b[-2:,:,:]=0\n",
        "        b[:,-2:,:]=0\n",
        "        b[:2,:,:]=0\n",
        "        b[:,:2,:]=0\n",
        "        \n",
        "        b =  cv2.resize(b, None, fx=self.scale, fy=self.scale, interpolation=cv2.INTER_NEAREST)\n",
        "\n",
        "        self.to_draw[t,:,:,:]=b\n",
        "\n",
        "\n",
        "    def act(self,action,train=False):\n",
        "        \"\"\"This function returns the new state, reward and decides if the\n",
        "        game ends.\"\"\"\n",
        "\n",
        "        self.get_frame(int(self.t))\n",
        "\n",
        "        self.position = np.zeros((self.grid_size, self.grid_size))\n",
        "\n",
        "        self.position[0:2,:]= -1\n",
        "        self.position[:,0:2] = -1\n",
        "        self.position[-2:, :] = -1\n",
        "        self.position[:, -2:] = -1 ## I think there is a mistake here \n",
        "\n",
        "        self.position[self.x, self.y] = 1\n",
        "        if action == 0:\n",
        "            if self.x == self.grid_size-3:\n",
        "                self.x = self.x-1\n",
        "            else:\n",
        "                self.x = self.x + 1\n",
        "        elif action == 1:\n",
        "            if self.x == 2:\n",
        "                self.x = self.x+1\n",
        "            else:\n",
        "                self.x = self.x-1\n",
        "        elif action == 2:\n",
        "            if self.y == self.grid_size - 3:\n",
        "                self.y = self.y - 1\n",
        "            else:\n",
        "                self.y = self.y + 1\n",
        "        elif action == 3:\n",
        "            if self.y == 2:\n",
        "                self.y = self.y + 1\n",
        "            else:\n",
        "                self.y = self.y - 1\n",
        "        else:\n",
        "            RuntimeError('Error: action not recognized')\n",
        "\n",
        "        self.t = self.t + 1\n",
        "        \n",
        "        #################### Here we include the penalization to revisit a cell.\n",
        "        ### Each time a cell is revisit the agent will get a penalization if 0.1\n",
        "        \n",
        "        reward = 0\n",
        "        if train:\n",
        "           reward = -self.malus_position[self.x, self.y]\n",
        "        self.malus_position[self.x, self.y] = 0.1\n",
        "\n",
        "        reward = reward + self.board[self.x, self.y]\n",
        "        \n",
        "        ################################\n",
        "  \n",
        "        self.board[self.x, self.y] = 0\n",
        "        game_over = self.t > self.max_time\n",
        "        state = np.concatenate((self.malus_position.reshape(self.grid_size, self.grid_size,1),\n",
        "                                self.board.reshape(self.grid_size, self.grid_size,1),\n",
        "                        self.position.reshape(self.grid_size, self.grid_size,1)),axis=2)\n",
        "        state = state[self.x-2:self.x+3,self.y-2:self.y+3,:]\n",
        "\n",
        "        return state, reward, game_over\n",
        "\n",
        "    def reset(self):\n",
        "        \"\"\"This function resets the game and returns the initial state\"\"\"\n",
        "\n",
        "        self.x = np.random.randint(3, self.grid_size-3, size=1)[0]\n",
        "        self.y = np.random.randint(3, self.grid_size-3, size=1)[0]\n",
        "\n",
        "\n",
        "        bonus = 0.5*np.random.binomial(1,self.temperature,size=self.grid_size**2)\n",
        "        bonus = bonus.reshape(self.grid_size,self.grid_size)\n",
        "\n",
        "        malus = -1.0*np.random.binomial(1,self.temperature,size=self.grid_size**2)\n",
        "        malus = malus.reshape(self.grid_size, self.grid_size)\n",
        "\n",
        "        self.to_draw = np.zeros((self.max_time+2, self.grid_size*self.scale, self.grid_size*self.scale, 3))\n",
        "\n",
        "\n",
        "        malus[bonus>0]=0\n",
        "\n",
        "        self.board = bonus + malus\n",
        "\n",
        "        self.position = np.zeros((self.grid_size, self.grid_size))\n",
        "        self.position[0:2,:]= -1\n",
        "        self.position[:,0:2] = -1\n",
        "        self.position[-2:, :] = -1\n",
        "        self.position[:,-2:] = -1\n",
        "        self.board[self.x,self.y] = 0\n",
        "        self.t = 0\n",
        "\n",
        "        ##### Reset malus position at 0.\n",
        "        self.malus_position = np.zeros((self.grid_size, self.grid_size))\n",
        "        \n",
        "        state = np.concatenate((self.malus_position.reshape(self.grid_size, self.grid_size,1),\n",
        "                                self.board.reshape(self.grid_size, self.grid_size,1),\n",
        "                        self.position.reshape(self.grid_size, self.grid_size,1)),axis=2)\n",
        "\n",
        "        state = state[self.x - 2:self.x + 3, self.y - 2:self.y + 3, :]\n",
        "        return state\n",
        "\n",
        "   \n",
        "        pass"
      ],
      "execution_count": 0,
      "outputs": []
    },
    {
      "metadata": {
        "id": "e9uMIZ75O66O",
        "colab_type": "code",
        "outputId": "bdfcf225-297d-44fe-80f1-fcb45551a1d4",
        "colab": {
          "base_uri": "https://localhost:8080/",
          "height": 1038
        }
      },
      "cell_type": "code",
      "source": [
        "# Training\n",
        "env = EnvironmentExploring(grid_size=size, max_time=T, temperature=0.3)\n",
        "agent = DQN_CNN(size, lr=.1, epsilon = 0.1, memory_size=1000, batch_size = 32,n_state=3)\n",
        "train_explore(agent, env, epochs_train, prefix='cnn_train_explore')\n",
        "HTML(display_videos('cnn_train_explore10.mp4'))"
      ],
      "execution_count": 32,
      "outputs": [
        {
          "output_type": "stream",
          "text": [
            "Epoch 000/050 | Loss 0.0163 | Win/lose count 12.5/30.10000000000013 (-17.60000000000013)\n",
            "Epoch 001/050 | Loss 0.0079 | Win/lose count 7.5/24.700000000000085 (-17.200000000000085)\n",
            "Epoch 002/050 | Loss 0.0062 | Win/lose count 8.0/19.80000000000002 (-11.800000000000018)\n",
            "Epoch 003/050 | Loss 0.0098 | Win/lose count 3.5/21.500000000000043 (-18.000000000000043)\n",
            "Epoch 004/050 | Loss 0.0071 | Win/lose count 4.0/22.100000000000055 (-18.100000000000055)\n",
            "Epoch 005/050 | Loss 0.0083 | Win/lose count 9.0/22.50000000000005 (-13.50000000000005)\n",
            "Epoch 006/050 | Loss 0.0016 | Win/lose count 6.5/22.500000000000036 (-16.000000000000036)\n",
            "Epoch 007/050 | Loss 0.0129 | Win/lose count 17.5/16.899999999999974 (0.6000000000000263)\n",
            "Epoch 008/050 | Loss 0.0281 | Win/lose count 6.5/19.10000000000001 (-12.600000000000009)\n",
            "Epoch 009/050 | Loss 0.0121 | Win/lose count 14.0/19.50000000000002 (-5.500000000000021)\n",
            "Epoch 010/050 | Loss 0.0044 | Win/lose count 12.5/18.79999999999998 (-6.299999999999979)\n",
            "Epoch 011/050 | Loss 0.0108 | Win/lose count 14.5/17.900000000000002 (-3.400000000000002)\n",
            "Epoch 012/050 | Loss 0.0094 | Win/lose count 21.5/16.299999999999976 (5.200000000000024)\n",
            "Epoch 013/050 | Loss 0.0388 | Win/lose count 15.5/23.00000000000007 (-7.500000000000071)\n",
            "Epoch 014/050 | Loss 0.0141 | Win/lose count 17.0/17.700000000000003 (-0.7000000000000028)\n",
            "Epoch 015/050 | Loss 0.0055 | Win/lose count 28.0/15.79999999999998 (12.20000000000002)\n",
            "Epoch 016/050 | Loss 0.0100 | Win/lose count 24.0/12.099999999999973 (11.900000000000027)\n",
            "Epoch 017/050 | Loss 0.0237 | Win/lose count 15.0/17.49999999999997 (-2.4999999999999716)\n",
            "Epoch 018/050 | Loss 0.0150 | Win/lose count 2.5/22.500000000000007 (-20.000000000000007)\n",
            "Epoch 019/050 | Loss 0.0059 | Win/lose count 16.0/20.000000000000032 (-4.000000000000032)\n",
            "Epoch 020/050 | Loss 0.0181 | Win/lose count 19.0/17.7 (1.3000000000000007)\n",
            "Epoch 021/050 | Loss 0.0239 | Win/lose count 21.0/19.80000000000001 (1.1999999999999886)\n",
            "Epoch 022/050 | Loss 0.0071 | Win/lose count 20.5/16.399999999999977 (4.100000000000023)\n",
            "Epoch 023/050 | Loss 0.0177 | Win/lose count 17.5/17.29999999999999 (0.20000000000000995)\n",
            "Epoch 024/050 | Loss 0.0163 | Win/lose count 23.5/13.999999999999973 (9.500000000000027)\n",
            "Epoch 025/050 | Loss 0.0120 | Win/lose count 15.0/16.799999999999972 (-1.7999999999999723)\n",
            "Epoch 026/050 | Loss 0.0159 | Win/lose count 23.5/13.199999999999973 (10.300000000000027)\n",
            "Epoch 027/050 | Loss 0.0066 | Win/lose count 17.0/15.499999999999961 (1.500000000000039)\n",
            "Epoch 028/050 | Loss 0.0059 | Win/lose count 18.5/14.599999999999975 (3.9000000000000252)\n",
            "Epoch 029/050 | Loss 0.0160 | Win/lose count 20.5/19.999999999999993 (0.5000000000000071)\n",
            "Epoch 030/050 | Loss 0.0084 | Win/lose count 24.5/11.499999999999975 (13.000000000000025)\n",
            "Epoch 031/050 | Loss 0.0084 | Win/lose count 24.0/14.899999999999974 (9.100000000000026)\n",
            "Epoch 032/050 | Loss 0.0086 | Win/lose count 21.0/14.69999999999997 (6.300000000000029)\n",
            "Epoch 033/050 | Loss 0.0104 | Win/lose count 20.5/13.499999999999979 (7.000000000000021)\n",
            "Epoch 034/050 | Loss 0.0318 | Win/lose count 20.5/19.60000000000002 (0.8999999999999808)\n",
            "Epoch 035/050 | Loss 0.0362 | Win/lose count 21.0/13.999999999999977 (7.000000000000023)\n",
            "Epoch 036/050 | Loss 0.0102 | Win/lose count 13.5/19.800000000000008 (-6.300000000000008)\n",
            "Epoch 037/050 | Loss 0.0111 | Win/lose count 21.0/14.89999999999997 (6.10000000000003)\n",
            "Epoch 038/050 | Loss 0.0130 | Win/lose count 14.0/17.39999999999998 (-3.399999999999981)\n",
            "Epoch 039/050 | Loss 0.0108 | Win/lose count 10.5/19.700000000000014 (-9.200000000000014)\n",
            "Epoch 040/050 | Loss 0.0077 | Win/lose count 16.5/16.59999999999998 (-0.0999999999999801)\n",
            "Epoch 041/050 | Loss 0.0116 | Win/lose count 23.5/14.399999999999972 (9.100000000000028)\n",
            "Epoch 042/050 | Loss 0.0019 | Win/lose count 17.0/11.499999999999982 (5.500000000000018)\n",
            "Epoch 043/050 | Loss 0.0088 | Win/lose count 19.0/14.699999999999976 (4.300000000000024)\n",
            "Epoch 044/050 | Loss 0.0157 | Win/lose count 13.5/16.199999999999964 (-2.6999999999999638)\n",
            "Epoch 045/050 | Loss 0.0154 | Win/lose count 19.5/15.299999999999972 (4.200000000000028)\n",
            "Epoch 046/050 | Loss 0.0057 | Win/lose count 23.0/17.399999999999988 (5.600000000000012)\n",
            "Epoch 047/050 | Loss 0.0150 | Win/lose count 26.5/14.799999999999974 (11.700000000000026)\n",
            "Epoch 048/050 | Loss 0.0043 | Win/lose count 25.5/12.399999999999975 (13.100000000000025)\n",
            "Epoch 049/050 | Loss 0.0265 | Win/lose count 8.0/18.699999999999985 (-10.699999999999985)\n"
          ],
          "name": "stdout"
        },
        {
          "output_type": "execute_result",
          "data": {
            "text/html": [
              "<video alt=\"test\" controls>\n",
              "                <source src=\"data:video/mp4;base64,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\" type=\"video/mp4\" />\n",
              "             </video>"
            ],
            "text/plain": [
              "<IPython.core.display.HTML object>"
            ]
          },
          "metadata": {
            "tags": []
          },
          "execution_count": 32
        }
      ]
    },
    {
      "metadata": {
        "id": "mvC6tb89SveI",
        "colab_type": "code",
        "colab": {
          "base_uri": "https://localhost:8080/",
          "height": 293
        },
        "outputId": "2f0ef2f9-3911-4b86-96a7-8e4c415489cf"
      },
      "cell_type": "code",
      "source": [
        "HTML(display_videos('cnn_train_explore30.mp4'))"
      ],
      "execution_count": 33,
      "outputs": [
        {
          "output_type": "execute_result",
          "data": {
            "text/html": [
              "<video alt=\"test\" controls>\n",
              "                <source src=\"data:video/mp4;base64,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\" type=\"video/mp4\" />\n",
              "             </video>"
            ],
            "text/plain": [
              "<IPython.core.display.HTML object>"
            ]
          },
          "metadata": {
            "tags": []
          },
          "execution_count": 33
        }
      ]
    },
    {
      "metadata": {
        "id": "m0ebTCmTIooH",
        "colab_type": "code",
        "outputId": "14991bde-f14e-48a2-d2f5-0f5fedfaae16",
        "colab": {
          "base_uri": "https://localhost:8080/",
          "height": 2044
        }
      },
      "cell_type": "code",
      "source": [
        "# Evaluation\n",
        "env = EnvironmentExploring(grid_size=size, max_time=T, temperature=0.3)\n",
        "test(agent,env,epochs_test,prefix='cnn_test_explore')\n",
        "HTML(display_videos('cnn_test_explore10.mp4'))"
      ],
      "execution_count": 34,
      "outputs": [
        {
          "output_type": "stream",
          "text": [
            "0\n",
            "Win/lose count 17.0/0.0. Average score (17.0)\n",
            "1\n",
            "Win/lose count 18.0/0.0. Average score (17.5)\n",
            "2\n",
            "Win/lose count 6.5/0.0. Average score (13.833333333333334)\n",
            "3\n",
            "Win/lose count 14.0/1.0. Average score (13.625)\n",
            "4\n",
            "Win/lose count 9.5/0.0. Average score (12.8)\n",
            "5\n",
            "Win/lose count 18.5/2.0. Average score (13.416666666666666)\n",
            "6\n",
            "Win/lose count 9.5/0.0. Average score (12.857142857142858)\n",
            "7\n",
            "Win/lose count 5.0/1.0. Average score (11.75)\n",
            "8\n",
            "Win/lose count 6.5/0.0. Average score (11.166666666666666)\n",
            "9\n",
            "Win/lose count 5.0/0.0. Average score (10.55)\n",
            "10\n",
            "Win/lose count 15.0/1.0. Average score (10.863636363636363)\n",
            "11\n",
            "Win/lose count 19.0/0.0. Average score (11.541666666666666)\n",
            "12\n",
            "Win/lose count 8.5/0.0. Average score (11.307692307692308)\n",
            "13\n",
            "Win/lose count 24.0/0.0. Average score (12.214285714285714)\n",
            "14\n",
            "Win/lose count 6.0/0.0. Average score (11.8)\n",
            "15\n",
            "Win/lose count 11.5/1.0. Average score (11.71875)\n",
            "16\n",
            "Win/lose count 13.5/0.0. Average score (11.823529411764707)\n",
            "17\n",
            "Win/lose count 20.0/0.0. Average score (12.277777777777779)\n",
            "18\n",
            "Win/lose count 21.0/2.0. Average score (12.631578947368421)\n",
            "19\n",
            "Win/lose count 24.5/0.0. Average score (13.225)\n",
            "20\n",
            "Win/lose count 8.5/0.0. Average score (13.0)\n",
            "21\n",
            "Win/lose count 17.0/2.0. Average score (13.090909090909092)\n",
            "22\n",
            "Win/lose count 11.5/0.0. Average score (13.021739130434783)\n",
            "23\n",
            "Win/lose count 10.5/0.0. Average score (12.916666666666666)\n",
            "24\n",
            "Win/lose count 9.5/1.0. Average score (12.74)\n",
            "25\n",
            "Win/lose count 17.5/2.0. Average score (12.846153846153847)\n",
            "26\n",
            "Win/lose count 4.0/0.0. Average score (12.518518518518519)\n",
            "27\n",
            "Win/lose count 7.5/0.0. Average score (12.339285714285714)\n",
            "28\n",
            "Win/lose count 27.0/0.0. Average score (12.844827586206897)\n",
            "29\n",
            "Win/lose count 9.5/0.0. Average score (12.733333333333333)\n",
            "30\n",
            "Win/lose count 24.0/0.0. Average score (13.096774193548388)\n",
            "31\n",
            "Win/lose count 2.5/0.0. Average score (12.765625)\n",
            "32\n",
            "Win/lose count 11.0/0.0. Average score (12.712121212121213)\n",
            "33\n",
            "Win/lose count 11.5/0.0. Average score (12.676470588235293)\n",
            "34\n",
            "Win/lose count 19.0/0.0. Average score (12.857142857142858)\n",
            "35\n",
            "Win/lose count 16.5/2.0. Average score (12.902777777777779)\n",
            "36\n",
            "Win/lose count 15.0/1.0. Average score (12.932432432432432)\n",
            "37\n",
            "Win/lose count 5.5/0.0. Average score (12.736842105263158)\n",
            "38\n",
            "Win/lose count 13.0/0.0. Average score (12.743589743589743)\n",
            "39\n",
            "Win/lose count 7.5/0.0. Average score (12.6125)\n",
            "40\n",
            "Win/lose count 7.0/0.0. Average score (12.475609756097562)\n",
            "41\n",
            "Win/lose count 7.0/0.0. Average score (12.345238095238095)\n",
            "42\n",
            "Win/lose count 6.5/0.0. Average score (12.209302325581396)\n",
            "43\n",
            "Win/lose count 13.0/1.0. Average score (12.204545454545455)\n",
            "44\n",
            "Win/lose count 5.5/1.0. Average score (12.033333333333333)\n",
            "45\n",
            "Win/lose count 19.0/0.0. Average score (12.184782608695652)\n",
            "46\n",
            "Win/lose count 3.0/1.0. Average score (11.96808510638298)\n",
            "47\n",
            "Win/lose count 15.5/0.0. Average score (12.041666666666666)\n",
            "48\n",
            "Win/lose count 18.5/0.0. Average score (12.173469387755102)\n",
            "49\n",
            "Win/lose count 4.0/0.0. Average score (12.01)\n",
            "Final score: 12.01\n"
          ],
          "name": "stdout"
        },
        {
          "output_type": "execute_result",
          "data": {
            "text/html": [
              "<video alt=\"test\" controls>\n",
              "                <source src=\"data:video/mp4;base64,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\" type=\"video/mp4\" />\n",
              "             </video>"
            ],
            "text/plain": [
              "<IPython.core.display.HTML object>"
            ]
          },
          "metadata": {
            "tags": []
          },
          "execution_count": 34
        }
      ]
    },
    {
      "metadata": {
        "id": "XJqoVScmbcIG",
        "colab_type": "text"
      },
      "cell_type": "markdown",
      "source": [
        "The average score of the algorithm trained using the suggested strategies is almost the double of the algorithm without them. In conclusion, in this kind of problems, we should define the rewards given to an agent to reinforce the behavior we want it performs as well as difining a good strategy of exploration-exploitation and not just focus in the architecture of the neural network.\n",
        "\n"
      ]
    },
    {
      "metadata": {
        "id": "ky11nb3iO68M",
        "colab_type": "text"
      },
      "cell_type": "markdown",
      "source": [
        "***\n",
        "***\n",
        "__BONUS question__ Use the expert DQN from the previous question to generate some winning games. Train a model that mimicks its behavior. Compare the performances."
      ]
    },
    {
      "metadata": {
        "id": "TvURVP6UO683",
        "colab_type": "text"
      },
      "cell_type": "markdown",
      "source": [
        "I designed a neural network that mimics the behavior of the DQN CNN analyzed in the last section. I kept the same architecture with the difference that the target of the function is not the Q-function but the action taken by the DQN CNN. For this reason, I changed the loss function by the categorical cross-entropy where the categories are the possible actions. I kept the same architecture with the difference that the final layer has the sigmoid function as activation function.\n",
        "\n",
        "I kept the memory in this model too to reduce the correlation between observations and I trained the model by letting the expert play and fixing the action it takes as target for the mimic network. I kept the strategy of the decreasing epsilon and the extra layer in the input state.\n"
      ]
    },
    {
      "metadata": {
        "id": "pewNJ5msME_y",
        "colab_type": "code",
        "colab": {}
      },
      "cell_type": "code",
      "source": [
        "class Mimic(Agent):\n",
        "    def __init__(self, agent_expert, grid_size,  epsilon = 0.1, memory_size=100, batch_size = 16,n_state=2):\n",
        "        super(Mimic, self).__init__(epsilon = epsilon)\n",
        "\n",
        "        self.agent_expert=agent_expert\n",
        "        self.grid_size = grid_size\n",
        "        \n",
        "        # number of state\n",
        "        self.n_state = n_state\n",
        "\n",
        "        # Memory\n",
        "        self.memory = Memory(memory_size)\n",
        "        \n",
        "        # Batch size when learning\n",
        "        self.batch_size = batch_size\n",
        "\n",
        "    def learned_act(self, s):\n",
        "        ## Implement more likely option \n",
        "        a=np.argmax(self.model.predict(np.expand_dims(s, axis=0)))\n",
        "        #print(a)\n",
        "        return(a)\n",
        "\n",
        "    def reinforce(self, s_, n_s_, a_, r_, game_over_):\n",
        "        # Two steps: first memorize the states, second learn from the pool\n",
        "        ### I will keep the pool to reduce the correlation between samples\n",
        "\n",
        "        self.memory.remember([s_, n_s_, a_, r_, game_over_])\n",
        "        \n",
        "        input_states = np.zeros((self.batch_size, 5,5,self.n_state))\n",
        "        target_q = np.zeros((self.batch_size, 4))\n",
        "        \n",
        "        for i in range(self.batch_size):\n",
        "            ######## FILL IN\n",
        "            \n",
        "            s_i, n_s_i, a_i, r_i, game_over_i=self.memory.random_access()\n",
        "            input_states[i]=s_i\n",
        "            \n",
        "            ### Here I observe what the expert does and I train the new network to mimic it.\n",
        "            target_q[i]=to_categorical(np.argmax(self.agent_expert.model.predict(np.expand_dims(s_i, axis=0))[0]),num_classes=4)\n",
        "           \n",
        "\n",
        "        l = self.model.train_on_batch(input_states, target_q)\n",
        "\n",
        "\n",
        "        return l\n",
        "\n",
        "    def save(self,name_weights='model.h5',name_model='model.json'):\n",
        "        self.model.save_weights(name_weights, overwrite=True)\n",
        "        with open(name_model, \"w\") as outfile:\n",
        "            json.dump(self.model.to_json(), outfile)\n",
        "            \n",
        "    def load(self,name_weights='model.h5',name_model='model.json'):\n",
        "        with open(name_model, \"r\") as jfile:\n",
        "            model = model_from_json(json.load(jfile))\n",
        "        model.load_weights(name_weights)\n",
        "        model.compile(\"sgd\", \"mse\")\n",
        "        self.model = model\n",
        "\n",
        "def train_mimic(agent,env,epoch,prefix='',gamma=0.6):\n",
        "    # Number of won games\n",
        "    score = 0\n",
        "    loss = 0\n",
        "\n",
        "    for e in range(epoch):\n",
        "        # At each epoch, we restart to a fresh game and get the initial state\n",
        "        n=0\n",
        "        state = env.reset()\n",
        "        # This assumes that the games will terminate\n",
        "        game_over = False\n",
        "\n",
        "        win = 0\n",
        "        lose = 0\n",
        "        \n",
        "        agent.set_epsilon((1/(e+10))**gamma)\n",
        "        while not game_over:\n",
        "            # Add decreasing eps\n",
        "          \n",
        "          \n",
        "            # The agent performs an action\n",
        "            action = agent.act(state)\n",
        "\n",
        "            # Apply an action to the environment, get the next state, the reward\n",
        "            # and if the games end\n",
        "            prev_state = state\n",
        "            state, reward, game_over = env.act(action,train=True)\n",
        "\n",
        "            # Update the counters\n",
        "            if reward > 0:\n",
        "                win = win + reward\n",
        "            if reward < 0:\n",
        "                lose = lose -reward\n",
        "\n",
        "            # Apply the reinforcement strategy\n",
        "            loss = agent.reinforce(prev_state, state,  action, reward, game_over)\n",
        "\n",
        "        # Save as a mp4\n",
        "        if e % 10 == 0:\n",
        "            env.draw(prefix+str(e))\n",
        "\n",
        "        # Update stats\n",
        "        score += win-lose\n",
        "\n",
        "        print(\"Epoch {:03d}/{:03d} | Loss {:.4f} | Win/lose count {}/{} ({})\"\n",
        "              .format(e, epoch, loss, win, lose, win-lose))\n",
        "        agent.save(name_weights=prefix+'model.h5',name_model=prefix+'model.json')\n",
        "\n",
        "class Mimic_CNN(Mimic):\n",
        "    def __init__(self, *args,lr=0.1,**kwargs):\n",
        "        super(Mimic_CNN, self).__init__(*args,**kwargs)\n",
        "       \n",
        "        model = Sequential()\n",
        "        model.add(Conv2D(30,(2,2),activation='relu',input_shape=(5,5,self.n_state)))\n",
        "        model.add(Conv2D(30,(2,2),activation='relu',input_shape=(5,5,self.n_state)))\n",
        "        model.add(Flatten())\n",
        "        model.add(Dense(4,activation=\"softmax\"))  ### Softmax since now is a classification problem.\n",
        "        \n",
        "        model.compile(sgd(lr=lr, decay=1e-4, momentum=0.0), \"categorical_crossentropy\") ### I changed the loss function to learn the action taken by the agent.\n",
        "        self.model = model"
      ],
      "execution_count": 0,
      "outputs": []
    },
    {
      "metadata": {
        "id": "XxSQkYOBO69I",
        "colab_type": "text"
      },
      "cell_type": "markdown",
      "source": [
        "***"
      ]
    },
    {
      "metadata": {
        "id": "0MI4vu78VXAY",
        "colab_type": "code",
        "outputId": "fa142247-1e59-4bb6-b3ff-a10e36b230e1",
        "colab": {
          "base_uri": "https://localhost:8080/",
          "height": 1160
        }
      },
      "cell_type": "code",
      "source": [
        "env = EnvironmentExploring(grid_size=size, max_time=T, temperature=0.3)\n",
        "agent_expert= DQN_CNN(size, lr=.1, epsilon = 0.1, memory_size=1000, batch_size = 32,n_state=3)\n",
        "agent_expert.load(name_weights='cnn_train_exploremodel.h5',name_model='cnn_train_exploremodel.json')\n",
        "agent_mimic= Mimic_CNN(agent_expert,size,lr=.1, epsilon = 0.1, memory_size=1000, batch_size = 32,n_state=3)\n",
        "train_mimic(agent_mimic, env, epochs_train, prefix='mimic_train_explore')\n",
        "HTML(display_videos('mimic_train_explore10.mp4'))"
      ],
      "execution_count": 83,
      "outputs": [
        {
          "output_type": "stream",
          "text": [
            "Epoch 000/050 | Loss 0.4843 | Win/lose count 15.5/22.80000000000007 (-7.300000000000072)\n",
            "Epoch 001/050 | Loss 0.2787 | Win/lose count 20.5/19.30000000000003 (1.1999999999999709)\n",
            "Epoch 002/050 | Loss 0.3820 | Win/lose count 21.0/17.09999999999997 (3.9000000000000306)\n",
            "Epoch 003/050 | Loss 0.2615 | Win/lose count 21.0/15.099999999999973 (5.900000000000027)\n",
            "Epoch 004/050 | Loss 0.1306 | Win/lose count 19.5/19.000000000000007 (0.4999999999999929)\n",
            "Epoch 005/050 | Loss 0.2146 | Win/lose count 19.0/11.499999999999979 (7.500000000000021)\n",
            "Epoch 006/050 | Loss 0.3349 | Win/lose count 19.5/14.199999999999976 (5.300000000000024)\n",
            "Epoch 007/050 | Loss 0.0569 | Win/lose count 20.5/18.000000000000004 (2.4999999999999964)\n",
            "Epoch 008/050 | Loss 0.3667 | Win/lose count 13.5/22.200000000000056 (-8.700000000000056)\n",
            "Epoch 009/050 | Loss 0.0565 | Win/lose count 25.5/15.699999999999978 (9.800000000000022)\n",
            "Epoch 010/050 | Loss 0.2225 | Win/lose count 20.5/18.3 (2.1999999999999993)\n",
            "Epoch 011/050 | Loss 0.2384 | Win/lose count 15.0/19.70000000000001 (-4.70000000000001)\n",
            "Epoch 012/050 | Loss 0.6368 | Win/lose count 23.0/9.799999999999981 (13.200000000000019)\n",
            "Epoch 013/050 | Loss 0.1053 | Win/lose count 21.0/20.199999999999996 (0.8000000000000043)\n",
            "Epoch 014/050 | Loss 0.3122 | Win/lose count 22.5/17.499999999999996 (5.0000000000000036)\n",
            "Epoch 015/050 | Loss 0.2372 | Win/lose count 26.5/15.399999999999979 (11.100000000000021)\n",
            "Epoch 016/050 | Loss 0.0166 | Win/lose count 22.0/12.299999999999976 (9.700000000000024)\n",
            "Epoch 017/050 | Loss 0.1332 | Win/lose count 17.0/16.299999999999976 (0.7000000000000242)\n",
            "Epoch 018/050 | Loss 0.0704 | Win/lose count 21.0/17.79999999999998 (3.2000000000000206)\n",
            "Epoch 019/050 | Loss 0.0791 | Win/lose count 26.5/15.299999999999976 (11.200000000000024)\n",
            "Epoch 020/050 | Loss 0.0833 | Win/lose count 30.0/11.899999999999988 (18.100000000000012)\n",
            "Epoch 021/050 | Loss 0.1658 | Win/lose count 21.0/15.899999999999972 (5.100000000000028)\n",
            "Epoch 022/050 | Loss 0.0341 | Win/lose count 25.0/12.399999999999979 (12.600000000000021)\n",
            "Epoch 023/050 | Loss 0.0471 | Win/lose count 16.0/19.0 (-3.0)\n",
            "Epoch 024/050 | Loss 0.0220 | Win/lose count 22.0/20.199999999999996 (1.8000000000000043)\n",
            "Epoch 025/050 | Loss 0.1445 | Win/lose count 19.5/11.899999999999977 (7.600000000000023)\n",
            "Epoch 026/050 | Loss 0.1508 | Win/lose count 10.0/18.89999999999999 (-8.899999999999991)\n",
            "Epoch 027/050 | Loss 0.0240 | Win/lose count 13.5/15.999999999999964 (-2.4999999999999645)\n",
            "Epoch 028/050 | Loss 0.2821 | Win/lose count 22.5/11.199999999999983 (11.300000000000017)\n",
            "Epoch 029/050 | Loss 0.2335 | Win/lose count 23.0/16.99999999999999 (6.000000000000011)\n",
            "Epoch 030/050 | Loss 0.0324 | Win/lose count 20.5/13.899999999999977 (6.600000000000023)\n",
            "Epoch 031/050 | Loss 0.0086 | Win/lose count 13.0/17.19999999999998 (-4.1999999999999815)\n",
            "Epoch 032/050 | Loss 0.0183 | Win/lose count 13.5/15.999999999999963 (-2.4999999999999627)\n",
            "Epoch 033/050 | Loss 0.0376 | Win/lose count 13.5/16.899999999999977 (-3.3999999999999773)\n",
            "Epoch 034/050 | Loss 0.2598 | Win/lose count 26.5/19.69999999999998 (6.8000000000000185)\n",
            "Epoch 035/050 | Loss 0.0819 | Win/lose count 22.0/13.399999999999977 (8.600000000000023)\n",
            "Epoch 036/050 | Loss 0.0554 | Win/lose count 20.0/16.099999999999962 (3.9000000000000377)\n",
            "Epoch 037/050 | Loss 0.0425 | Win/lose count 7.0/18.399999999999977 (-11.399999999999977)\n",
            "Epoch 038/050 | Loss 0.0282 | Win/lose count 26.0/12.999999999999973 (13.000000000000027)\n",
            "Epoch 039/050 | Loss 0.0253 | Win/lose count 26.5/16.599999999999984 (9.900000000000016)\n",
            "Epoch 040/050 | Loss 0.0146 | Win/lose count 23.5/13.099999999999978 (10.400000000000022)\n",
            "Epoch 041/050 | Loss 0.0111 | Win/lose count 20.5/10.799999999999981 (9.700000000000019)\n",
            "Epoch 042/050 | Loss 0.0648 | Win/lose count 15.0/15.899999999999965 (-0.8999999999999648)\n",
            "Epoch 043/050 | Loss 0.0249 | Win/lose count 21.5/15.699999999999967 (5.800000000000033)\n",
            "Epoch 044/050 | Loss 0.1794 | Win/lose count 13.5/17.99999999999997 (-4.499999999999972)\n",
            "Epoch 045/050 | Loss 0.1376 | Win/lose count 20.0/16.999999999999986 (3.000000000000014)\n",
            "Epoch 046/050 | Loss 0.1108 | Win/lose count 11.0/15.89999999999996 (-4.8999999999999595)\n",
            "Epoch 047/050 | Loss 0.0052 | Win/lose count 19.5/17.099999999999987 (2.400000000000013)\n",
            "Epoch 048/050 | Loss 0.0032 | Win/lose count 20.5/12.599999999999975 (7.900000000000025)\n",
            "Epoch 049/050 | Loss 0.0024 | Win/lose count 16.0/18.599999999999984 (-2.5999999999999837)\n"
          ],
          "name": "stdout"
        },
        {
          "output_type": "execute_result",
          "data": {
            "text/html": [
              "<video alt=\"test\" controls>\n",
              "                <source src=\"data:video/mp4;base64,AAAAIGZ0eXBpc29tAAACAGlzb21pc28yYXZjMW1wNDEAAAAIZnJlZQAAGXhtZGF0AAACrQYF//+p3EXpvebZSLeWLNgg2SPu73gyNjQgLSBjb3JlIDE1MiByMjg1NCBlOWE1OTAzIC0gSC4yNjQvTVBFRy00IEFWQyBjb2RlYyAtIENvcHlsZWZ0IDIwMDMtMjAxNyAtIGh0dHA6Ly93d3cudmlkZW9sYW4ub3JnL3gyNjQuaHRtbCAtIG9wdGlvbnM6IGNhYmFjPTEgcmVmPTMgZGVibG9jaz0xOjA6MCBhbmFseXNlPTB4MToweDExMSBtZT1oZXggc3VibWU9NyBwc3k9MSBwc3lfcmQ9MS4wMDowLjAwIG1peGVkX3JlZj0xIG1lX3JhbmdlPTE2IGNocm9tYV9tZT0xIHRyZWxsaXM9MSA4eDhkY3Q9MCBjcW09MCBkZWFkem9uZT0yMSwxMSBmYXN0X3Bza2lwPTEgY2hyb21hX3FwX29mZnNldD00IHRocmVhZHM9MyBsb29rYWhlYWRfdGhyZWFkcz0xIHNsaWNlZF90aHJlYWRzPTAgbnI9MCBkZWNpbWF0ZT0xIGludGVybGFjZWQ9MCBibHVyYXlfY29tcGF0PTAgY29uc3RyYWluZWRfaW50cmE9MCBiZnJhbWVzPTMgYl9weXJhbWlkPTIgYl9hZGFwdD0xIGJfYmlhcz0wIGRpcmVjdD0xIHdlaWdodGI9MSBvcGVuX2dvcD0wIHdlaWdodHA9MiBrZXlpbnQ9MjUwIGtleWludF9taW49MjUgc2NlbmVjdXQ9NDAgaW50cmFfcmVmcmVzaD0wIHJjX2xvb2thaGVhZD00MCByYz1jcmYgbWJ0cmVlPTEgY3JmPTIzLjAgcWNvbXA9MC42MCBxcG1pbj0wIHFwbWF4PTY5IHFwc3RlcD00IGlwX3JhdGlvPTEuNDAgYXE9MToxLjAwAIAAAALtZYiEADf//vaH+BTZWBP+Wb/9DX/cj9uPrP1xYyEE31qvIejAGS+1H+b/rFFs6Z6UB/fgCJQAc24ZwpHZJ46i9VkGOD4FNXSdXwKShPP6X05I5769RFTBRo5HL/KtMzV1Wh8cPpkuj+jOo30Ow5VzCIxB0P9kCv0CFQzRBO9EkbsQWreO6VxEbfNcEN6Cvhq2g68I4Fa8pauViY0VPM2OgjfMpg+J0H2R5evlDgn3T4MGFRsWA08wQu1Px+Ck7A9xKe+LwsfCgdEg+tEBeErb/tIuj8Yp8A26GC4YyOktx4fIAJKRcHyqXrsDJ2Xc5kOs/agBc+YIE3jT3J6FFQZzNc0jpKWbbKxMbNeCFHTs4lhjM8peIPgML5wgB4/xd80XCkMgdQyWlkfE2QaVSHg5PwTizieSErT++DEQPkA/A84A5me73ofNUZpwVUiuCD4gFMjaeQoIGv68b80+WOcAlIG6QhL9M5ar5boI7XoTGgq7jxQeIQRM8FtJKzgKADEhaAVFOCIUqz12AK5paXxIoxpv2p51h0Mx2nNkki0b6ArCLIwaVHYa+JO/DJItLrPlu4bL5V5QClbAfY/dmFSCfZsgDTQee7lCe4eimHglKk0QhV9OkJ9ct4PSmWCnp03R9JzBwJ61lR8sAMYmWpZycQuVaQQAL4T7m6YhN6bROeJc8vzCOxzp5wptPLr2W8V47Vf4DXICEJeBvl/CgSwgNKEh9CRuJM8UqKR+K8PZxVDnW8lBYiueR9dEbvQBf7XZNfDdS4EZIY/q7VlQpx7gFNsZ7KXQ1nWEudgx0Vfb/zolTEJ2SBwjH/TIeXFvMJi5ZUQYBSBfxk+aBhjAJBlqy/oBUpOySeMKf3AYJXFIm9Fqx4t5db5xaK69g147Kly2DmGnMDj5wvx4eED6AX9LskDXzWZ53u+XS//oACk/RhqaEsxUIAYBpBt46PHkc0J9x9RxKfAZNr1R1i4MaBcN8E7QLwHs0mC6q0AAClkAAAAWQZojbEM//p4QABz4Wxwweo+rK7qGgAAAAA9BnkF4hX8ABiJLAh5WfXUAAAAOAZ5iakK/AAYh2q6frK4AAAAZQZpkSahBaJlMCGf//p4QAB2fXG3vTfde5wAAAB5BmoZJ4QpSZTBREsM//p4QAB5/f36YHwQOVbirqnkAAAAQAZ6lakK/AAZxm5rjxVt8oQAAABhBmqdJ4Q6JlMCGf/6eEAAUavcaF033YK0AAAAYQZrISeEPJlMCGf/+nhAAFPr3GhdN92CMAAAAGUGa6UnhDyZTAhv//qeEAAVr3U/UcaEiDcAAAAAbQZsLSeEPJlMFETwz//6eEAAVjvaPDy3199zzAAAADwGfKmpCvwAEd2eW4bNrcwAAABlBmyxJ4Q8mUwIb//6nhAAIagCzbbPs+fPAAAAAHkGbTknhDyZTBRE8N//+p4QAFG9GQ9SOjkWfB/Q0gQAAABABn21qQr8AEF2eOV/biDzBAAAAGEGbb0nhDyZTAhv//qeEABT8VpBCJ/luqwAAABhBm5BJ4Q8mUwIb//6nhAAVjFaQQif5bqMAAAApQZu0SeEPJlMCG//+p4QAIt8dPdbPApsDpX4FMtnJ8ChSYUsrvLHDtcAAAAARQZ/SRRE8L/8AFQnzEi2+TLEAAAAPAZ/xdEK/ABupLNwbJeRnAAAADwGf82pCvwAcTnDYHKdPgAAAABlBm/dJqEFomUwIZ//+nhAAg3zm+2Qx9YWfAAAAEkGeFUURLCv/ABuiO3OsnydTgAAAABABnjZqQr8AGwJkmm+kg5pxAAAAGkGaOEmoQWyZTAhv//6nhAAWP3U/UcaEh0vBAAAAHkGaWknhClJlMFFSwz/+nhAAON6+/Ta9Prkbs2K9mAAAABABnnlqQr8AC/M3NceKtsahAAAAGEGae0nhDomUwIZ//p4QACTfEP7ZDH1idwAAABhBmpxJ4Q8mUwIb//6nhAAGJ9g9ezPgjEUAAAAYQZq/SeEPJlMCGf/+nhAAF1+J2dboGSWNAAAAD0Ge3UURPCv/AATWTcPCQAAAABABnv5qQr8ABKli3YrR91NAAAAAGUGa4EmoQWiZTAhn//6eEAAWz4nfbIY+sa8AAAAYQZsBSeEKUmUwIb/+p4QAA7nsHr2Z8EaPAAAAGUGbIknhDomUwIb//qeEAAWr0T/Vb5j8icEAAAAdQZtESeEPJlMFETw3//6nhAAIaPmqazbmvHT7ZQgAAAAQAZ9jakK/AAcTnDXvNK0fwQAAABhBm2dJ4Q8mUwIb//6nhAAId8dMf4fVuDEAAAASQZ+FRRE8K/8ACs4Ou7v6RdLBAAAAEAGfpmpCvwAKy1851oYX68EAAAAcQZupSahBaJlMFPDf/qeEAAyLq2Yn+rt7qftgaAAAABABn8hqQr8ACj2RCbjPr1cIAAAAIEGbzUnhClJlMCGf/p4QALZ7pvcN0HMss+fbPQ5tMtsVAAAAFUGf60U0TC//ABulTQrgB8xFkUYbrQAAABABngp0Qr8AGIkteB0ynECAAAAAEAGeDGpCvwAlrzRMiaVnLMEAAAAZQZoOSahBaJlMCGf//p4QALH7psZcmyrfBQAAABhBmi9J4QpSZTAhn/6eEACte6b6KlZr4YMAAAAYQZpQSeEOiZTAhv/+p4QAHG9g9ezPgiyvAAAAGUGacUnhDyZTAhv//qeEABu/fZj/D6tuX4AAAAAbQZqUSeEPJlMCG//+p4QAK17qcsM/1hU4PIT5AAAAEEGeskURPCv/ACK7FesGxmAAAAAPAZ7TakK/ACKvNEFqPLw+AAAAHEGa10moQWiZTAhv//6nhAA/Zxn+q3zHubLrYx0AAAASQZ71RREsK/8ANM7T/o5IqvmAAAAAEAGfFmpCvwA0zqnkwPXuRYEAAAAdQZsZSahBbJlMFEw3//6nhACaoBM1ts+z5itudLcAAAAQAZ84akK/AHxZ4F1/bh9dIAAAAB5BmztJ4QpSZTBSw3/+p4QAnqATNZ8H+KsDKuR/DZkAAAAQAZ9aakK/AH8Vwa48VbSL4AAAABxBm15J4Q6JlMCG//6nhABpaRkZBxP8pzwxQSXBAAAAEUGffEUVPCv/AFZpRvNN71FNAAAADwGfnWpCvwBWW26UaQ8TywAAABlBm4FJqEFomUwIb//+p4QAQ0fMeRif5bdxAAAAEkGfv0URLCv/ADdOrewsF+X+QQAAABABn8BqQr8AN07Utw2bU7OAAAAAGUGbwkmoQWyZTAhv//6nhABFR8x5GJ/lt2cAAAAeQZvmSeEKUmUwIZ/+nhABxvZHV5llnz7cThvW4ijwAAAAFUGeBEU0TC//AEV0EfvOmcWvnuj24QAAAA8BniN0Qr8AWvMncGyXjbUAAAAQAZ4lakK/AF+dU8lzPknCgQAAABlBmidJqEFomUwIZ//+nhABzvXG3vTfdbe7AAAAGEGaSEnhClJlMCGf/p4QAtPBjn8Oc31lswAAABlBmmlJ4Q6JlMCGf/6eEARQ4Rz+HPs/8fYsAAAAGUGaiknhDyZTAhv//qeEARxAFmDHZk1bWVEAAAAaQZqrSeEPJlMCG//+p4QB7DDGp96XRm/qJJwAAAAaQZrPSeEPJlMCG//+p4QG4+6K+1EtY16of4AAAAAQQZ7tRRE8L/8Bo5+c2sIoIQAAABABnwx0Qr8BY+gHNEhHSsu5AAAAEAGfDmpCvwIylbGCiT7DRsEAAAAcQZsRSahBaJlMFPDP/p4QB2+vv5rF5zpsU+pOwAAAABABnzBqQr8BY2vnOtDC8OVAAAAAGEGbMknhClJlMCG//qeEAQ346Y/w+rbZcQAAAB9Bm1RJ4Q6JlMFNEw3//qeEAa4K2Yn+qr8foE7/nKXsAAAAEAGfc2pCvwFIsiE3GfXpqggAAAAYQZt1SeEPJlMCG//+p4QFC0T/TjEaQJFTAAAAGkGbmEnhDyZTAhv//qeEBY9GQ9HmPy0dSEQMAAAAEUGftkURPCv/AgtKN5psJHtBAAAADgGf12pCvwIK2MePKu0FAAAAGkGb2UmoQWiZTAhv//6nhAGy7xv9BWsyT+UEAAAAH0Gb/UnhClJlMCG//qeEBC4zVNZtfrtVPP8FNR9BCZUAAAARQZ4bRTRML/8BZVXcejMcNSAAAAAPAZ46dEK/AT+MYuA/LPwhAAAAEAGePGpCvwHfH8XuhyQaR/kAAAAaQZo/SahBaJlMFPDP/p4QD2hG73YtcR+Faf4AAAAQAZ5eakK/Ad6y/VHzH4tjQAAAABlBmkBJ4QpSZTAhv/6nhAGC8dPpfFCQwo+BAAAAGEGaYUnhDomUwIb//qeEAO17B69mfBFdHwAAABtBmoVJ4Q8mUwIZ//6eEAOJ7+/oVXcunbBU/AkAAAAUQZ6jRRE8L/8AitAdAYsq5Do/24AAAAAQAZ7CdEK/AL6nUnlfkpsw8QAAAA8BnsRqQr8AfEH9UigSqakAAAAZQZrGSahBaJlMCGf//p4QAX/19/IkR9YSPwAAABlBmudJ4QpSZTAhv/6nhAA+XsH+E4LdCVtBAAAAGUGbCEnhDomUwIb//qeEACke6n6jjQkOUkAAAAAdQZsqSeEPJlMFETw7//6plgANV7S/sWA6IFuMYm4AAAAQAZ9JakK/ABWW5DD6AkHPuQAAABFBm05J4Q8mUwIb//6nhAABJwAAABNBn2xFETwv/wAKhktmpmWXIaVMAAAAEAGfi3RCvwAOJxPFJtkraYEAAAAQAZ+NakK/AA4rPCHjQ1lvgQAAABxBm5BJqEFomUwU8N/+p4QAEW+On3Wlmam3RbqpAAAAEAGfr2pCvwAOgrg1x4q2vGAAAAAdQZuzSeEKUmUwIb/+p4QAEu+HPmWWJkdx92tLXg4AAAASQZ/RRTRMK/8ADzM+M28NjWn3AAAAEAGf8mpCvwAPMzB5MD18CYAAAAAcQZv1SahBaJlMFPDP/p4QAHO9cjdjhpb6++3U4AAAABABnhRqQr8AGIdU8mB695SBAAAAF0GaFknhClJlMCGf/p4QALVwY5+l/cqzAAAAHkGaOEnhDomUwU0TDP/+nhABHRDlW4Lyc5vNrvF6rQAAABABnldqQr8AO2zwh40NY6aBAAAAGEGaWUnhDyZTAhn//p4QASUQ4/ngv5IdNAAAABhBmnpJ4Q8mUwIZ//6eEAEtEOP54L+SHQ0AAAAYQZqbSeEPJlMCGf/+nhABLviH9shj6wltAAAAGEGavEnhDyZTAhn//p4QAMivuNC6b7reXQAAABhBmt1J4Q8mUwIZ//6eEADNr7jQum+63j0AAAAZQZr+SeEPJlMCG//+p4QAUb0T/Vb5j8RSQAAAABlBmx9J4Q8mUwIb//6nhAB8DjP9VvmPxDUgAAAAIEGbIUnhDyZTBRE8N//+p4QBLEAma22gMAmv7l0W89qBAAAAEAGfQGpCvwDys8C6/tw+fmAAAAAYQZtCSeEPJlMCHf/+qZYBI/IMz50IIiHhAAAAGUGbZknhDyZTAhv//qeEC7bVRm/rdaLcYf4AAAATQZ+ERRE8L/8B6bt0zirrHUS5AwAAAA8Bn6N0Qr8Ckc1QOm5fkQ8AAAAPAZ+lakK/ApBWXIaQ70NvAAAAGkGbp0moQWiZTAh3//6plgEn76sqsza2RJWBAAAAHkGby0nhClJlMCHf/qmWBSBwMz3z3aXy5aefhwjegAAAABFBn+lFNEwv/wHWnQf8LC9XcAAAAA8Bngh0Qr8BdYwgMkuUfMEAAAAQAZ4KakK/AnY8HkwJu5zugAAAABNBmg9JqEFomUwId//+qZYAAJWAAAAADEGeLUURLC//AACygQAAAA8Bnkx0Qr8CapAMR2XWwP8AAAAPAZ5OakK/AmqQC6z1YoH/AAAAE0GaU0moQWyZTAh3//6plgAAlYAAAAAUQZ5xRRUsL/8BzUReizePospKr5gAAAAPAZ6QdEK/AnUBKtGlD/HBAAAAEAGekmpCvwJ2PB5MCbuc7oAAAAAeQZqXSahBbJlMCG///qeECk7VQIT+7ieZqbdEVitgAAAAEEGetUUVLC//AdadEfYF7fkAAAAOAZ7UdEK/AnXOgMkrwP8AAAAQAZ7WakK/AnVtqD6AkFYZ8QAAABxBmttJqEFsmUwIb//+p4QM61qmP9Nu3jp3pEnBAAAAEEGe+UUVLC//AgEgO1Fti4AAAAAPAZ8YdEK/Aq/NUDpuX5EHAAAADwGfGmpCvwKwNXMV/dSpgAAAABlBmx1JqEFsmUwUTDf//qeEDP4yW5m5SZsxAAAAEAGfPGpCvwKuT5zrM/BOuIEAAAAZQZs+SeEKUmUwId/+qZYBN++rKrM2skSNgAAAABFBm0JJ4Q6JlMCG//6nhAABJwAAABNBn2BFETwv/wHC65Yzbf5Me0VdAAAAEAGfn3RCvwJfGTyNizE0FbAAAAAQAZ+BakK/AnYeDXHfiyu3oQAAABpBm4NJqEFomUwId//+qZYBJ++r6lGHSARDwAAAABZBm6dJ4QpSZTAhv/6nhAE1+On2uLKBAAAAFEGfxUU0TC//ALpPwp16crkWFaqBAAAAEAGf5HRCvwDycWZ5X5KbLUkAAAAQAZ/makK/APfzhr3mlZs/wQAAABxBm+lJqEFomUwU8O/+qZYAmPx5/Ls9qFkKXPWLAAAADwGeCGpCvwDyg/qkUCVRswAAAB1Bmg1J4QpSZTAh3/6plgCU/HnSzqEGaBJ0vgZvQQAAABBBnitFNEwv/wCxT69aiZ35AAAADwGeSnRCvwCa2jFwH5adYAAAABABnkxqQr8A7POGveaVm0PBAAAAHEGaUUmoQWiZTAhv//6nhAIhjM1Nm2db3U+GzZkAAAAQQZ5vRREsL/8BDs/ZuCAycQAAAA8Bno50Qr8BbOgHQnJdvCAAAAAQAZ6QakK/AXWwjyYHr2zegAAAABlBmpRJqEFsmUwIb//+p4QCKeOmP8PqlPIPAAAAEkGeskUVLCv/AXVsAQCmAcfJwAAAAA4BntNqQr8BdeUq6nTZZQAAABxBmtdJqEFsmUwIb//+p4QH70c+wdbHGZ70comBAAAAEkGe9UUVLCv/Akj8DoPwxnihgAAAABABnxZqQr8CSAvOdZx4K2ZBAAAAHUGbGUmoQWyZTBRMN//+p4QB8eif4FDuaprcws45AAAAEAGfOGpCvwFja+c60MLw5UAAAAAcQZs7SeEKUmUwUsN//qeEAQ346fdaWZqbdFrPCQAAABABn1pqQr8A3JMk030kHFHwAAAAHEGbXUnhDomUwUTDf/6nhAC1+6n7rSzNTbota4kAAAAQAZ98akK/AJLLIYfQEg4tmQAAABxBm39J4Q8mUwU8N//+p4QAdz2D/PIK1TISLeiYAAAAEAGfnmpCvwBiCZJpvpIONJAAAAAcQZuBSeEPJlMFPDf//qeEAE/91P3Wlmam3Ra9CQAAABABn6BqQr8AP4ETNN9JBx9IAAAAGUGboknhDyZTAhv//qeEADXurSCET/Lb5YEAAAAYQZvGSeEPJlMCGf/+nhAA2PsfAUz+DtWAAAAAFEGf5EURPC//ACCz5Dc/g+YiwxVBAAAAEAGeA3RCvwAtdo7ytlD02sEAAAAQAZ4FakK/AC1qNEyJpWcbQQAAABpBmglLqEIQWiRGCCgH8gH9h4AhX/44QAARcQAAACZBnidFESwr/wKvY+1BxN2qw0km5aqGByy1unmOwhdg5Cw64ATrsAAAACQBnkhqQr8Cr2PtQcTdqsNJJuWqhgcstb7UN2osuzLQPBrRd9gAAAtwbW9vdgAAAGxtdmhkAAAAAAAAAAAAAAAAAAAD6AAAH5AAAQAAAQAAAAAAAAAAAAAAAAEAAAAAAAAAAAAAAAAAAAABAAAAAAAAAAAAAAAAAABAAAAAAAAAAAAAAAAAAAAAAAAAAAAAAAAAAAAAAAAAAgAACpp0cmFrAAAAXHRraGQAAAADAAAAAAAAAAAAAAABAAAAAAAAH5AAAAAAAAAAAAAAAAAAAAAAAAEAAAAAAAAAAAAAAAAAAAABAAAAAAAAAAAAAAAAAABAAAAAARAAAAEQAAAAAAAkZWR0cwAAABxlbHN0AAAAAAAAAAEAAB+QAAAEAAABAAAAAAoSbWRpYQAAACBtZGhkAAAAAAAAAAAAAAAAAAAyAAABlABVxAAAAAAALWhkbHIAAAAAAAAAAHZpZGUAAAAAAAAAAAAAAABWaWRlb0hhbmRsZXIAAAAJvW1pbmYAAAAUdm1oZAAAAAEAAAAAAAAAAAAAACRkaW5mAAAAHGRyZWYAAAAAAAAAAQAAAAx1cmwgAAAAAQAACX1zdGJsAAAAlXN0c2QAAAAAAAAAAQAAAIVhdmMxAAAAAAAAAAEAAAAAAAAAAAAAAAAAAAAAARABEABIAAAASAAAAAAAAAABAAAAAAAAAAAAAAAAAAAAAAAAAAAAAAAAAAAAAAAAAAAAGP//AAAAL2F2Y0MB9AAN/+EAF2f0AA2RmygiEdCAAAADAIAAABkHihTLAQAFaOvjxEgAAAAYc3R0cwAAAAAAAAABAAAAygAAAgAAAAAUc3RzcwAAAAAAAAABAAAAAQAABUhjdHRzAAAAAAAAAKcAAAABAAAEAAAAAAEAAAgAAAAAAgAAAgAAAAABAAAEAAAAAAEAAAYAAAAAAQAAAgAAAAADAAAEAAAAAAEAAAYAAAAAAQAAAgAAAAABAAAEAAAAAAEAAAYAAAAAAQAAAgAAAAACAAAEAAAAAAEAAAoAAAAAAQAABAAAAAABAAAAAAAAAAEAAAIAAAAAAQAACAAAAAACAAACAAAAAAEAAAQAAAAAAQAABgAAAAABAAACAAAAAAIAAAQAAAAAAQAACAAAAAACAAACAAAAAAMAAAQAAAAAAQAABgAAAAABAAACAAAAAAEAAAgAAAAAAgAAAgAAAAABAAAGAAAAAAEAAAIAAAAAAQAACgAAAAABAAAEAAAAAAEAAAAAAAAAAQAAAgAAAAAEAAAEAAAAAAEAAAgAAAAAAgAAAgAAAAABAAAIAAAAAAIAAAIAAAAAAQAABgAAAAABAAACAAAAAAEAAAYAAAAAAQAAAgAAAAABAAAIAAAAAAIAAAIAAAAAAQAACAAAAAACAAACAAAAAAEAAAQAAAAAAQAACgAAAAABAAAEAAAAAAEAAAAAAAAAAQAAAgAAAAAFAAAEAAAAAAEAAAoAAAAAAQAABAAAAAABAAAAAAAAAAEAAAIAAAAAAQAABgAAAAABAAACAAAAAAEAAAQAAAAAAQAABgAAAAABAAACAAAAAAEAAAQAAAAAAQAACAAAAAACAAACAAAAAAEAAAQAAAAAAQAACgAAAAABAAAEAAAAAAEAAAAAAAAAAQAAAgAAAAABAAAGAAAAAAEAAAIAAAAAAgAABAAAAAABAAAKAAAAAAEAAAQAAAAAAQAAAAAAAAABAAACAAAAAAMAAAQAAAAAAQAABgAAAAABAAACAAAAAAEAAAoAAAAAAQAABAAAAAABAAAAAAAAAAEAAAIAAAAAAQAABgAAAAABAAACAAAAAAEAAAgAAAAAAgAAAgAAAAABAAAGAAAAAAEAAAIAAAAAAQAABAAAAAABAAAGAAAAAAEAAAIAAAAABwAABAAAAAABAAAGAAAAAAEAAAIAAAAAAQAABAAAAAABAAAKAAAAAAEAAAQAAAAAAQAAAAAAAAABAAACAAAAAAEAAAQAAAAAAQAACgAAAAABAAAEAAAAAAEAAAAAAAAAAQAAAgAAAAABAAAKAAAAAAEAAAQAAAAAAQAAAAAAAAABAAACAAAAAAEAAAoAAAAAAQAABAAAAAABAAAAAAAAAAEAAAIAAAAAAQAACgAAAAABAAAEAAAAAAEAAAAAAAAAAQAAAgAAAAABAAAKAAAAAAEAAAQAAAAAAQAAAAAAAAABAAACAAAAAAEAAAYAAAAAAQAAAgAAAAABAAAEAAAAAAEAAAoAAAAAAQAABAAAAAABAAAAAAAAAAEAAAIAAAAAAQAABAAAAAABAAAKAAAAAAEAAAQAAAAAAQAAAAAAAAABAAACAAAAAAEAAAYAAAAAAQAAAgAAAAABAAAKAAAAAAEAAAQAAAAAAQAAAAAAAAABAAACAAAAAAEAAAoAAAAAAQAABAAAAAABAAAAAAAAAAEAAAIAAAAAAQAACAAAAAACAAACAAAAAAEAAAgAAAAAAgAAAgAAAAABAAAGAAAAAAEAAAIAAAAAAQAABgAAAAABAAACAAAAAAEAAAYAAAAAAQAAAgAAAAABAAAGAAAAAAEAAAIAAAAAAQAABgAAAAABAAACAAAAAAEAAAQAAAAAAQAACgAAAAABAAAEAAAAAAEAAAAAAAAAAQAAAgAAAAABAAAIAAAAAAIAAAIAAAAAHHN0c2MAAAAAAAAAAQAAAAEAAADKAAAAAQAAAzxzdHN6AAAAAAAAAAAAAADKAAAFogAAABoAAAATAAAAEgAAAB0AAAAiAAAAFAAAABwAAAAcAAAAHQAAAB8AAAATAAAAHQAAACIAAAAUAAAAHAAAABwAAAAtAAAAFQAAABMAAAATAAAAHQAAABYAAAAUAAAAHgAAACIAAAAUAAAAHAAAABwAAAAcAAAAEwAAABQAAAAdAAAAHAAAAB0AAAAhAAAAFAAAABwAAAAWAAAAFAAAACAAAAAUAAAAJAAAABkAAAAUAAAAFAAAAB0AAAAcAAAAHAAAAB0AAAAfAAAAFAAAABMAAAAgAAAAFgAAABQAAAAhAAAAFAAAACIAAAAUAAAAIAAAABUAAAATAAAAHQAAABYAAAAUAAAAHQAAACIAAAAZAAAAEwAAABQAAAAdAAAAHAAAAB0AAAAdAAAAHgAAAB4AAAAUAAAAFAAAABQAAAAgAAAAFAAAABwAAAAjAAAAFAAAABwAAAAeAAAAFQAAABIAAAAeAAAAIwAAABUAAAATAAAAFAAAAB4AAAAUAAAAHQAAABwAAAAfAAAAGAAAABQAAAATAAAAHQAAAB0AAAAdAAAAIQAAABQAAAAVAAAAFwAAABQAAAAUAAAAIAAAABQAAAAhAAAAFgAAABQAAAAgAAAAFAAAABsAAAAiAAAAFAAAABwAAAAcAAAAHAAAABwAAAAcAAAAHQAAAB0AAAAkAAAAFAAAABwAAAAdAAAAFwAAABMAAAATAAAAHgAAACIAAAAVAAAAEwAAABQAAAAXAAAAEAAAABMAAAATAAAAFwAAABgAAAATAAAAFAAAACIAAAAUAAAAEgAAABQAAAAgAAAAFAAAABMAAAATAAAAHQAAABQAAAAdAAAAFQAAABcAAAAUAAAAFAAAAB4AAAAaAAAAGAAAABQAAAAUAAAAIAAAABMAAAAhAAAAFAAAABMAAAAUAAAAIAAAABQAAAATAAAAFAAAAB0AAAAWAAAAEgAAACAAAAAWAAAAFAAAACEAAAAUAAAAIAAAABQAAAAgAAAAFAAAACAAAAAUAAAAIAAAABQAAAAdAAAAHAAAABgAAAAUAAAAFAAAAB4AAAAqAAAAKAAAABRzdGNvAAAAAAAAAAEAAAAwAAAAYnVkdGEAAABabWV0YQAAAAAAAAAhaGRscgAAAAAAAAAAbWRpcmFwcGwAAAAAAAAAAAAAAAAtaWxzdAAAACWpdG9vAAAAHWRhdGEAAAABAAAAAExhdmY1Ny44My4xMDA=\" type=\"video/mp4\" />\n",
              "             </video>"
            ],
            "text/plain": [
              "<IPython.core.display.HTML object>"
            ]
          },
          "metadata": {
            "tags": []
          },
          "execution_count": 83
        }
      ]
    },
    {
      "metadata": {
        "id": "qRt4QqrnqTag",
        "colab_type": "code",
        "colab": {
          "base_uri": "https://localhost:8080/",
          "height": 293
        },
        "outputId": "5af75512-ca8d-4c85-f935-f783d9a1c5dc"
      },
      "cell_type": "code",
      "source": [
        "HTML(display_videos('mimic_train_explore30.mp4'))"
      ],
      "execution_count": 86,
      "outputs": [
        {
          "output_type": "execute_result",
          "data": {
            "text/html": [
              "<video alt=\"test\" controls>\n",
              "                <source src=\"data:video/mp4;base64,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\" type=\"video/mp4\" />\n",
              "             </video>"
            ],
            "text/plain": [
              "<IPython.core.display.HTML object>"
            ]
          },
          "metadata": {
            "tags": []
          },
          "execution_count": 86
        }
      ]
    },
    {
      "metadata": {
        "id": "nFc1cRIWnZP8",
        "colab_type": "code",
        "colab": {
          "base_uri": "https://localhost:8080/",
          "height": 3553
        },
        "outputId": "f168a3e5-07de-4822-a79a-790f705166c7"
      },
      "cell_type": "code",
      "source": [
        "env = EnvironmentExploring(grid_size=size, max_time=T, temperature=0.3)\n",
        "agent_cnn = DQN_CNN(size, lr=.1, epsilon = 0.1, memory_size=1000, batch_size = 32,n_state=3)\n",
        "agent_cnn.load(name_weights='cnn_train_exploremodel.h5',name_model='cnn_train_exploremodel.json')\n",
        "\n",
        "agent_mimic = Mimic_CNN(agent_expert,size,lr=.1, epsilon = 0.1, memory_size=1000, batch_size = 32,n_state=3)\n",
        "agent_mimic.load(name_weights='mimic_train_exploremodel.h5',name_model='mimic_train_exploremodel.json')\n",
        "print('Test of the CNN')\n",
        "test(agent_cnn,env,epochs_test,prefix='cnn_test_tomimic')\n",
        "print('Test of the Mimic')\n",
        "test(agent_mimic,env,epochs_test,prefix='mimic_test')"
      ],
      "execution_count": 85,
      "outputs": [
        {
          "output_type": "stream",
          "text": [
            "Test of the CNN\n",
            "0\n",
            "Win/lose count 15.5/1.0. Average score (14.5)\n",
            "1\n",
            "Win/lose count 17.0/0.0. Average score (15.75)\n",
            "2\n",
            "Win/lose count 11.0/0.0. Average score (14.166666666666666)\n",
            "3\n",
            "Win/lose count 14.5/1.0. Average score (14.0)\n",
            "4\n",
            "Win/lose count 9.5/0.0. Average score (13.1)\n",
            "5\n",
            "Win/lose count 24.5/2.0. Average score (14.666666666666666)\n",
            "6\n",
            "Win/lose count 15.5/0.0. Average score (14.785714285714286)\n",
            "7\n",
            "Win/lose count 9.0/1.0. Average score (13.9375)\n",
            "8\n",
            "Win/lose count 10.0/0.0. Average score (13.5)\n",
            "9\n",
            "Win/lose count 5.0/2.0. Average score (12.45)\n",
            "10\n",
            "Win/lose count 9.0/0.0. Average score (12.136363636363637)\n",
            "11\n",
            "Win/lose count 14.5/0.0. Average score (12.333333333333334)\n",
            "12\n",
            "Win/lose count 3.5/0.0. Average score (11.653846153846153)\n",
            "13\n",
            "Win/lose count 17.0/0.0. Average score (12.035714285714286)\n",
            "14\n",
            "Win/lose count 23.0/1.0. Average score (12.7)\n",
            "15\n",
            "Win/lose count 16.0/1.0. Average score (12.84375)\n",
            "16\n",
            "Win/lose count 19.0/0.0. Average score (13.205882352941176)\n",
            "17\n",
            "Win/lose count 18.0/2.0. Average score (13.36111111111111)\n",
            "18\n",
            "Win/lose count 12.0/1.0. Average score (13.236842105263158)\n",
            "19\n",
            "Win/lose count 25.0/1.0. Average score (13.775)\n",
            "20\n",
            "Win/lose count 8.5/0.0. Average score (13.523809523809524)\n",
            "21\n",
            "Win/lose count 2.0/1.0. Average score (12.954545454545455)\n",
            "22\n",
            "Win/lose count 9.0/0.0. Average score (12.782608695652174)\n",
            "23\n",
            "Win/lose count 1.5/0.0. Average score (12.3125)\n",
            "24\n",
            "Win/lose count 11.0/0.0. Average score (12.26)\n",
            "25\n",
            "Win/lose count 6.0/0.0. Average score (12.01923076923077)\n",
            "26\n",
            "Win/lose count 10.0/0.0. Average score (11.944444444444445)\n",
            "27\n",
            "Win/lose count 15.5/0.0. Average score (12.071428571428571)\n",
            "28\n",
            "Win/lose count 8.5/1.0. Average score (11.913793103448276)\n",
            "29\n",
            "Win/lose count 21.5/1.0. Average score (12.2)\n",
            "30\n",
            "Win/lose count 12.5/0.0. Average score (12.209677419354838)\n",
            "31\n",
            "Win/lose count 10.0/0.0. Average score (12.140625)\n",
            "32\n",
            "Win/lose count 11.5/1.0. Average score (12.090909090909092)\n",
            "33\n",
            "Win/lose count 21.0/1.0. Average score (12.323529411764707)\n",
            "34\n",
            "Win/lose count 16.5/0.0. Average score (12.442857142857143)\n",
            "35\n",
            "Win/lose count 15.5/0.0. Average score (12.527777777777779)\n",
            "36\n",
            "Win/lose count 4.0/0.0. Average score (12.297297297297296)\n",
            "37\n",
            "Win/lose count 8.0/0.0. Average score (12.18421052631579)\n",
            "38\n",
            "Win/lose count 15.5/0.0. Average score (12.26923076923077)\n",
            "39\n",
            "Win/lose count 22.5/0.0. Average score (12.525)\n",
            "40\n",
            "Win/lose count 4.5/0.0. Average score (12.329268292682928)\n",
            "41\n",
            "Win/lose count 5.0/1.0. Average score (12.130952380952381)\n",
            "42\n",
            "Win/lose count 4.5/0.0. Average score (11.953488372093023)\n",
            "43\n",
            "Win/lose count 12.0/0.0. Average score (11.954545454545455)\n",
            "44\n",
            "Win/lose count 7.0/0.0. Average score (11.844444444444445)\n",
            "45\n",
            "Win/lose count 18.5/1.0. Average score (11.967391304347826)\n",
            "46\n",
            "Win/lose count 20.0/1.0. Average score (12.117021276595745)\n",
            "47\n",
            "Win/lose count 18.5/1.0. Average score (12.229166666666666)\n",
            "48\n",
            "Win/lose count 15.0/0.0. Average score (12.285714285714286)\n",
            "49\n",
            "Win/lose count 4.5/0.0. Average score (12.13)\n",
            "Final score: 12.13\n",
            "Test of the Mimic\n",
            "0\n",
            "Win/lose count 8.0/0.0. Average score (8.0)\n",
            "1\n",
            "Win/lose count 24.0/0.0. Average score (16.0)\n",
            "2\n",
            "Win/lose count 13.5/1.0. Average score (14.833333333333334)\n",
            "3\n",
            "Win/lose count 14.5/0.0. Average score (14.75)\n",
            "4\n",
            "Win/lose count 15.5/0.0. Average score (14.9)\n",
            "5\n",
            "Win/lose count 6.5/0.0. Average score (13.5)\n",
            "6\n",
            "Win/lose count 16.0/0.0. Average score (13.857142857142858)\n",
            "7\n",
            "Win/lose count 18.5/0.0. Average score (14.4375)\n",
            "8\n",
            "Win/lose count 17.5/0.0. Average score (14.777777777777779)\n",
            "9\n",
            "Win/lose count 15.0/1.0. Average score (14.7)\n",
            "10\n",
            "Win/lose count 4.5/0.0. Average score (13.772727272727273)\n",
            "11\n",
            "Win/lose count 26.0/1.0. Average score (14.708333333333334)\n",
            "12\n",
            "Win/lose count 11.0/0.0. Average score (14.423076923076923)\n",
            "13\n",
            "Win/lose count 10.0/0.0. Average score (14.107142857142858)\n",
            "14\n",
            "Win/lose count 12.5/0.0. Average score (14.0)\n",
            "15\n",
            "Win/lose count 7.0/1.0. Average score (13.5)\n",
            "16\n",
            "Win/lose count 10.0/0.0. Average score (13.294117647058824)\n",
            "17\n",
            "Win/lose count 17.0/0.0. Average score (13.5)\n",
            "18\n",
            "Win/lose count 7.0/0.0. Average score (13.157894736842104)\n",
            "19\n",
            "Win/lose count 16.0/1.0. Average score (13.25)\n",
            "20\n",
            "Win/lose count 17.0/1.0. Average score (13.380952380952381)\n",
            "21\n",
            "Win/lose count 10.5/1.0. Average score (13.204545454545455)\n",
            "22\n",
            "Win/lose count 7.5/0.0. Average score (12.956521739130435)\n",
            "23\n",
            "Win/lose count 10.5/0.0. Average score (12.854166666666666)\n",
            "24\n",
            "Win/lose count 18.0/0.0. Average score (13.06)\n",
            "25\n",
            "Win/lose count 23.5/1.0. Average score (13.423076923076923)\n",
            "26\n",
            "Win/lose count 14.0/0.0. Average score (13.444444444444445)\n",
            "27\n",
            "Win/lose count 18.0/0.0. Average score (13.607142857142858)\n",
            "28\n",
            "Win/lose count 8.0/1.0. Average score (13.379310344827585)\n",
            "29\n",
            "Win/lose count 5.0/0.0. Average score (13.1)\n",
            "30\n",
            "Win/lose count 21.0/0.0. Average score (13.35483870967742)\n",
            "31\n",
            "Win/lose count 15.5/1.0. Average score (13.390625)\n",
            "32\n",
            "Win/lose count 8.0/0.0. Average score (13.227272727272727)\n",
            "33\n",
            "Win/lose count 6.0/0.0. Average score (13.014705882352942)\n",
            "34\n",
            "Win/lose count 11.0/1.0. Average score (12.928571428571429)\n",
            "35\n",
            "Win/lose count 7.5/0.0. Average score (12.777777777777779)\n",
            "36\n",
            "Win/lose count 1.5/0.0. Average score (12.472972972972974)\n",
            "37\n",
            "Win/lose count 12.5/0.0. Average score (12.473684210526315)\n",
            "38\n",
            "Win/lose count 15.5/1.0. Average score (12.525641025641026)\n",
            "39\n",
            "Win/lose count 17.0/1.0. Average score (12.6125)\n",
            "40\n",
            "Win/lose count 16.5/0.0. Average score (12.707317073170731)\n",
            "41\n",
            "Win/lose count 19.5/0.0. Average score (12.869047619047619)\n",
            "42\n",
            "Win/lose count 9.0/0.0. Average score (12.779069767441861)\n",
            "43\n",
            "Win/lose count 15.0/1.0. Average score (12.806818181818182)\n",
            "44\n",
            "Win/lose count 8.5/0.0. Average score (12.71111111111111)\n",
            "45\n",
            "Win/lose count 18.0/0.0. Average score (12.826086956521738)\n",
            "46\n",
            "Win/lose count 5.5/0.0. Average score (12.670212765957446)\n",
            "47\n",
            "Win/lose count 9.5/0.0. Average score (12.604166666666666)\n",
            "48\n",
            "Win/lose count 20.0/0.0. Average score (12.755102040816327)\n",
            "49\n",
            "Win/lose count 15.5/0.0. Average score (12.81)\n",
            "Final score: 12.81\n"
          ],
          "name": "stdout"
        }
      ]
    },
    {
      "metadata": {
        "id": "32F1yNPaqobf",
        "colab_type": "code",
        "colab": {
          "base_uri": "https://localhost:8080/",
          "height": 293
        },
        "outputId": "6b425035-f347-4f3a-de3e-756438fc1f3a"
      },
      "cell_type": "code",
      "source": [
        "HTML(display_videos('cnn_test_tomimic30.mp4'))"
      ],
      "execution_count": 90,
      "outputs": [
        {
          "output_type": "execute_result",
          "data": {
            "text/html": [
              "<video alt=\"test\" controls>\n",
              "                <source src=\"data:video/mp4;base64,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\" type=\"video/mp4\" />\n",
              "             </video>"
            ],
            "text/plain": [
              "<IPython.core.display.HTML object>"
            ]
          },
          "metadata": {
            "tags": []
          },
          "execution_count": 90
        }
      ]
    },
    {
      "metadata": {
        "id": "umDqVTPYqrun",
        "colab_type": "code",
        "colab": {
          "base_uri": "https://localhost:8080/",
          "height": 293
        },
        "outputId": "07086f4d-8f4f-4f4d-dcac-4d66b1d3a0a2"
      },
      "cell_type": "code",
      "source": [
        "HTML(display_videos('mimic_test30.mp4'))"
      ],
      "execution_count": 89,
      "outputs": [
        {
          "output_type": "execute_result",
          "data": {
            "text/html": [
              "<video alt=\"test\" controls>\n",
              "                <source src=\"data:video/mp4;base64,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\" type=\"video/mp4\" />\n",
              "             </video>"
            ],
            "text/plain": [
              "<IPython.core.display.HTML object>"
            ]
          },
          "metadata": {
            "tags": []
          },
          "execution_count": 89
        }
      ]
    },
    {
      "metadata": {
        "id": "LdtOmhiC8VpC",
        "colab_type": "text"
      },
      "cell_type": "markdown",
      "source": [
        "The propossed model learns efficiently how to act as the expert as we can see in the average score which is almost the same for both agents.\n",
        "\n",
        "This means that a neural network could learn efficiently from an human player by just watching.\n"
      ]
    }
  ]
}