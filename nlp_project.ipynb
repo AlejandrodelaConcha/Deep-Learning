{
  "nbformat": 4,
  "nbformat_minor": 0,
  "metadata": {
    "kernelspec": {
      "display_name": "Python 3",
      "language": "python",
      "name": "python3"
    },
    "language_info": {
      "codemirror_mode": {
        "name": "ipython",
        "version": 3
      },
      "file_extension": ".py",
      "mimetype": "text/x-python",
      "name": "python",
      "nbconvert_exporter": "python",
      "pygments_lexer": "ipython3",
      "version": "3.6.7"
    },
    "colab": {
      "name": "nlp_project.ipynb",
      "provenance": [],
      "collapsed_sections": [],
      "toc_visible": true,
      "machine_shape": "hm",
      "include_colab_link": true
    }
  },
  "cells": [
    {
      "cell_type": "markdown",
      "metadata": {
        "id": "view-in-github",
        "colab_type": "text"
      },
      "source": [
        "<a href=\"https://colab.research.google.com/github/AlejandrodelaConcha/Deep-Learning/blob/master/nlp_project.ipynb\" target=\"_parent\"><img src=\"https://colab.research.google.com/assets/colab-badge.svg\" alt=\"Open In Colab\"/></a>"
      ]
    },
    {
      "cell_type": "markdown",
      "metadata": {
        "id": "kJIA_seP_waL",
        "colab_type": "text"
      },
      "source": [
        "# Deep Learning for NLP - Project"
      ]
    },
    {
      "cell_type": "code",
      "metadata": {
        "id": "h3kKorwl_waP",
        "colab_type": "code",
        "colab": {}
      },
      "source": [
        "import io\n",
        "import os\n",
        "import numpy as np\n",
        "import scipy\n",
        "import scipy.linalg\n",
        "import re\n",
        "import string"
      ],
      "execution_count": 0,
      "outputs": []
    },
    {
      "cell_type": "code",
      "metadata": {
        "id": "YqCSWA0RYQAW",
        "colab_type": "code",
        "outputId": "cc0c8465-3615-4128-e7a3-aaf2ff4813c4",
        "colab": {
          "base_uri": "https://localhost:8080/",
          "height": 119
        }
      },
      "source": [
        "##### Clon Git-Hub to have access to the sentences to valuate.\n",
        "!git clone https://github.com/AlejandrodelaConcha/Deep-Learning.git"
      ],
      "execution_count": 3,
      "outputs": [
        {
          "output_type": "stream",
          "text": [
            "Cloning into 'Deep-Learning'...\n",
            "remote: Enumerating objects: 40, done.\u001b[K\n",
            "remote: Counting objects: 100% (40/40), done.\u001b[K\n",
            "remote: Compressing objects: 100% (31/31), done.\u001b[K\n",
            "remote: Total 70 (delta 4), reused 27 (delta 3), pack-reused 30\n",
            "Unpacking objects: 100% (70/70), done.\n"
          ],
          "name": "stdout"
        }
      ]
    },
    {
      "cell_type": "code",
      "metadata": {
        "id": "pj5BdsRKY0XK",
        "colab_type": "code",
        "colab": {}
      },
      "source": [
        "PATH_TO_SENTENCES = '/content/Deep-Learning/HWK2/data/'\n",
        "PATH_TO_VECTORS='/content/'"
      ],
      "execution_count": 0,
      "outputs": []
    },
    {
      "cell_type": "code",
      "metadata": {
        "id": "IJcqv_OQN-QY",
        "colab_type": "code",
        "colab": {}
      },
      "source": [
        "##### The following sections aim to download the word embeddings located in my drive\n",
        "# Code to read csv file into Colaboratory:\n",
        "!pip install -U -q PyDrive\n",
        "from pydrive.auth import GoogleAuth\n",
        "from pydrive.drive import GoogleDrive\n",
        "from google.colab import auth\n",
        "from oauth2client.client import GoogleCredentials\n",
        "# Authenticate and create the PyDrive client.\n",
        "auth.authenticate_user()\n",
        "gauth = GoogleAuth()\n",
        "gauth.credentials = GoogleCredentials.get_application_default()\n",
        "drive = GoogleDrive(gauth)"
      ],
      "execution_count": 0,
      "outputs": []
    },
    {
      "cell_type": "code",
      "metadata": {
        "id": "LFYoef-VxwPK",
        "colab_type": "code",
        "colab": {}
      },
      "source": [
        "link=\"https://drive.google.com/drive/folders/1i7JxoJKXtaRNISqS6mOhAMh-w1T0GWMo?usp=sharing\"\n",
        "id=\"1i7JxoJKXtaRNISqS6mOhAMh-w1T0GWMo\""
      ],
      "execution_count": 0,
      "outputs": []
    },
    {
      "cell_type": "code",
      "metadata": {
        "id": "nh83xhPRYj9L",
        "colab_type": "code",
        "outputId": "75b1ce27-801a-4793-8db4-0d1b06405a93",
        "colab": {
          "base_uri": "https://localhost:8080/",
          "height": 119
        }
      },
      "source": [
        "folder_id = '1i7JxoJKXtaRNISqS6mOhAMh-w1T0GWMo'\n",
        "lister = drive.ListFile({'q': \"'%s' in parents\" % folder_id}).GetList()\n",
        "for item in lister:\n",
        "    print(item['title'])\n",
        "    # this should tell you which mimetype the file you're trying to download \n",
        "    # has. \n",
        "    print('title: %s, mimeType: %s' % (item['title'], item['mimeType']))\n",
        "    mimetypes = {\n",
        "        # Drive Document files as PDF\n",
        "        'application/vnd.google-apps.document': 'application/pdf',\n",
        "\n",
        "        # Drive Sheets files as MS Excel files.\n",
        "        'application/vnd.google-apps.spreadsheet': 'application/vnd.openxmlformats-officedocument.spreadsheetml.sheet'\n",
        "\n",
        "    # see https://developers.google.com/drive/v3/web/mime-types\n",
        "    }\n",
        "    download_mimetype = None\n",
        "    if item['mimeType'] in mimetypes:\n",
        "        download_mimetype = mimetypes[item['mimeType']]\n",
        "        file.GetContentFile(item['title'], mimetype=download_mimetype)\n",
        "\n",
        "      #  item.GetContentFile(PATH_TO_DATA + item['title'], mimetype=download_mimetype)\n",
        "    else: \n",
        "        item.GetContentFile(item['title'])"
      ],
      "execution_count": 7,
      "outputs": [
        {
          "output_type": "stream",
          "text": [
            "wiki.fr.vec\n",
            "title: wiki.fr.vec, mimeType: application/octet-stream\n",
            "wiki.en.vec\n",
            "title: wiki.en.vec, mimeType: application/octet-stream\n",
            "crawl-300d-200k.vec\n",
            "title: crawl-300d-200k.vec, mimeType: application/octet-stream\n"
          ],
          "name": "stdout"
        }
      ]
    },
    {
      "cell_type": "markdown",
      "metadata": {
        "id": "NAyGiZjx_waX",
        "colab_type": "text"
      },
      "source": [
        "# 1) Monolingual (English) word embeddings "
      ]
    },
    {
      "cell_type": "code",
      "metadata": {
        "id": "FU5-az-b_waY",
        "colab_type": "code",
        "colab": {}
      },
      "source": [
        "import warnings\n",
        "warnings.filterwarnings(\"ignore\")\n",
        "\n",
        "class Word2vec():\n",
        "  ### Class to upload and compare word-embeddings. \n",
        "    \n",
        "    def __init__(self, fname, nmax=100000):\n",
        "       ## Input:\n",
        "       ## fname: name of the file containing the embeddings.\n",
        "       ## nmax: maximum number of words to us\n",
        "        \n",
        "        self.load_wordvec(fname, nmax)\n",
        "        self.word2id = dict.fromkeys(self.word2vec.keys())\n",
        "        self.word2id_lowercase = dict.fromkeys(self.word2vec_lowercase.keys())\n",
        "        \n",
        "        for idx,word in enumerate(self.word2id):\n",
        "            self.word2id[word]=idx\n",
        "            \n",
        "        for idx,word in enumerate(self.word2id_lowercase):\n",
        "            self.word2id_lowercase[word]=idx\n",
        "       \n",
        "        self.id2word = {v: k for k, v in self.word2id.items()} \n",
        "        self.id2word_lowercase= {v: k for k, v in self.word2id_lowercase.items()}  \n",
        "       \n",
        "        self.embeddings=np.vstack(self.word2vec.values())\n",
        "        self.embeddings_lowercase=np.vstack(self.word2vec_lowercase.values())\n",
        "    \n",
        "    def load_wordvec(self, fname, nmax):\n",
        "      ##### Function to load the word-embeddings \n",
        "      ## Input:\n",
        "      ## fname: name of the file containing the embeddings.\n",
        "      ## nmax: maximum number of words to use \n",
        "        self.word2vec = {}\n",
        "        self.word2vec_lowercase={}\n",
        "        with io.open(fname, encoding='utf-8') as f:\n",
        "            next(f)\n",
        "            for i, line in enumerate(f):\n",
        "                word, vec = line.split(' ', 1)\n",
        "                self.word2vec[word] = np.fromstring(vec, sep=' ')\n",
        "                word_lower=word.lower()\n",
        "                if(word_lower not in self.word2vec_lowercase.keys()):\n",
        "                    self.word2vec_lowercase[word_lower] = np.fromstring(vec, sep=' ')\n",
        "                if i == (nmax - 1):\n",
        "                    break\n",
        "        print('Loaded %s pretrained word vectors' % (len(self.word2vec)))\n",
        "\n",
        "    def most_similar(self, w, K=5,lowercase=False):\n",
        "        ##### Function computing the 5 most similar words to word w\n",
        "        ## Input:\n",
        "        # w: Word of reference \n",
        "        # K: number of closest neighbors\n",
        "        # lowercase: whether or not use the lowecased embeddings \n",
        "        \n",
        "        if(lowercase):\n",
        "            scores=np.array([self.score(w,x,lowercase) for x in self.id2word_lowercase.values()])\n",
        "            k_index=np.argsort(-scores)[:K]\n",
        "            k_similar=np.array([self.id2word_lowercase[i] for i in k_index])\n",
        "        else:          \n",
        "            scores=np.array([self.score(w,x,lowercase) for x in self.id2word.values()])\n",
        "            k_index=np.argsort(-scores)[:K]\n",
        "            k_similar=np.array([self.id2word[i] for i in k_index])\n",
        "        return k_similar\n",
        "\n",
        "    def score(self, w1, w2,lowercase=False):\n",
        "        ### Function computing the similarity between two word vectors\n",
        "        ## Input: \n",
        "        # w1,w2: words to compare \n",
        "        # lowercase: whether or not use the lowecased embeddings \n",
        "        \n",
        "        if(lowercase):\n",
        "            v1=self.embeddings_lowercase[self.word2id_lowercase[w1.lower()]]\n",
        "            v2=self.embeddings_lowercase[self.word2id_lowercase[w2.lower()]]\n",
        "        else:\n",
        "            v1=self.embeddings[self.word2id[w1]]\n",
        "            v2=self.embeddings[self.word2id[w2]]\n",
        "        score=v1.dot(v2)/(np.linalg.norm(v1)*np.linalg.norm(v2))\n",
        "        return score\n",
        "\n",
        "class Word2vec_faster():\n",
        "    ##### Class to load the word-embeddings  and process in a faster way that the propossed one \n",
        "     \n",
        "    def __init__(self, fname, nmax=100000):\n",
        "       ## Input:\n",
        "       ## fname: name of the file containing the embeddings.\n",
        "       ## nmax: maximum number of words to us\n",
        "      \n",
        "        self.load_wordvec(fname, nmax)\n",
        "        self.vocabulary=np.array([w for w in self.word2vec.keys()])\n",
        "    \n",
        "    def load_wordvec(self, fname, nmax):\n",
        "      ##### Function to load the word-embeddings \n",
        "      ## Input:\n",
        "      ## fname: name of the file containing the embeddings.\n",
        "      ## nmax: maximum number of words to use \n",
        "      \n",
        "        self.word2vec = {}\n",
        "        with io.open(fname, encoding='utf-8') as f:\n",
        "            next(f)\n",
        "            for i, line in enumerate(f):\n",
        "                word, vec = line.split(' ', 1)\n",
        "                word_lower=word.lower()\n",
        "                if(word_lower not in self.word2vec.keys()):\n",
        "                    self.word2vec[word_lower] = np.fromstring(vec, sep=' ')\n",
        "                if i == (nmax - 1):\n",
        "                    break\n",
        "        print('Loaded %s pretrained word vectors' % (len(self.word2vec)))\n",
        "\n",
        "    def most_similar(self, w, K=5):\n",
        "       ##### Function computing the 5 most similar words to word w\n",
        "        ## Input:\n",
        "        # w: Word of reference \n",
        "        # K: number of closest neighbors \n",
        "              \n",
        "        scores=np.array([self.score(w,x) for x in self.word2vec.keys()])\n",
        "        k_index=np.argsort(-scores)[:K]\n",
        "        k_similar=self.vocabulary[k_index]\n",
        "        return k_similar\n",
        "\n",
        "    def score(self, w1, w2):\n",
        "        ### Function computing the similarity between two word vectors\n",
        "        ## Input: \n",
        "        # w1,w2: words to compare \n",
        "        \n",
        "        v1=self.word2vec[w1.lower()]\n",
        "        v2=self.word2vec[w2.lower()]\n",
        "        score=v1.dot(v2)/(np.linalg.norm(v1)*np.linalg.norm(v2))\n",
        "        return score"
      ],
      "execution_count": 0,
      "outputs": []
    },
    {
      "cell_type": "code",
      "metadata": {
        "id": "-UwvvQOl_wac",
        "colab_type": "code",
        "outputId": "01b20b33-d7d2-4f51-b13d-92c03071b6be",
        "colab": {
          "base_uri": "https://localhost:8080/",
          "height": 306
        }
      },
      "source": [
        "w2v = Word2vec(os.path.join(PATH_TO_VECTORS, 'crawl-300d-200k.vec'), nmax=25000)\n",
        "\n",
        "# You will be evaluated on the output of the following:\n",
        "print(\"     Results sensitive to lower and upper case\")\n",
        "for w1, w2 in zip(('cat', 'dog', 'dogs', 'Paris', 'Germany'), ('dog', 'pet', 'cats', 'France', 'Berlin')):\n",
        "    print(\"Distances between wordvectors: \",w1, w2, w2v.score(w1, w2,lowercase=False))\n",
        "for w1 in ['cat', 'dog', 'dogs', 'Paris', 'Germany']:\n",
        "    print(\"Five nearest neighbors of \",w1)\n",
        "    print(w2v.most_similar(w1,lowercase=False))"
      ],
      "execution_count": 0,
      "outputs": [
        {
          "output_type": "stream",
          "text": [
            "Loaded 25000 pretrained word vectors\n",
            "     Results sensitive to lower and upper case\n",
            "Distances between wordvectors:  cat dog 0.671683666279249\n",
            "Distances between wordvectors:  dog pet 0.6842064029669219\n",
            "Distances between wordvectors:  dogs cats 0.7074389328052404\n",
            "Distances between wordvectors:  Paris France 0.7058595452409975\n",
            "Distances between wordvectors:  Germany Berlin 0.7060253015336013\n",
            "Five nearest neighbors of  cat\n",
            "['cat' 'cats' 'kitty' 'kitten' 'Cat']\n",
            "Five nearest neighbors of  dog\n",
            "['dog' 'dogs' 'puppy' 'Dog' 'canine']\n",
            "Five nearest neighbors of  dogs\n",
            "['dogs' 'dog' 'Dogs' 'puppies' 'cats']\n",
            "Five nearest neighbors of  Paris\n",
            "['Paris' 'Parisian' 'France' 'Versailles' 'Lyon']\n",
            "Five nearest neighbors of  Germany\n",
            "['Germany' 'Austria' 'Bavaria' 'Berlin' 'Munich']\n"
          ],
          "name": "stdout"
        }
      ]
    },
    {
      "cell_type": "code",
      "metadata": {
        "id": "mswwQMw4YTVi",
        "colab_type": "code",
        "outputId": "88e1fd16-8376-414a-bca5-812c049dabbe",
        "colab": {
          "base_uri": "https://localhost:8080/",
          "height": 289
        }
      },
      "source": [
        "print(\"     Results not sensitive to lower and upper case\")\n",
        "for w1, w2 in zip(('cat', 'dog', 'dogs', 'paris', 'germany'), ('dog', 'pet', 'cats', 'france', 'berlin')):\n",
        "    print(\"Distances between wordvectors\",w1, w2, w2v.score(w1, w2,lowercase=True))\n",
        "for w1 in ['cat', 'dog', 'dogs', 'paris', 'germany']:\n",
        "    print(\"Five nearest neighbors of \",w1)\n",
        "    print(w2v.most_similar(w1,lowercase=True))"
      ],
      "execution_count": 0,
      "outputs": [
        {
          "output_type": "stream",
          "text": [
            "     Results not sensitive to lower and upper case\n",
            "Distances between wordvectors cat dog 0.671683666279249\n",
            "Distances between wordvectors dog pet 0.6842064029669219\n",
            "Distances between wordvectors dogs cats 0.7074389328052404\n",
            "Distances between wordvectors paris france 0.7058595452409975\n",
            "Distances between wordvectors germany berlin 0.7060253015336013\n",
            "Five nearest neighbors of  cat\n",
            "['cat' 'cats' 'kitten' 'dog' 'kittens']\n",
            "Five nearest neighbors of  dog\n",
            "['dog' 'dogs' 'puppy' 'canine' 'pup']\n",
            "Five nearest neighbors of  dogs\n",
            "['dogs' 'dog' 'puppies' 'cats' 'canine']\n",
            "Five nearest neighbors of  paris\n",
            "['paris' 'parisian' 'france' 'versailles' 'lyon']\n",
            "Five nearest neighbors of  germany\n",
            "['germany' 'austria' 'bavaria' 'berlin' 'munich']\n"
          ],
          "name": "stdout"
        }
      ]
    },
    {
      "cell_type": "code",
      "metadata": {
        "id": "RknUcF-6_waf",
        "colab_type": "code",
        "colab": {}
      },
      "source": [
        "class BoV():\n",
        "  #### Class to create embedding from a list of sentences and stimate the similarity between them\n",
        "    def __init__(self, w2v):\n",
        "        self.w2v = w2v\n",
        "    \n",
        "    def encode(self, sentences, idf=False):\n",
        "        ### Function to create an embedding of a list of sentences. \n",
        "        ## Input.\n",
        "        ## sentences: list of sentences.\n",
        "        ## idf: wheter use the idf-weighted mean of word vectors or the sample mean\n",
        " \n",
        "        sentemb = []\n",
        "        # variables for preprocessing\n",
        "        # puntuation\n",
        "        punct = string.punctuation.replace('-', '').replace(\"'\",'')\n",
        "        # regex to match intra-word dashes and intra-word apostrophes\n",
        "        my_regex = re.compile(r\"(\\b[-']\\b)|[\\W_]\")\n",
        "        for sent in sentences:\n",
        "            \n",
        "            sent = re.sub('\\s+', ' ', sent)\n",
        "             # remove punctuation\n",
        "            sent = ''.join(l for l in sent if l not in punct)\n",
        "             # remove dashes that are not intra-word\n",
        "            sent = my_regex.sub(lambda x: (x.group(1) if x.group(1) else ' '), sent)\n",
        "            # strip extra white space\n",
        "            sent= re.sub(' +',' ',sent)\n",
        "            # strip leading and trailing white space\n",
        "            sent= sent.strip()\n",
        "            words = sent.split(' ')\n",
        "            words_in_vocabulary=[w for w in words if w in self.w2v.word2vec.keys()]\n",
        "            if(len(words_in_vocabulary)>0):\n",
        "                if idf is False:\n",
        "            \n",
        "                    aux_sentemb=[self.w2v.word2vec[w] for w in words_in_vocabulary]\n",
        "                    sentemb.append(sum(aux_sentemb)/float(len(aux_sentemb)))\n",
        "                \n",
        "                else:\n",
        "                # idf-weighted mean of word vectors\n",
        "                    aux_sentemb=[self.w2v.word2vec[w] for w in words_in_vocabulary if w in idf.keys()]\n",
        "                    weigths=[idf[w] for w in words_in_vocabulary if w in idf.keys()]\n",
        "                    multiplication=[intem1*item2 for intem1,item2 in zip(aux_sentemb,weigths)]\n",
        "                    sentemb.append(sum(multiplication)/sum(weigths))\n",
        "            else:\n",
        "                sentemb.append(np.repeat(np.inf,300))\n",
        "\n",
        "        return np.vstack(sentemb)\n",
        "\n",
        "    def most_similar(self, s, sentences, idf=False, K=5):\n",
        "        ### Function finding the K closest sentences to s \n",
        "        ## s: sentences of reference\n",
        "        ## sentences: list of sentences\n",
        "        ## idf: wheter use the idf-weighted mean of word vectors or the sample mean\n",
        "        ## K: number of closest neighbors \n",
        "        \n",
        "        keys = self.encode(sentences, idf)\n",
        "        \n",
        "        query = self.encode([s], idf)\n",
        "        scores= [query.dot(key)/(np.linalg.norm(query)*np.linalg.norm(key)) for key in keys]\n",
        "        scores=np.hstack(scores)\n",
        "        k_index=np.argsort(-scores)[:K]\n",
        "        k_similar=np.array([sentences[i] for i in k_index])\n",
        "        print(k_similar)\n",
        "        return k_similar\n",
        "\n",
        "    def score(self, s1, s2, idf=False):\n",
        "         ### Function computing the similarity between two sentences.\n",
        "        ## Input: \n",
        "        # s1,s2: sentences to compare.\n",
        "        # idf: whether or not use the idf to create the sentence embedding. \n",
        "        \n",
        "        v1=self.encode([s1],idf)\n",
        "        v2=self.encode([s2],idf)\n",
        "        score=float(v1.dot(v2.T))/(np.linalg.norm(v1)*np.linalg.norm(v2))\n",
        "        return score\n",
        "    \n",
        "    def build_idf(self, sentences):\n",
        "        ### Function to compute the idf score of the sentences in a given list.\n",
        "        ## sntences: list of sentences\n",
        "        \n",
        "        idf = {}\n",
        "        # variables for preprocessing\n",
        "        # puntuation\n",
        "        punct = string.punctuation.replace('-', '').replace(\"'\",'')\n",
        "        # regex to match intra-word dashes and intra-word apostrophes\n",
        "        my_regex = re.compile(r\"(\\b[-']\\b)|[\\W_]\")\n",
        "        for sent in sentences:\n",
        "             # remove formatting\n",
        "            sent = re.sub('\\s+', ' ', sent)\n",
        "             # remove punctuation\n",
        "            sent = ''.join(l for l in sent if l not in punct)\n",
        "             # remove dashes that are not intra-word\n",
        "            sent = my_regex.sub(lambda x: (x.group(1) if x.group(1) else ' '), sent)\n",
        "            # strip extra white space\n",
        "            sent= re.sub(' +',' ',sent)\n",
        "            # strip leading and trailing white space\n",
        "            sent= sent.strip()\n",
        "            words = sent.split(' ')\n",
        "            for w in set(words):\n",
        "                idf[w] = idf.get(w, 0) + 1         \n",
        "        for w in idf.keys():\n",
        "            idf[w]=max(1, np.log10(float(len(sentences))/float(idf[w])))\n",
        "        \n",
        "        return idf"
      ],
      "execution_count": 0,
      "outputs": []
    },
    {
      "cell_type": "code",
      "metadata": {
        "id": "mE1kvEhb_wai",
        "colab_type": "code",
        "outputId": "728b84d9-7d7c-409a-fa33-9974b87222bd",
        "colab": {
          "base_uri": "https://localhost:8080/",
          "height": 204
        }
      },
      "source": [
        "##### Packages for preprocessing\n",
        "import re\n",
        "import string\n",
        "\n",
        "w2v = Word2vec_faster(os.path.join(PATH_TO_VECTORS, 'crawl-300d-200k.vec'), nmax=25000)\n",
        "s2v = BoV(w2v)\n",
        "\n",
        "# Load sentences in \"PATH_TO_DATA/sentences.txt\"\n",
        "fname=os.path.join(PATH_TO_SENTENCES, 'sentences.txt')\n",
        "sentences=io.open(fname, encoding='utf-8')\n",
        "sentences=[sent for sent in sentences]\n",
        "\n",
        "# Build idf scores for each word\n",
        "idf = {} if False else s2v.build_idf(sentences)\n",
        "\n",
        "print(\"5 closest sentences according to the mean sentence embedding to: \",sentences[10])\n",
        "s2v.most_similar('' if not sentences else sentences[10], sentences)  # BoV-mean\n",
        "\n",
        "print(\" Distance between sentences \", sentences[7],\" and \",sentences[13],\" :\", s2v.score('' if not sentences else sentences[7], '' if not sentences else sentences[13]))\n",
        " "
      ],
      "execution_count": 10,
      "outputs": [
        {
          "output_type": "stream",
          "text": [
            "Loaded 19765 pretrained word vectors\n",
            "5 closest sentences according to the mean sentence embedding to:  1 smiling african american boy . \n",
            "\n",
            "['1 smiling african american boy . \\n'\n",
            " 'an african american man smiling . \\n'\n",
            " 'a little african american boy and girl looking up . \\n'\n",
            " 'a girl in black hat holding an african american baby . \\n'\n",
            " \"an african american woman braiding another african american woman 's hair , while sitting in a white chair . \\n\"]\n",
            " Distance between sentences  1 man singing and 1 man playing a saxophone in a concert . \n",
            "  and  10 people venture out to go crosscountry skiing . \n",
            "  : 0.5390759564194053\n"
          ],
          "name": "stdout"
        }
      ]
    },
    {
      "cell_type": "markdown",
      "metadata": {
        "id": "nMtHug3o_wak",
        "colab_type": "text"
      },
      "source": [
        "# 2) Multilingual (English-French) word embeddings"
      ]
    },
    {
      "cell_type": "markdown",
      "metadata": {
        "id": "pUtyMigI_wal",
        "colab_type": "text"
      },
      "source": [
        "Let's consider a bilingual dictionary of size V_a (e.g French-English).\n",
        "\n",
        "Let's define **X** and **Y** the **French** and **English** matrices.\n",
        "\n",
        "They contain the embeddings associated to the words in the bilingual dictionary.\n",
        "\n",
        "We want to find a **mapping W** that will project the source word space (e.g French) to the target word space (e.g English).\n",
        "\n",
        "Procrustes : **W\\* = argmin || W.X - Y ||  s.t  W^T.W = Id**\n",
        "has a closed form solution:\n",
        "**W = U.V^T  where  U.Sig.V^T = SVD(Y.X^T)**\n",
        "\n",
        "In what follows, you are asked to: "
      ]
    },
    {
      "cell_type": "markdown",
      "metadata": {
        "id": "H3pMt_SPfZfH",
        "colab_type": "text"
      },
      "source": [
        "## 1 - Download and load 50k first vectors of\n",
        "https://s3-us-west-1.amazonaws.com/fasttext-vectors/wiki.en.vec\n",
        "\n",
        "https://s3-us-west-1.amazonaws.com/fasttext-vectors/wiki.fr.vec"
      ]
    },
    {
      "cell_type": "code",
      "metadata": {
        "id": "jzhhwCxT_wam",
        "colab_type": "code",
        "outputId": "84226b10-ad40-42b4-a655-1feea5be8260",
        "colab": {
          "base_uri": "https://localhost:8080/",
          "height": 51
        }
      },
      "source": [
        "w2v_fr= Word2vec(os.path.join(PATH_TO_VECTORS, 'wiki.fr.vec'), nmax=50000)\n",
        "w2v_en= Word2vec(os.path.join(PATH_TO_VECTORS, 'wiki.en.vec'), nmax=50000)"
      ],
      "execution_count": 11,
      "outputs": [
        {
          "output_type": "stream",
          "text": [
            "Loaded 50000 pretrained word vectors\n",
            "Loaded 50000 pretrained word vectors\n"
          ],
          "name": "stdout"
        }
      ]
    },
    {
      "cell_type": "markdown",
      "metadata": {
        "id": "CTC_QOYPfwf0",
        "colab_type": "text"
      },
      "source": [
        "## 2 - Get words that appear in both vocabs (= identical character strings)\n",
        "\n",
        "Use it to create the matrix X and Y (of aligned embeddings for these words)"
      ]
    },
    {
      "cell_type": "code",
      "metadata": {
        "id": "z2j5AyjW_wao",
        "colab_type": "code",
        "colab": {}
      },
      "source": [
        "common_words = [w for w in w2v_en.word2vec.keys() if w in w2v_fr.word2vec.keys()]\n",
        "X=np.vstack([w2v_fr.word2vec[w] for w in common_words]).T\n",
        "Y=np.vstack([w2v_en.word2vec[w] for w in common_words]).T"
      ],
      "execution_count": 0,
      "outputs": []
    },
    {
      "cell_type": "markdown",
      "metadata": {
        "id": "GrrfaH6af4Cd",
        "colab_type": "text"
      },
      "source": [
        "## 3 - Solve the Procrustes using the scipy package and: scipy.linalg.svd() and get the optimal W\n",
        "Now W*French_vector is in the same space as English_vector\n"
      ]
    },
    {
      "cell_type": "code",
      "metadata": {
        "id": "YMZuLEmG_war",
        "colab_type": "code",
        "colab": {}
      },
      "source": [
        "U,_,Vh=scipy.linalg.svd(Y.dot(X.T))\n",
        "W = U.dot(Vh)"
      ],
      "execution_count": 0,
      "outputs": []
    },
    {
      "cell_type": "markdown",
      "metadata": {
        "id": "YDQbIkZEgDkb",
        "colab_type": "text"
      },
      "source": [
        "## 4 - After alignment with W, give examples of English nearest neighbors of some French words (and vice versa)\n"
      ]
    },
    {
      "cell_type": "code",
      "metadata": {
        "id": "PgPdBVNc_wau",
        "colab_type": "code",
        "outputId": "5cdb0574-194a-437d-f389-f145af0d9f0e",
        "colab": {
          "base_uri": "https://localhost:8080/",
          "height": 425
        }
      },
      "source": [
        "\n",
        "def projector(word,W_fr_to_en,w2v_origin_language,language_to_project=\"en\"):\n",
        "  ### Function proyecting a word living in a language space to another one. (Translation)\n",
        "  ## Input:\n",
        "  ## word: word to proyect \n",
        "  ## W_fr_to_en: proyection matrix.\n",
        "  ## w2v_origin_language: embeddings of the language in which the word is written.\n",
        "  ## language_to_project: language space in which the word will be translated\n",
        "  \n",
        "    if language_to_project==\"english\":\n",
        "        fr_embedding=w2v_origin_language.word2vec[word]\n",
        "        new_embedding=W.dot(fr_embedding)\n",
        "    if language_to_project==\"french\":\n",
        "        en_embedding=w2v_origin_language.word2vec[word]\n",
        "        new_embedding=W.T.dot(en_embedding)\n",
        "    return(new_embedding)\n",
        "        \n",
        "def nearest_neighbors(K,word,W_fr_to_en,w2v_origin_language,w2v_objective_language,language_to_project=\"english\",method=\"euclidian\"):\n",
        "    vocabulary=np.array([w for w in w2v_objective_language.word2vec.keys()])\n",
        "    embedding=projector(word,W_fr_to_en,w2v_origin_language,language_to_project)\n",
        "    if method==\"euclidian\":\n",
        "        dist=np.array([np.linalg.norm(embedding-x) for x in w2v_objective_language.word2vec.values()])\n",
        "        k_index=np.argsort(dist)[:K]\n",
        "        k_nearest=vocabulary[k_index]\n",
        "    if method==\"cosine\":\n",
        "        score=np.array([embedding.dot(x)/(np.linalg.norm(embedding)*np.linalg.norm(x)) for x in w2v_objective_language.word2vec.values()])\n",
        "        k_index=np.argsort(-score)[:K]\n",
        "        k_nearest=vocabulary[k_index]\n",
        "    print(str(K)+\"-nearest neighbors of \"+word+\" using the \"+method+\" method in the \"+language_to_project+\" space\")\n",
        "    print(k_nearest)\n",
        "    \n",
        "##### Traduction of \"chat\" in English \n",
        "nearest_neighbors(5,\"chat\",W,w2v_fr,w2v_en,language_to_project=\"english\",method=\"euclidian\")\n",
        "nearest_neighbors(5,\"chat\",W,w2v_fr,w2v_en,language_to_project=\"english\",method=\"cosine\")  \n",
        "\n",
        "##### Traduction of \"chien\" in English \n",
        "nearest_neighbors(5,\"chien\",W,w2v_fr,w2v_en,language_to_project=\"english\",method=\"euclidian\")\n",
        "nearest_neighbors(5,\"chien\",W,w2v_fr,w2v_en,language_to_project=\"english\",method=\"cosine\")  \n",
        "\n",
        "##### Traduction of \"vache\" in English \n",
        "nearest_neighbors(5,\"vache\",W,w2v_fr,w2v_en,language_to_project=\"english\",method=\"euclidian\")\n",
        "nearest_neighbors(5,\"vache\",W,w2v_fr,w2v_en,language_to_project=\"english\",method=\"cosine\") \n",
        "\n",
        "##### Traduction of \"man\" in French\n",
        "nearest_neighbors(5,\"man\",W,w2v_en,w2v_fr,language_to_project=\"french\",method=\"euclidian\")\n",
        "nearest_neighbors(5,\"man\",W,w2v_en,w2v_fr,language_to_project=\"french\",method=\"cosine\")\n",
        "\n",
        "##### Traduction of \"woman\" in French\n",
        "nearest_neighbors(5,\"woman\",W,w2v_en,w2v_fr,language_to_project=\"french\",method=\"euclidian\")\n",
        "nearest_neighbors(5,\"woman\",W,w2v_en,w2v_fr,language_to_project=\"french\",method=\"cosine\")\n",
        "\n",
        "##### Traduction of \"king\" in French\n",
        "nearest_neighbors(5,\"king\",W,w2v_en,w2v_fr,language_to_project=\"french\",method=\"euclidian\")\n",
        "nearest_neighbors(5,\"king\",W,w2v_en,w2v_fr,language_to_project=\"french\",method=\"cosine\")"
      ],
      "execution_count": 0,
      "outputs": [
        {
          "output_type": "stream",
          "text": [
            "5-nearest neighbors of chat using the euclidian method in the english space\n",
            "['cat' 'rabbit' 'dog' 'kittens' 'kitten']\n",
            "5-nearest neighbors of chat using the cosine method in the english space\n",
            "['cat' 'rabbit' 'hamster' 'feline' 'poodle']\n",
            "5-nearest neighbors of chien using the euclidian method in the english space\n",
            "['dog' 'dogs' 'poodle' 'rabbit' 'puppy']\n",
            "5-nearest neighbors of chien using the cosine method in the english space\n",
            "['dog' 'poodle' 'terrier' 'dogs' 'spaniel']\n",
            "5-nearest neighbors of vache using the euclidian method in the english space\n",
            "['cow' 'cows' 'goat' 'chickens' 'milk']\n",
            "5-nearest neighbors of vache using the cosine method in the english space\n",
            "['cow' 'cows' 'bovine' 'goat' 'milk']\n",
            "5-nearest neighbors of man using the euclidian method in the french space\n",
            "['man' ',' '»' 'ainsi' 'et']\n",
            "5-nearest neighbors of man using the cosine method in the french space\n",
            "['man' 'woman' 'men' 'boy' 'stranger']\n",
            "5-nearest neighbors of woman using the euclidian method in the french space\n",
            "['femme' 'woman' 'fillette' 'servante' 'jeune']\n",
            "5-nearest neighbors of woman using the cosine method in the french space\n",
            "['woman' 'femme' 'girl' 'servante' 'mistress']\n",
            "5-nearest neighbors of king using the euclidian method in the french space\n",
            "['roi' 'king' ',' 'reine' 'rois']\n",
            "5-nearest neighbors of king using the cosine method in the french space\n",
            "['roi' 'king' 'rois' 'reine' 'trône']\n"
          ],
          "name": "stdout"
        }
      ]
    },
    {
      "cell_type": "markdown",
      "metadata": {
        "id": "8sC9lv81_way",
        "colab_type": "text"
      },
      "source": [
        "If you want to dive deeper on this subject: https://github.com/facebookresearch/MUSE"
      ]
    },
    {
      "cell_type": "markdown",
      "metadata": {
        "id": "qoIs9Fdr_waz",
        "colab_type": "text"
      },
      "source": [
        "# 3) Sentence classification with BoV and scikit-learn"
      ]
    },
    {
      "cell_type": "markdown",
      "metadata": {
        "id": "Mrniz5oGlxM_",
        "colab_type": "text"
      },
      "source": [
        "## 1 - Load train/dev/test of Stanford Sentiment TreeBank (SST)\n",
        "     (https://nlp.stanford.edu/~socherr/EMNLP2013_RNTN.pdf)"
      ]
    },
    {
      "cell_type": "code",
      "metadata": {
        "id": "u7rw4XbF_wa0",
        "colab_type": "code",
        "colab": {}
      },
      "source": [
        "train_file=os.path.join(PATH_TO_SENTENCES, 'SST/stsa.fine.train')\n",
        "train_file=io.open(train_file, encoding='utf-8')\n",
        "lines=[line.split(' ', 1) for line in train_file]\n",
        "Y_train=[line[0] for line in lines]\n",
        "X_train=[line[1] for line in lines]\n",
        "\n",
        "dev_file=os.path.join(PATH_TO_SENTENCES, 'SST/stsa.fine.dev')\n",
        "dev_file=io.open(dev_file, encoding='utf-8')\n",
        "lines=[line.split(' ', 1) for line in dev_file]\n",
        "Y_dev=[line[0] for line in lines]\n",
        "X_dev=[line[1] for line in lines]\n",
        "\n",
        "test_file=os.path.join(PATH_TO_SENTENCES, 'SST/stsa.fine.test.X')\n",
        "test_file=io.open(test_file, encoding='utf-8')\n",
        "X_test=[line for line in test_file]"
      ],
      "execution_count": 0,
      "outputs": []
    },
    {
      "cell_type": "markdown",
      "metadata": {
        "id": "onrv6A09mALe",
        "colab_type": "text"
      },
      "source": [
        "## 2 - Encode sentences with the BoV model above"
      ]
    },
    {
      "cell_type": "code",
      "metadata": {
        "id": "F-WjAJ2T_wa4",
        "colab_type": "code",
        "outputId": "994a65d6-9676-4107-9ec5-afff474ff1ba",
        "colab": {
          "base_uri": "https://localhost:8080/",
          "height": 34
        }
      },
      "source": [
        "\n",
        "##### Packages for preprocessing\n",
        "import re\n",
        "import string\n",
        "punct = string.punctuation.replace('-', '').replace(\"'\",'')\n",
        "\n",
        "##### Encoding\n",
        "w2v = Word2vec_faster(os.path.join(PATH_TO_VECTORS, 'crawl-300d-200k.vec'), nmax=25000)\n",
        "s2v = BoV(w2v)\n",
        "idf_train = {} if False else s2v.build_idf(X_train)\n",
        "idf_dev = {} if False else s2v.build_idf(X_dev)\n",
        "idf_test = {} if False else s2v.build_idf(X_test)\n",
        "embeddings_train=s2v.encode(X_train,idf_train)\n",
        "embeddings_dev=s2v.encode(X_dev,idf_dev)\n",
        "embeddings_test=s2v.encode(X_test,idf_test)"
      ],
      "execution_count": 13,
      "outputs": [
        {
          "output_type": "stream",
          "text": [
            "Loaded 19765 pretrained word vectors\n"
          ],
          "name": "stdout"
        }
      ]
    },
    {
      "cell_type": "markdown",
      "metadata": {
        "id": "jTY6zVhlmQnI",
        "colab_type": "text"
      },
      "source": [
        "## 3 - Learn Logistic Regression on top of sentence embeddings using scikit-learn (consider tuning the L2 regularization on the dev set)"
      ]
    },
    {
      "cell_type": "code",
      "metadata": {
        "id": "9n5NkNCd_wa6",
        "colab_type": "code",
        "outputId": "0492520f-f0b4-4c94-f4bd-117aa775b691",
        "colab": {
          "base_uri": "https://localhost:8080/",
          "height": 51
        }
      },
      "source": [
        "\n",
        "from sklearn.linear_model import LogisticRegression \n",
        "from sklearn.metrics import accuracy_score\n",
        "\n",
        "#### Eliminate sentences that were not embedded\n",
        "index_to_keep_train=[x[0] for x in embeddings_train]\n",
        "index_to_keep_train=np.where(np.isfinite(index_to_keep_train)==True)[0].tolist()\n",
        "embeddings_to_keep_train=np.vstack([embeddings_train[x] for x in index_to_keep_train])\n",
        "Y_to_keep_train=np.hstack([Y_train[x] for x in index_to_keep_train])\n",
        "\n",
        "index_to_keep_dev=[x[0] for x in embeddings_dev]\n",
        "index_to_keep_dev=np.where(np.isfinite(index_to_keep_dev)==True)[0].tolist()\n",
        "embeddings_to_keep_dev=np.vstack([embeddings_dev[x] for x in index_to_keep_dev])\n",
        "Y_to_keep_dev=np.hstack([Y_dev[x] for x in index_to_keep_dev])\n",
        "\n",
        "results_LogisticRegression=LogisticRegression(random_state=0, solver='newton-cg', multi_class='multinomial',C=0.5)\n",
        "results_LogisticRegression.fit(embeddings_to_keep_train,Y_to_keep_train)\n",
        "\n",
        "print('Accuracy in train set', results_LogisticRegression.score(embeddings_to_keep_train,Y_to_keep_train))\n",
        "print('Accuracy in dev set', results_LogisticRegression.score(embeddings_to_keep_dev,Y_to_keep_dev))"
      ],
      "execution_count": 14,
      "outputs": [
        {
          "output_type": "stream",
          "text": [
            "Accuracy in train set 0.46796526636939684\n",
            "Accuracy in dev set 0.410535876475931\n"
          ],
          "name": "stdout"
        }
      ]
    },
    {
      "cell_type": "markdown",
      "metadata": {
        "id": "4ALoO1HAml6O",
        "colab_type": "text"
      },
      "source": [
        "## 4 - Produce 2210 predictions for the test set (in the same order). One line = one prediction (=0,1,2,3,4)."
      ]
    },
    {
      "cell_type": "code",
      "metadata": {
        "id": "MbaG6Mfn_wa9",
        "colab_type": "code",
        "colab": {}
      },
      "source": [
        "\n",
        "index_to_keep_test=[x[0] for x in embeddings_test]\n",
        "index_to_keep_test=np.where(np.isfinite(index_to_keep_test)==True)[0].tolist()\n",
        "embeddings_to_keep_test=np.vstack([embeddings_test[x] for x in index_to_keep_test])\n",
        "\n",
        "predictions=np.repeat(2,len(embeddings_test))\n",
        "predictions[index_to_keep_test]=results_LogisticRegression.predict(embeddings_to_keep_test)\n",
        "\n",
        "path_output=os.path.join(PATH_TO_SENTENCES,'logreg_bov_y_test_sst.txt')\n",
        "lines = '\\n'.join([str(p) for p in predictions])\n",
        "with open(path_output,'w') as f:\n",
        "    f.writelines(lines)"
      ],
      "execution_count": 0,
      "outputs": []
    },
    {
      "cell_type": "code",
      "metadata": {
        "id": "iY73oOIL_wa_",
        "colab_type": "code",
        "outputId": "e30b41ac-dd7d-45f2-aa18-603e6b8aedc1",
        "colab": {
          "base_uri": "https://localhost:8080/",
          "height": 51
        }
      },
      "source": [
        "# BONUS!\n",
        "# 5 - Try to improve performance with another classifier\n",
        "#     Attach the output file \"XXX_bov_y_test_sst.txt\" to your deliverable (where XXX = the name of the classifier)\n",
        "\n",
        "\n",
        "#################### I also tried RandomForest and XGBoost, but they got an accuracy of 0.36421435059 and  0.380563124432 \n",
        "#### in the dev set. For making this notebook more readeble I just kept SVM with the rbf kernel experiments.\n",
        "### Nevertheless the results were not better in the dev set when compared with the logistic regression.\n",
        "\n",
        "#### Eliminate sentences that were not embedded\n",
        "index_to_keep_train=[x[0] for x in embeddings_train]\n",
        "index_to_keep_train=np.where(np.isfinite(index_to_keep_train)==True)[0].tolist()\n",
        "embeddings_to_keep_train=np.vstack([embeddings_train[x] for x in index_to_keep_train])\n",
        "Y_to_keep_train=np.hstack([Y_train[x] for x in index_to_keep_train])\n",
        "\n",
        "index_to_keep_dev=[x[0] for x in embeddings_dev]\n",
        "index_to_keep_dev=np.where(np.isfinite(index_to_keep_dev)==True)[0].tolist()\n",
        "embeddings_to_keep_dev=np.vstack([embeddings_dev[x] for x in index_to_keep_dev])\n",
        "Y_to_keep_dev=np.hstack([Y_dev[x] for x in index_to_keep_dev])\n",
        "\n",
        "#### I use CV to choose the best parameters for the model \n",
        "\n",
        "from sklearn import svm\n",
        "from sklearn.model_selection import GridSearchCV\n",
        "from sklearn.metrics import make_scorer,accuracy_score\n",
        "scoring = {'Accuracy': make_scorer(accuracy_score)}\n",
        "\n",
        "\n",
        "results_SVMrbf=svm.SVC(kernel='rbf',C=1,gamma=0.1)\n",
        "results_SVMrbf.fit(embeddings_to_keep_train,Y_to_keep_train)\n",
        "\n",
        "print('Accuracy in train set', results_SVMrbf.score(embeddings_to_keep_train,Y_to_keep_train))\n",
        "print('Accuracy in dev set', results_SVMrbf.score(embeddings_to_keep_dev,Y_to_keep_dev))\n",
        "\n",
        "##Save results\n",
        "index_to_keep_test=[x[0] for x in embeddings_test]\n",
        "index_to_keep_test=np.where(np.isfinite(index_to_keep_test)==True)[0].tolist()\n",
        "embeddings_to_keep_test=np.vstack([embeddings_test[x] for x in index_to_keep_test])\n",
        "\n",
        "predictions=np.repeat(2,len(embeddings_test))\n",
        "predictions[index_to_keep_test]=results_SVMrbf.predict(embeddings_to_keep_test)\n",
        "\n",
        "path_output=os.path.join(PATH_TO_SENTENCES,'SVMrbf_bov_y_test_sst.txt')\n",
        "lines = '\\n'.join([str(p) for p in predictions])\n",
        "with open(path_output,'w') as f:\n",
        "    f.writelines(lines)\n"
      ],
      "execution_count": 0,
      "outputs": [
        {
          "output_type": "stream",
          "text": [
            "Accuracy in train set 0.46878666979582256\n",
            "Accuracy in dev set 0.3960036330608538\n"
          ],
          "name": "stdout"
        }
      ]
    },
    {
      "cell_type": "markdown",
      "metadata": {
        "id": "iW-V5Hx4_wbB",
        "colab_type": "text"
      },
      "source": [
        "# 4) Sentence classification with LSTMs in Keras"
      ]
    },
    {
      "cell_type": "markdown",
      "metadata": {
        "id": "ZPH8eCaJ_wbC",
        "colab_type": "text"
      },
      "source": [
        "## 4.1 - Preprocessing"
      ]
    },
    {
      "cell_type": "code",
      "metadata": {
        "id": "EAyfRN5m_wbD",
        "colab_type": "code",
        "outputId": "0a212894-a9c7-46a7-a919-5748a7eb6c97",
        "colab": {
          "base_uri": "https://localhost:8080/",
          "height": 34
        }
      },
      "source": [
        "import keras"
      ],
      "execution_count": 15,
      "outputs": [
        {
          "output_type": "stream",
          "text": [
            "Using TensorFlow backend.\n"
          ],
          "name": "stderr"
        }
      ]
    },
    {
      "cell_type": "code",
      "metadata": {
        "id": "gLnJ9xTL_wbF",
        "colab_type": "code",
        "colab": {}
      },
      "source": [
        "# 1 - Load train/dev/test sets of SST\n",
        "train_file=os.path.join(PATH_TO_SENTENCES, 'SST/stsa.fine.train')\n",
        "train_file=io.open(train_file, encoding='utf-8')\n",
        "lines=[line.split(' ', 1) for line in train_file]\n",
        "Y_train=[line[0] for line in lines]\n",
        "X_train=[line[1] for line in lines]\n",
        "\n",
        "dev_file=os.path.join(PATH_TO_SENTENCES, 'SST/stsa.fine.dev')\n",
        "dev_file=io.open(dev_file, encoding='utf-8')\n",
        "lines=[line.split(' ', 1) for line in dev_file]\n",
        "Y_dev=[line[0] for line in lines]\n",
        "X_dev=[line[1] for line in lines]\n",
        "\n",
        "test_file=os.path.join(PATH_TO_SENTENCES, 'SST/stsa.fine.test.X')\n",
        "test_file=io.open(test_file, encoding='utf-8')\n",
        "X_test=[line for line in test_file]"
      ],
      "execution_count": 0,
      "outputs": []
    },
    {
      "cell_type": "code",
      "metadata": {
        "id": "BOCL78Qd_wbI",
        "colab_type": "code",
        "colab": {}
      },
      "source": [
        "# 2 - Transform text to integers using keras.preprocessing.text.one_hot function\n",
        "#     https://keras.io/preprocessing/text/\n",
        "\n",
        "# TYPE CODE HERE\n",
        "from keras.preprocessing.text import text_to_word_sequence,one_hot\n",
        "from keras.utils import to_categorical\n",
        "\n",
        "clean_sentences=[text_to_word_sequence(sent) for sent in (X_train+X_test+X_dev)]\n",
        "vocabulary=set(np.hstack(clean_sentences))\n",
        "vocab_size = len(vocabulary)\n",
        "\n",
        "Y_train_ones=to_categorical(Y_train)\n",
        "Y_dev_ones=to_categorical(Y_dev)\n",
        "\n",
        "X_train_one_hot=[one_hot(sent,vocab_size) for sent in X_train]\n",
        "X_test_one_hot=[one_hot(sent,vocab_size) for sent in X_test]\n",
        "X_dev_one_hot=[one_hot(sent,vocab_size) for sent in X_dev]"
      ],
      "execution_count": 0,
      "outputs": []
    },
    {
      "cell_type": "markdown",
      "metadata": {
        "id": "PhOYGrn3_wbN",
        "colab_type": "text"
      },
      "source": [
        "**Padding input data**\n",
        "\n",
        "Models in Keras (and elsewhere) take batches of sentences of the same length as input. It is because Deep Learning framework have been designed to handle well Tensors, which are particularly suited for fast computation on the GPU.\n",
        "\n",
        "Since sentences have different sizes, we \"pad\" them. That is, we add dummy \"padding\" tokens so that they all have the same length.\n",
        "\n",
        "The input to a Keras model thus has this size : (batchsize, maxseqlen) where maxseqlen is the maximum length of a sentence in the batch."
      ]
    },
    {
      "cell_type": "code",
      "metadata": {
        "id": "-9XvBOrA_wbP",
        "colab_type": "code",
        "colab": {}
      },
      "source": [
        "# 3 - Pad your sequences using keras.preprocessing.sequence.pad_sequences\n",
        "#     https://keras.io/preprocessing/sequence/\n",
        "\n",
        "from keras.preprocessing.sequence import pad_sequences\n",
        "\n",
        "X_train_DL = pad_sequences(X_train_one_hot, maxlen=40)\n",
        "X_dev_DL = pad_sequences(X_dev_one_hot, maxlen=40)\n",
        "X_test_DL= pad_sequences(X_test_one_hot,maxlen=40)"
      ],
      "execution_count": 0,
      "outputs": []
    },
    {
      "cell_type": "markdown",
      "metadata": {
        "id": "G5EbnY1U_wbS",
        "colab_type": "text"
      },
      "source": [
        "## 4.2 - Design and train your model"
      ]
    },
    {
      "cell_type": "code",
      "metadata": {
        "id": "JaQL4dtR_wbT",
        "colab_type": "code",
        "colab": {}
      },
      "source": [
        "# 4 - Design your encoder + classifier using keras.layers\n",
        "#     In Keras, Torch and other deep learning framework, we create a \"container\" which is the Sequential() module.\n",
        "#     Then we add components to this contained : the lookuptable, the LSTM, the classifier etc.\n",
        "#     All of these components are contained in the Sequential() and are trained together.\n",
        "\n",
        "\n",
        "# ADAPT CODE BELOW\n",
        "\n",
        "\n",
        "from keras.models import Sequential\n",
        "from keras.layers import Embedding, LSTM, Dense, Activation, Dropout,Bidirectional\n",
        "\n",
        "embed_dim  = 50 # word embedding dimension\n",
        "nhid       = 15 # number of hidden units in the LSTM\n",
        "vocab_size = len(vocabulary) # size of the vocabulary\n",
        "n_classes  = 5\n",
        "\n",
        "model = Sequential()\n",
        "model.add(Embedding(vocab_size, embed_dim))\n",
        "model.add(Dropout(0.3))\n",
        "model.add(LSTM(nhid, dropout_W=0.3, dropout_U=0.3))\n",
        "model.add(Dense(n_classes, activation='sigmoid'))"
      ],
      "execution_count": 0,
      "outputs": []
    },
    {
      "cell_type": "code",
      "metadata": {
        "id": "elp-EYln_wbV",
        "colab_type": "code",
        "outputId": "9418af2b-433c-4964-f36b-757e1922b818",
        "colab": {
          "base_uri": "https://localhost:8080/",
          "height": 306
        }
      },
      "source": [
        "# 5 - Define your loss/optimizer/metrics\n",
        "\n",
        "# MODIFY CODE BELOW\n",
        "\n",
        "loss_classif     =  'categorical_crossentropy' # find the right loss for multi-class classification\n",
        "optimizer        =  'Adam' # find the right optimizer\n",
        "metrics_classif  =  ['accuracy']\n",
        "\n",
        "# Observe how easy (but blackboxed) this is in Keras\n",
        "model.compile(loss=loss_classif,\n",
        "              optimizer=optimizer,\n",
        "              metrics=metrics_classif)\n",
        "print(model.summary())"
      ],
      "execution_count": 34,
      "outputs": [
        {
          "output_type": "stream",
          "text": [
            "Model: \"sequential_5\"\n",
            "_________________________________________________________________\n",
            "Layer (type)                 Output Shape              Param #   \n",
            "=================================================================\n",
            "embedding_5 (Embedding)      (None, None, 50)          891950    \n",
            "_________________________________________________________________\n",
            "dropout_6 (Dropout)          (None, None, 50)          0         \n",
            "_________________________________________________________________\n",
            "lstm_5 (LSTM)                (None, 15)                3960      \n",
            "_________________________________________________________________\n",
            "dense_5 (Dense)              (None, 5)                 80        \n",
            "=================================================================\n",
            "Total params: 895,990\n",
            "Trainable params: 895,990\n",
            "Non-trainable params: 0\n",
            "_________________________________________________________________\n",
            "None\n"
          ],
          "name": "stdout"
        }
      ]
    },
    {
      "cell_type": "code",
      "metadata": {
        "id": "0jWMZw4-_wbY",
        "colab_type": "code",
        "outputId": "98eccb9e-7b43-4bb1-dd09-79b9da7a08ff",
        "colab": {
          "base_uri": "https://localhost:8080/",
          "height": 224
        }
      },
      "source": [
        "# 6 - Train your model and find the best hyperparameters for your dev set\n",
        "#     you will be evaluated on the quality of your predictions on the test set\n",
        "\n",
        "bs = 32\n",
        "n_epochs = 5\n",
        "\n",
        "history = model.fit(X_train_DL, Y_train_ones, batch_size=bs, epochs=n_epochs, validation_data=(X_dev_DL, Y_dev_ones))\n"
      ],
      "execution_count": 35,
      "outputs": [
        {
          "output_type": "stream",
          "text": [
            "Train on 8544 samples, validate on 1101 samples\n",
            "Epoch 1/5\n",
            "8544/8544 [==============================] - 18s 2ms/step - loss: 1.5759 - acc: 0.2658 - val_loss: 1.5643 - val_acc: 0.2707\n",
            "Epoch 2/5\n",
            "8544/8544 [==============================] - 15s 2ms/step - loss: 1.5179 - acc: 0.3264 - val_loss: 1.5198 - val_acc: 0.3388\n",
            "Epoch 3/5\n",
            "8544/8544 [==============================] - 15s 2ms/step - loss: 1.3695 - acc: 0.4079 - val_loss: 1.4786 - val_acc: 0.3724\n",
            "Epoch 4/5\n",
            "8544/8544 [==============================] - 15s 2ms/step - loss: 1.1923 - acc: 0.4858 - val_loss: 1.5051 - val_acc: 0.3760\n",
            "Epoch 5/5\n",
            "8544/8544 [==============================] - 15s 2ms/step - loss: 1.0552 - acc: 0.5588 - val_loss: 1.5978 - val_acc: 0.3806\n"
          ],
          "name": "stdout"
        }
      ]
    },
    {
      "cell_type": "code",
      "metadata": {
        "id": "DXYGD9dM_wbg",
        "colab_type": "code",
        "outputId": "fd551f13-aaab-495c-fd5a-c73a4d2cdf10",
        "colab": {
          "base_uri": "https://localhost:8080/",
          "height": 607
        }
      },
      "source": [
        "# 7 - Generate your predictions on the test set using model.predict(x_test)\n",
        "#     https://keras.io/models/model/\n",
        "#     Log your predictions in a file (one line = one integer: 0,1,2,3,4)\n",
        "#     Attach the output file \"logreg_lstm_y_test_sst.txt\" to your deliverable.\n",
        "import matplotlib.pyplot as plt\n",
        "%matplotlib inline\n",
        "\n",
        "f = plt.figure()\n",
        "plt.plot(history.history['acc'])\n",
        "plt.plot(history.history['val_acc'])\n",
        "plt.title('model accuracy')\n",
        "plt.ylabel('accuracy')\n",
        "plt.xlabel('epoch')\n",
        "plt.legend(['train', 'dev'], loc='upper left')\n",
        "\n",
        "plt.show()\n",
        "f.savefig(\"Accuracy.pdf\", bbox_inches='tight')\n",
        "\n",
        "\n",
        "# Graphs performance algorithm\n",
        "f = plt.figure()\n",
        "plt.plot(history.history['loss'])\n",
        "plt.plot(history.history['val_loss'])\n",
        "plt.title('model loss')\n",
        "plt.ylabel('loss')\n",
        "plt.xlabel('epoch')\n",
        "plt.legend(['train', 'dev'], loc='upper left')\n",
        "plt.show()\n",
        "f.savefig(\"Loss.pdf\", bbox_inches='tight')\n",
        "\n",
        "\n",
        "prediction_dev = model.predict(X_dev_DL)\n",
        "prediction_dev=[str(np.argmax(x)) for x in prediction_dev]\n",
        "prediction_train = model.predict(X_train_DL)\n",
        "prediction_train=[str(np.argmax(x)) for x in prediction_train]\n",
        "prediction_test = model.predict(X_test_DL)\n",
        "prediction_test=[str(np.argmax(x)) for x in prediction_test]\n",
        "\n",
        "print ('Accuracy in train set= ' + str(accuracy_score(Y_train,prediction_train)))\n",
        "print ('Accuracy in dev set= '+ str(accuracy_score(Y_dev,prediction_dev)))\n",
        "\n",
        "\n",
        "predictions=model.predict(X_test_DL)\n",
        "predictions=[np.argmax(x) for x in predictions]\n",
        "path_output=os.path.join(PATH_TO_SENTENCES,'logreg_lstm_y_test sst.txt')\n",
        "lines = '\\n'.join([str(p) for p in predictions])\n",
        "with open(path_output,'w') as f:\n",
        "    f.writelines(lines)\n"
      ],
      "execution_count": 36,
      "outputs": [
        {
          "output_type": "display_data",
          "data": {
            "image/png": "[encoded data removed]",
            "text/plain": [
              "<Figure size 432x288 with 1 Axes>"
            ]
          },
          "metadata": {
            "tags": []
          }
        },
        {
          "output_type": "display_data",
          "data": {
            "image/png": "[encoded data removed]",
            "text/plain": [
              "<Figure size 432x288 with 1 Axes>"
            ]
          },
          "metadata": {
            "tags": []
          }
        },
        {
          "output_type": "stream",
          "text": [
            "Accuracy in train set= 0.6549625468164794\n",
            "Accuracy in dev set= 0.38056312443233425\n"
          ],
          "name": "stdout"
        }
      ]
    },
    {
      "cell_type": "markdown",
      "metadata": {
        "id": "nsTcZiiS_wbm",
        "colab_type": "text"
      },
      "source": [
        "## 4.3 -- innovate !"
      ]
    },
    {
      "cell_type": "code",
      "metadata": {
        "id": "QVIJw95s_wbo",
        "colab_type": "code",
        "outputId": "a57037fc-f039-47db-9022-f05e2673b064",
        "colab": {
          "base_uri": "https://localhost:8080/",
          "height": 1000
        }
      },
      "source": [
        "# 8 - Open question: find a model that is better on your dev set\n",
        "#     (e.g: use a 1D ConvNet, use a better classifier, pretrain your lookup tables ..)\n",
        "#     you will get point if the results on the test set are better: be careful of not overfitting your dev set too much..\n",
        "#     Attach the output file \"XXX_XXX_y_test_sst.txt\" to your deliverable.\n",
        "\n",
        "# TYPE CODE HERE\n",
        "\n",
        "from keras.callbacks import ModelCheckpoint\n",
        "from keras.preprocessing.text import Tokenizer\n",
        "from keras.preprocessing.sequence import pad_sequences\n",
        "from keras.layers import Embedding, LSTM, Dense, Activation,Bidirectional,Flatten\n",
        "from keras.utils import to_categorical\n",
        "from keras.models import Sequential\n",
        "from sklearn.metrics import accuracy_score\n",
        "\n",
        "###### Uploading data\n",
        "## Upload Word_Embeddings\n",
        "w2v = Word2vec_faster(os.path.join(PATH_TO_VECTORS, 'crawl-300d-200k.vec'), nmax=25000) ## put attention to use the right class\n",
        "\n",
        "\n",
        "## Uplad Dataset\n",
        "train_file=os.path.join(PATH_TO_SENTENCES, 'SST/stsa.fine.train')\n",
        "train_file=io.open(train_file, encoding='utf-8')\n",
        "lines=[line.split(' ', 1) for line in train_file]\n",
        "Y_train=[line[0] for line in lines]\n",
        "X_train=[line[1] for line in lines]\n",
        "\n",
        "dev_file=os.path.join(PATH_TO_SENTENCES, 'SST/stsa.fine.dev')\n",
        "dev_file=io.open(dev_file, encoding='utf-8')\n",
        "lines=[line.split(' ', 1) for line in dev_file]\n",
        "Y_dev=[line[0] for line in lines]\n",
        "X_dev=[line[1] for line in lines]\n",
        "\n",
        "test_file=os.path.join(PATH_TO_SENTENCES, 'SST/stsa.fine.test.X')\n",
        "test_file=io.open(test_file, encoding='utf-8')\n",
        "X_test=[line for line in test_file]\n",
        "\n",
        "\n",
        "##### Preprocessing\n",
        "\n",
        "### Tokenizer\n",
        "tokenizer = Tokenizer()\n",
        "tokenizer.fit_on_texts(X_train)\n",
        "word_index = tokenizer.word_index\n",
        "index_to_word = dict((v,k) for k,v in word_index.items())\n",
        "vocab_size=len(word_index)+1\n",
        "\n",
        "### One hot encoding\n",
        "\n",
        "sequences_train = tokenizer.texts_to_sequences(X_train)\n",
        "sequences_dev = tokenizer.texts_to_sequences(X_dev)\n",
        "sequences_test= tokenizer.texts_to_sequences(X_test)\n",
        "\n",
        "X_dev_DL_2 = pad_sequences(sequences_dev, maxlen=40)\n",
        "X_train_DL_2= pad_sequences(sequences_train, maxlen=40)\n",
        "X_test_DL_2= pad_sequences(sequences_test, maxlen=40)\n",
        "\n",
        "Y_train_ones=to_categorical(Y_train)\n",
        "Y_dev_ones=to_categorical(Y_dev)\n",
        "\n",
        "### Create matrix with pretrained embeddings\n",
        "embedding_matrix = np.zeros((vocab_size,300))\n",
        "for word, i in word_index.items():\n",
        "    embedding_vector = w2v.word2vec.get(word)\n",
        "    if embedding_vector is not None:\n",
        "        embedding_matrix[i] = embedding_vector\n",
        "\n",
        "#### Model definition\n",
        "embed_dim  = 300 # word embedding dimension\n",
        "nhid       = 50 # number of hidden units in the LSTM\n",
        "vocab_size = len(word_index)+1 # size of the vocabulary\n",
        "n_classes  = 5\n",
        "n_reduction=150\n",
        "\n",
        "model_2 = Sequential()\n",
        "model_2.add(Embedding(vocab_size,embed_dim,weights=[embedding_matrix],\n",
        "                            input_length=40,trainable=False))\n",
        "model_2.add(Dropout(0.3))\n",
        "model_2.add(Dense(n_reduction,activation=\"relu\"))\n",
        "model_2.add(Bidirectional(LSTM(nhid, dropout_W=0.3, dropout_U=0.3)))\n",
        "model_2.add(Dense(n_classes, activation='sigmoid'))\n",
        "\n",
        "\n",
        "### Model fitting\n",
        "\n",
        "loss_classif     =  'categorical_crossentropy' \n",
        "optimizer        =  'Adam' \n",
        "metrics_classif  =  ['accuracy']\n",
        "\n",
        "model_2.compile(loss=loss_classif,\n",
        "              optimizer=optimizer,\n",
        "              metrics=metrics_classif)\n",
        "\n",
        "from keras.callbacks import ModelCheckpoint\n",
        "checkpoint = ModelCheckpoint('LSTM_2.hdf5', monitor=\"val_acc\",save_best_only=True, save_weights_only=False)\n",
        "bs = 64\n",
        "n_epochs = 10\n",
        "\n",
        "history_2 = model_2.fit(X_train_DL_2, Y_train_ones, batch_size=bs, epochs=n_epochs, validation_data=(X_dev_DL_2, Y_dev_ones),callbacks = [checkpoint])\n",
        "\n",
        "###### Model evaluation\n",
        "\n",
        "\n",
        "import matplotlib.pyplot as plt\n",
        "%matplotlib inline\n",
        "\n",
        "prediction_dev = model_2.predict(X_dev_DL_2)\n",
        "prediction_dev=[str(np.argmax(x)) for x in prediction_dev]\n",
        "prediction_train = model_2.predict(X_train_DL_2)\n",
        "prediction_train=[str(np.argmax(x)) for x in prediction_train]\n",
        "prediction_test = model_2.predict(X_test_DL_2)\n",
        "prediction_test=[str(np.argmax(x)) for x in prediction_test]\n",
        "\n",
        "print ('Accuracy in train set= ' + str(accuracy_score(Y_train,prediction_train)))\n",
        "print ('Accuracy in dev set= '+ str(accuracy_score(Y_dev,prediction_dev)))\n",
        "\n",
        "# Graphs\n",
        "f = plt.figure()\n",
        "plt.plot(history_2.history['acc'])\n",
        "plt.plot(history_2.history['val_acc'])\n",
        "plt.title('model accuracy')\n",
        "plt.ylabel('accuracy')\n",
        "plt.xlabel('epoch')\n",
        "plt.legend(['train', 'dev'], loc='upper left')\n",
        "\n",
        "plt.show()\n",
        "f.savefig(\"Accuracy_2.pdf\", bbox_inches='tight')\n",
        "\n",
        "f = plt.figure()\n",
        "plt.plot(history_2.history['loss'])\n",
        "plt.plot(history_2.history['val_loss'])\n",
        "plt.title('model loss')\n",
        "plt.ylabel('loss')\n",
        "plt.xlabel('epoch')\n",
        "plt.legend(['train', 'dev'], loc='upper left')\n",
        "plt.show()\n",
        "f.savefig(\"Loss_2.pdf\", bbox_inches='tight')\n",
        "\n",
        "# File\n",
        "\n",
        "path_output=os.path.join(PATH_TO_SENTENCES,\"LSTM_PRETRAINEMBEDDING_y_test_sst.txt\")\n",
        "lines = '\\n'.join([str(p) for p in prediction_test])\n",
        "with open(path_output,'w') as f:\n",
        "    f.writelines(lines)             \n",
        "      "
      ],
      "execution_count": 38,
      "outputs": [
        {
          "output_type": "stream",
          "text": [
            "Loaded 19765 pretrained word vectors\n",
            "Train on 8544 samples, validate on 1101 samples\n",
            "Epoch 1/10\n",
            "8544/8544 [==============================] - 19s 2ms/step - loss: 1.5336 - acc: 0.3104 - val_loss: 1.4209 - val_acc: 0.3706\n",
            "Epoch 2/10\n",
            "8544/8544 [==============================] - 15s 2ms/step - loss: 1.4079 - acc: 0.3727 - val_loss: 1.3630 - val_acc: 0.3706\n",
            "Epoch 3/10\n",
            "8544/8544 [==============================] - 15s 2ms/step - loss: 1.3635 - acc: 0.3830 - val_loss: 1.3318 - val_acc: 0.3751\n",
            "Epoch 4/10\n",
            "8544/8544 [==============================] - 14s 2ms/step - loss: 1.3377 - acc: 0.3998 - val_loss: 1.3347 - val_acc: 0.3760\n",
            "Epoch 5/10\n",
            "8544/8544 [==============================] - 14s 2ms/step - loss: 1.3122 - acc: 0.4094 - val_loss: 1.2963 - val_acc: 0.4242\n",
            "Epoch 6/10\n",
            "8544/8544 [==============================] - 14s 2ms/step - loss: 1.2940 - acc: 0.4238 - val_loss: 1.2927 - val_acc: 0.4205\n",
            "Epoch 7/10\n",
            "8544/8544 [==============================] - 14s 2ms/step - loss: 1.2741 - acc: 0.4371 - val_loss: 1.2742 - val_acc: 0.4387\n",
            "Epoch 8/10\n",
            "8544/8544 [==============================] - 15s 2ms/step - loss: 1.2559 - acc: 0.4462 - val_loss: 1.2881 - val_acc: 0.4360\n",
            "Epoch 9/10\n",
            "8544/8544 [==============================] - 14s 2ms/step - loss: 1.2428 - acc: 0.4538 - val_loss: 1.2728 - val_acc: 0.4342\n",
            "Epoch 10/10\n",
            "8544/8544 [==============================] - 14s 2ms/step - loss: 1.2278 - acc: 0.4624 - val_loss: 1.2718 - val_acc: 0.4396\n",
            "Accuracy in train set= 0.5074906367041199\n",
            "Accuracy in dev set= 0.4396003633060854\n"
          ],
          "name": "stdout"
        },
        {
          "output_type": "display_data",
          "data": {
            "image/png": "[encoded data removed]",
            "text/plain": [
              "<Figure size 432x288 with 1 Axes>"
            ]
          },
          "metadata": {
            "tags": []
          }
        },
        {
          "output_type": "display_data",
          "data": {
            "image/png": "[encoded data removed]",
            "text/plain": [
              "<Figure size 432x288 with 1 Axes>"
            ]
          },
          "metadata": {
            "tags": []
          }
        }
      ]
    },
    {
      "cell_type": "markdown",
      "metadata": {
        "id": "tUAkxsNGrpvC",
        "colab_type": "text"
      },
      "source": [
        "I will try to improve the performance of the algorithm by adding a attention mechanism to the network. As this component is not defined in keras by default, I should implement it myself."
      ]
    },
    {
      "cell_type": "code",
      "metadata": {
        "id": "QzmQLHvBenid",
        "colab_type": "code",
        "colab": {}
      },
      "source": [
        "import keras.backend as K\n",
        "from keras.layers import Layer\n",
        "from keras import initializers, regularizers, constraints\n",
        "\n",
        "def dot_product(x, kernel):\n",
        "    \"\"\"\n",
        "    https://github.com/richliao/textClassifier/issues/13#issuecomment-377323318\n",
        "    Wrapper for dot product operation, in order to be compatible with both\n",
        "    Theano and Tensorflow\n",
        "    Args:\n",
        "        x (): input\n",
        "        kernel (): weights\n",
        "    Returns:\n",
        "    \"\"\"\n",
        "    if K.backend() == 'tensorflow':\n",
        "        return K.squeeze(K.dot(x, K.expand_dims(kernel)), axis=-1)\n",
        "    else:\n",
        "        return K.dot(x, kernel)\n",
        "    \n",
        "\n",
        "class AttentionWithContext(Layer):\n",
        "    \"\"\"\n",
        "    initially taken from: https://gist.github.com/cbaziotis/7ef97ccf71cbc14366835198c09809d2\n",
        "    Attention operation, with a context/query vector, for temporal data.\n",
        "    Supports Masking.\n",
        "    Follows the work of Yang et al. [https://www.cs.cmu.edu/~diyiy/docs/naacl16.pdf]\n",
        "    \"Hierarchical Attention Networks for Document Classification\"\n",
        "    by using a context vector to assist the attention\n",
        "    # Input shape\n",
        "        3D tensor with shape: `(samples, steps, features)`.\n",
        "    # Output shape\n",
        "        2D tensor with shape: `(samples, features)`.\n",
        "    \n",
        "    How to use:\n",
        "    Just put it on top of an RNN Layer (GRU/LSTM/SimpleRNN) with return_sequences=True.\n",
        "    The dimensions are inferred based on the output shape of the RNN.\n",
        "    \n",
        "    Note: The layer has been tested with Keras 2.0.6\n",
        "    \n",
        "    Example:\n",
        "        model.add(LSTM(64, return_sequences=True))\n",
        "        model.add(AttentionWithContext())\n",
        "        # next add a Dense layer (for classification/regression) or whatever...\n",
        "    \"\"\"\n",
        "    \n",
        "    def __init__(self, return_coefficients=False,\n",
        "                 W_regularizer=None, u_regularizer=None, b_regularizer=None,\n",
        "                 W_constraint=None, u_constraint=None, b_constraint=None,\n",
        "                 bias=True, **kwargs):\n",
        "        self.supports_masking = True\n",
        "        self.return_coefficients = return_coefficients\n",
        "        self.init = initializers.get('glorot_uniform')\n",
        "        \n",
        "        self.W_regularizer = regularizers.get(W_regularizer)\n",
        "        self.u_regularizer = regularizers.get(u_regularizer)\n",
        "        self.b_regularizer = regularizers.get(b_regularizer)\n",
        "        \n",
        "        self.W_constraint = constraints.get(W_constraint)\n",
        "        self.u_constraint = constraints.get(u_constraint)\n",
        "        self.b_constraint = constraints.get(b_constraint)\n",
        "        \n",
        "        self.bias = bias\n",
        "        super(AttentionWithContext, self).__init__(**kwargs)\n",
        "    \n",
        "    #### Aqui se definen las variables que seran entrenadas en el modelo.\n",
        "    def build(self, input_shape):\n",
        "        assert len(input_shape) == 3\n",
        "        \n",
        "        self.W = self.add_weight((input_shape[-1], input_shape[-1],),\n",
        "                                 initializer=self.init,\n",
        "                                 name='{}_W'.format(self.name),\n",
        "                                 regularizer=self.W_regularizer,\n",
        "                                 constraint=self.W_constraint)\n",
        "        if self.bias:\n",
        "            self.b = self.add_weight((input_shape[-1],),\n",
        "                                     initializer='zero',\n",
        "                                     name='{}_b'.format(self.name),\n",
        "                                     regularizer=self.b_regularizer,\n",
        "                                     constraint=self.b_constraint)\n",
        "        \n",
        "        self.u = self.add_weight((input_shape[-1],),\n",
        "                                 initializer=self.init,\n",
        "                                 name='{}_u'.format(self.name),\n",
        "                                 regularizer=self.u_regularizer,\n",
        "                                 constraint=self.u_constraint)\n",
        "        ### Esta linea siempre se debe poner al final para indicar como se va a construir el modelo\n",
        "        super(AttentionWithContext, self).build(input_shape)\n",
        "    \n",
        "    def compute_mask(self, input, input_mask=None):\n",
        "        # do not pass the mask to the next layers\n",
        "        return None\n",
        "    \n",
        "    ############ Esta es la function donde se hacen todas las operaciones del layer.\n",
        "    \n",
        "    def call(self, x, mask=None):\n",
        "        uit = dot_product(x, self.W)\n",
        "        \n",
        "        if self.bias:\n",
        "            uit += self.b\n",
        "        \n",
        "        uit = K.tanh(uit)\n",
        "        ait = dot_product(uit, self.u)\n",
        "        \n",
        "        a = K.exp(ait)\n",
        "        \n",
        "        # apply mask after the exp. will be re-normalized next\n",
        "        if mask is not None:\n",
        "            # Cast the mask to floatX to avoid float64 upcasting in theano\n",
        "            a *= K.cast(mask, K.floatx())\n",
        "        \n",
        "        # in some cases especially in the early stages of training the sum may be almost zero\n",
        "        # and this results in NaN's. A workaround is to add a very small positive number ε to the sum.\n",
        "        # a /= K.cast(K.sum(a, axis=1, keepdims=True), K.floatx())\n",
        "        a /= K.cast(K.sum(a, axis=1, keepdims=True) + K.epsilon(), K.floatx())\n",
        "        \n",
        "        a = K.expand_dims(a)\n",
        "        weighted_input = x * a\n",
        "        \n",
        "        if self.return_coefficients:\n",
        "            return [K.sum(weighted_input, axis=1), a]\n",
        "        else:\n",
        "            return K.sum(weighted_input, axis=1)\n",
        "    \n",
        "    \n",
        "    \n",
        "    def compute_output_shape(self, input_shape):\n",
        "        if self.return_coefficients:\n",
        "            return [(input_shape[0], input_shape[-1]), (input_shape[0], input_shape[-1], 1)]\n",
        "        else:\n",
        "            return input_shape[0], input_shape[-1]"
      ],
      "execution_count": 0,
      "outputs": []
    },
    {
      "cell_type": "code",
      "metadata": {
        "id": "NaRWG5302LDt",
        "colab_type": "code",
        "outputId": "c4433682-0edf-4185-c0d4-d6f4df1d7ec2",
        "colab": {
          "base_uri": "https://localhost:8080/",
          "height": 1000
        }
      },
      "source": [
        "from keras.callbacks import ModelCheckpoint\n",
        "from keras.preprocessing.text import Tokenizer\n",
        "from keras.preprocessing.sequence import pad_sequences\n",
        "from keras.layers import Embedding, LSTM, Dense, Activation,Bidirectional,Flatten, Dropout\n",
        "from keras.utils import to_categorical\n",
        "from keras.models import Sequential\n",
        "from sklearn.metrics import accuracy_score\n",
        "\n",
        "###### Uploading data\n",
        "## Upload Word_Embeddings\n",
        "w2v = Word2vec_faster(os.path.join(PATH_TO_VECTORS, 'crawl-300d-200k.vec'), nmax=25000) ## put attention to use the right class\n",
        "\n",
        "\n",
        "## Uplad Dataset\n",
        "train_file=os.path.join(PATH_TO_SENTENCES, 'SST/stsa.fine.train')\n",
        "train_file=io.open(train_file, encoding='utf-8')\n",
        "lines=[line.split(' ', 1) for line in train_file]\n",
        "Y_train=[line[0] for line in lines]\n",
        "X_train=[line[1] for line in lines]\n",
        "\n",
        "dev_file=os.path.join(PATH_TO_SENTENCES, 'SST/stsa.fine.dev')\n",
        "dev_file=io.open(dev_file, encoding='utf-8')\n",
        "lines=[line.split(' ', 1) for line in dev_file]\n",
        "Y_dev=[line[0] for line in lines]\n",
        "X_dev=[line[1] for line in lines]\n",
        "\n",
        "test_file=os.path.join(PATH_TO_SENTENCES, 'SST/stsa.fine.test.X')\n",
        "test_file=io.open(test_file, encoding='utf-8')\n",
        "X_test=[line for line in test_file]\n",
        "\n",
        "\n",
        "##### Preprocessing\n",
        "\n",
        "### Tokenizer\n",
        "tokenizer = Tokenizer()\n",
        "tokenizer.fit_on_texts(X_train)\n",
        "word_index = tokenizer.word_index\n",
        "index_to_word = dict((v,k) for k,v in word_index.items())\n",
        "vocab_size=len(word_index)+1\n",
        "\n",
        "### One hot encoding\n",
        "\n",
        "sequences_train = tokenizer.texts_to_sequences(X_train)\n",
        "sequences_dev = tokenizer.texts_to_sequences(X_dev)\n",
        "sequences_test= tokenizer.texts_to_sequences(X_test)\n",
        "\n",
        "X_dev_DL_2 = pad_sequences(sequences_dev, maxlen=40)\n",
        "X_train_DL_2= pad_sequences(sequences_train, maxlen=40)\n",
        "X_test_DL_2= pad_sequences(sequences_test, maxlen=40)\n",
        "\n",
        "Y_train_ones=to_categorical(Y_train)\n",
        "Y_dev_ones=to_categorical(Y_dev)\n",
        "\n",
        "### Create matrix with pretrained embeddings\n",
        "embedding_matrix = np.zeros((vocab_size,300))\n",
        "for word, i in word_index.items():\n",
        "    embedding_vector = w2v.word2vec.get(word)\n",
        "    if embedding_vector is not None:\n",
        "        embedding_matrix[i] = embedding_vector\n",
        "\n",
        "#### Model definition\n",
        "embed_dim  = 300 # word embedding dimension\n",
        "nhid       = 50 # number of hidden units in the LSTM\n",
        "vocab_size = len(word_index)+1 # size of the vocabulary\n",
        "n_classes  = 5\n",
        "n_reduction=150\n",
        "\n",
        "model_3 = Sequential()\n",
        "model_3.add(Embedding(vocab_size,embed_dim,weights=[embedding_matrix],\n",
        "                            input_length=40,trainable=False))\n",
        "model_3.add(Dropout(0.3))\n",
        "model_3.add(Dense(n_reduction,activation=\"relu\"))\n",
        "model_3.add(Bidirectional(LSTM(nhid, dropout_W=0.3, dropout_U=0.3,return_sequences=True)))\n",
        "model_3.add(AttentionWithContext())\n",
        "model_3.add(Dense(n_classes, activation='sigmoid'))\n",
        "\n",
        "\n",
        "### Model fitting\n",
        "\n",
        "loss_classif     =  'categorical_crossentropy' \n",
        "optimizer        =  'Adam' \n",
        "metrics_classif  =  ['accuracy']\n",
        "\n",
        "model_3.compile(loss=loss_classif,\n",
        "              optimizer=optimizer,\n",
        "              metrics=metrics_classif)\n",
        "\n",
        "from keras.callbacks import ModelCheckpoint\n",
        "checkpoint = ModelCheckpoint('LSTM_2.hdf5', monitor=\"val_acc\",save_best_only=True, save_weights_only=False)\n",
        "bs = 64\n",
        "n_epochs = 10\n",
        "\n",
        "history_3 = model_3.fit(X_train_DL_2, Y_train_ones, batch_size=bs, epochs=n_epochs, validation_data=(X_dev_DL_2, Y_dev_ones),callbacks = [checkpoint])\n",
        "\n",
        "###### Model evaluation\n",
        "\n",
        "\n",
        "import matplotlib.pyplot as plt\n",
        "%matplotlib inline\n",
        "\n",
        "prediction_dev = model_3.predict(X_dev_DL_2)\n",
        "prediction_dev=[str(np.argmax(x)) for x in prediction_dev]\n",
        "prediction_train = model_3.predict(X_train_DL_2)\n",
        "prediction_train=[str(np.argmax(x)) for x in prediction_train]\n",
        "prediction_test = model_3.predict(X_test_DL_2)\n",
        "prediction_test=[str(np.argmax(x)) for x in prediction_test]\n",
        "\n",
        "print ('Accuracy in train set= ' + str(accuracy_score(Y_train,prediction_train)))\n",
        "print ('Accuracy in dev set= '+ str(accuracy_score(Y_dev,prediction_dev)))\n",
        "\n",
        "# Graphs\n",
        "f = plt.figure()\n",
        "plt.plot(history_3.history['acc'])\n",
        "plt.plot(history_3.history['val_acc'])\n",
        "plt.title('model accuracy')\n",
        "plt.ylabel('accuracy')\n",
        "plt.xlabel('epoch')\n",
        "plt.legend(['train', 'dev'], loc='upper left')\n",
        "\n",
        "plt.show()\n",
        "f.savefig(\"Accuracy_3.pdf\", bbox_inches='tight')\n",
        "\n",
        "f = plt.figure()\n",
        "plt.plot(history_3.history['loss'])\n",
        "plt.plot(history_3.history['val_loss'])\n",
        "plt.title('model loss')\n",
        "plt.ylabel('loss')\n",
        "plt.xlabel('epoch')\n",
        "plt.legend(['train', 'dev'], loc='upper left')\n",
        "plt.show()\n",
        "f.savefig(\"Loss_3.pdf\", bbox_inches='tight')\n",
        "\n",
        "# File\n",
        "\n",
        "path_output=os.path.join(PATH_TO_SENTENCES,\"LSTM_PRETRAINEMBEDDING_y_test_sst_2.txt\")\n",
        "lines = '\\n'.join([str(p) for p in prediction_test])\n",
        "with open(path_output,'w') as f:\n",
        "    f.writelines(lines)             \n",
        "      "
      ],
      "execution_count": 40,
      "outputs": [
        {
          "output_type": "stream",
          "text": [
            "Loaded 19765 pretrained word vectors\n",
            "Train on 8544 samples, validate on 1101 samples\n",
            "Epoch 1/10\n",
            "8544/8544 [==============================] - 20s 2ms/step - loss: 1.5023 - acc: 0.3250 - val_loss: 1.3814 - val_acc: 0.3642\n",
            "Epoch 2/10\n",
            "8544/8544 [==============================] - 15s 2ms/step - loss: 1.3540 - acc: 0.3888 - val_loss: 1.3434 - val_acc: 0.3706\n",
            "Epoch 3/10\n",
            "8544/8544 [==============================] - 15s 2ms/step - loss: 1.3257 - acc: 0.3942 - val_loss: 1.3310 - val_acc: 0.3833\n",
            "Epoch 4/10\n",
            "8544/8544 [==============================] - 15s 2ms/step - loss: 1.3057 - acc: 0.4061 - val_loss: 1.3170 - val_acc: 0.3833\n",
            "Epoch 5/10\n",
            "8544/8544 [==============================] - 15s 2ms/step - loss: 1.2822 - acc: 0.4142 - val_loss: 1.3043 - val_acc: 0.4060\n",
            "Epoch 6/10\n",
            "8544/8544 [==============================] - 15s 2ms/step - loss: 1.2721 - acc: 0.4367 - val_loss: 1.3055 - val_acc: 0.4233\n",
            "Epoch 7/10\n",
            "8544/8544 [==============================] - 15s 2ms/step - loss: 1.2478 - acc: 0.4510 - val_loss: 1.2796 - val_acc: 0.4223\n",
            "Epoch 8/10\n",
            "8544/8544 [==============================] - 15s 2ms/step - loss: 1.2309 - acc: 0.4609 - val_loss: 1.2775 - val_acc: 0.4323\n",
            "Epoch 9/10\n",
            "8544/8544 [==============================] - 15s 2ms/step - loss: 1.2151 - acc: 0.4707 - val_loss: 1.2925 - val_acc: 0.4432\n",
            "Epoch 10/10\n",
            "8544/8544 [==============================] - 15s 2ms/step - loss: 1.2000 - acc: 0.4786 - val_loss: 1.2710 - val_acc: 0.4450\n",
            "Accuracy in train set= 0.5163857677902621\n",
            "Accuracy in dev set= 0.44504995458673935\n"
          ],
          "name": "stdout"
        },
        {
          "output_type": "display_data",
          "data": {
            "image/png": "[encoded data removed]",
            "text/plain": [
              "<Figure size 432x288 with 1 Axes>"
            ]
          },
          "metadata": {
            "tags": []
          }
        },
        {
          "output_type": "display_data",
          "data": {
            "image/png": "[encoded data removed]",
            "text/plain": [
              "<Figure size 432x288 with 1 Axes>"
            ]
          },
          "metadata": {
            "tags": []
          }
        }
      ]
    }
  ]
}